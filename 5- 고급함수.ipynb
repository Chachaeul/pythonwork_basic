{
 "cells": [
  {
   "cell_type": "markdown",
   "metadata": {},
   "source": [
    "### 변수의 생존 범위\n",
    "\n",
    "     - global : 함수 밖의 전역변수를 함수 내 지역 변수로 사용하겠다. 만약 없다면 변수는 함수 내외 따로따로 사용됨.\n",
    "     - nonlocal \n",
    "      "
   ]
  },
  {
   "cell_type": "code",
   "execution_count": 7,
   "metadata": {},
   "outputs": [
    {
     "name": "stdout",
     "output_type": "stream",
     "text": [
      "100\n",
      "kbs2 함수 내부 : 2\n",
      "kbs1 함수 내부 : 1\n",
      "100\n"
     ]
    }
   ],
   "source": [
    "a = 100 \n",
    "\n",
    "def kbs1() :\n",
    "    a = 1\n",
    "    \n",
    "    def kbs2() :           #kbs1 안에 만들어진 함수. 따라서 단독으로 쓸 수 없다\n",
    "        a = 2\n",
    "        print(\"kbs2 함수 내부 :\", a)\n",
    "    \n",
    "    kbs2()                              #kbs2 불러오려면 kbs1 안에서 호출해줘야\n",
    "    print(\"kbs1 함수 내부 :\", a)\n",
    "    \n",
    "    \n",
    "    \n",
    "    \n",
    "##################################################################################\n",
    "\n",
    "\n",
    "print(a)\n",
    "kbs1()\n",
    "#kbs2()에러\n",
    "#kbs1.kbs2() 에러 .은 객체 클래스에서만 쓸 수 있다\n",
    "print(a)\n",
    "    "
   ]
  },
  {
   "cell_type": "code",
   "execution_count": 13,
   "metadata": {},
   "outputs": [
    {
     "name": "stdout",
     "output_type": "stream",
     "text": [
      "100\n"
     ]
    },
    {
     "ename": "UnboundLocalError",
     "evalue": "local variable 'a' referenced before assignment",
     "output_type": "error",
     "traceback": [
      "\u001b[1;31m---------------------------------------------------------------------------\u001b[0m",
      "\u001b[1;31mUnboundLocalError\u001b[0m                         Traceback (most recent call last)",
      "\u001b[1;32m<ipython-input-13-c5f55cba4ebe>\u001b[0m in \u001b[0;36m<module>\u001b[1;34m\u001b[0m\n\u001b[0;32m     16\u001b[0m \u001b[1;33m\u001b[0m\u001b[0m\n\u001b[0;32m     17\u001b[0m \u001b[0mprint\u001b[0m\u001b[1;33m(\u001b[0m\u001b[0ma\u001b[0m\u001b[1;33m)\u001b[0m\u001b[1;33m\u001b[0m\u001b[1;33m\u001b[0m\u001b[0m\n\u001b[1;32m---> 18\u001b[1;33m \u001b[0mkbs1\u001b[0m\u001b[1;33m(\u001b[0m\u001b[1;33m)\u001b[0m\u001b[1;33m\u001b[0m\u001b[1;33m\u001b[0m\u001b[0m\n\u001b[0m\u001b[0;32m     19\u001b[0m \u001b[1;31m#kbs2()에러\u001b[0m\u001b[1;33m\u001b[0m\u001b[1;33m\u001b[0m\u001b[1;33m\u001b[0m\u001b[0m\n\u001b[0;32m     20\u001b[0m \u001b[1;31m#kbs1.kbs2() 에러 .은 객체 클래스에서만 쓸 수 있다\u001b[0m\u001b[1;33m\u001b[0m\u001b[1;33m\u001b[0m\u001b[1;33m\u001b[0m\u001b[0m\n",
      "\u001b[1;32m<ipython-input-13-c5f55cba4ebe>\u001b[0m in \u001b[0;36mkbs1\u001b[1;34m()\u001b[0m\n\u001b[0;32m     11\u001b[0m         \u001b[0ma\u001b[0m \u001b[1;33m=\u001b[0m \u001b[1;36m2\u001b[0m\u001b[1;33m\u001b[0m\u001b[1;33m\u001b[0m\u001b[0m\n\u001b[0;32m     12\u001b[0m \u001b[1;33m\u001b[0m\u001b[0m\n\u001b[1;32m---> 13\u001b[1;33m     \u001b[0mkbs2\u001b[0m\u001b[1;33m(\u001b[0m\u001b[1;33m)\u001b[0m                              \u001b[1;31m#kbs2 불러오려면 kbs1 안에서 호출해줘야\u001b[0m\u001b[1;33m\u001b[0m\u001b[1;33m\u001b[0m\u001b[0m\n\u001b[0m\u001b[0;32m     14\u001b[0m     \u001b[0mprint\u001b[0m\u001b[1;33m(\u001b[0m\u001b[1;34m\"kbs1 함수 내부 :\"\u001b[0m\u001b[1;33m,\u001b[0m \u001b[0ma\u001b[0m\u001b[1;33m)\u001b[0m\u001b[1;33m\u001b[0m\u001b[1;33m\u001b[0m\u001b[0m\n\u001b[0;32m     15\u001b[0m \u001b[1;33m\u001b[0m\u001b[0m\n",
      "\u001b[1;32m<ipython-input-13-c5f55cba4ebe>\u001b[0m in \u001b[0;36mkbs2\u001b[1;34m()\u001b[0m\n\u001b[0;32m      8\u001b[0m     \u001b[1;32mdef\u001b[0m \u001b[0mkbs2\u001b[0m\u001b[1;33m(\u001b[0m\u001b[1;33m)\u001b[0m \u001b[1;33m:\u001b[0m           \u001b[1;31m#kbs1 안에 만들어진 함수. 따라서 단독으로 쓸 수 없다\u001b[0m\u001b[1;33m\u001b[0m\u001b[1;33m\u001b[0m\u001b[0m\n\u001b[0;32m      9\u001b[0m         \u001b[1;31m# a = 2\u001b[0m\u001b[1;33m\u001b[0m\u001b[1;33m\u001b[0m\u001b[1;33m\u001b[0m\u001b[0m\n\u001b[1;32m---> 10\u001b[1;33m         \u001b[0mprint\u001b[0m\u001b[1;33m(\u001b[0m\u001b[1;34m\"kbs2 함수 내부 :\"\u001b[0m\u001b[1;33m,\u001b[0m \u001b[0ma\u001b[0m\u001b[1;33m)\u001b[0m\u001b[1;33m\u001b[0m\u001b[1;33m\u001b[0m\u001b[0m\n\u001b[0m\u001b[0;32m     11\u001b[0m         \u001b[0ma\u001b[0m \u001b[1;33m=\u001b[0m \u001b[1;36m2\u001b[0m\u001b[1;33m\u001b[0m\u001b[1;33m\u001b[0m\u001b[0m\n\u001b[0;32m     12\u001b[0m \u001b[1;33m\u001b[0m\u001b[0m\n",
      "\u001b[1;31mUnboundLocalError\u001b[0m: local variable 'a' referenced before assignment"
     ]
    }
   ],
   "source": [
    "# 위와 동일 kbs2의 변수를 삭제\n",
    "\n",
    "a = 100 \n",
    "\n",
    "def kbs1() :\n",
    "    a = 1   #heap에 저장(안전,보호)\n",
    "    \n",
    "    def kbs2() :           #kbs1 안에 만들어진 함수. 따라서 단독으로 쓸 수 없다\n",
    "        # a = 2\n",
    "        print(\"kbs2 함수 내부 :\", a) # kbs1(가장 가까운)의 변수를 따름. 그러나 출력만. 가져다 쓸 수(수정, 변경)는없다.\n",
    "        a = 2       #에러\n",
    "    \n",
    "    kbs2()                              #kbs2 불러오려면 kbs1 안에서 호출해줘야\n",
    "    print(\"kbs1 함수 내부 :\", a)\n",
    "    \n",
    "    \n",
    "print(a)\n",
    "kbs1()\n",
    "\n",
    "\n",
    "    "
   ]
  },
  {
   "cell_type": "code",
   "execution_count": 24,
   "metadata": {},
   "outputs": [
    {
     "name": "stdout",
     "output_type": "stream",
     "text": [
      "100\n",
      "kbs2 함수 내부 : 1\n",
      "kbs1 함수 내부 : 2\n",
      "100\n"
     ]
    }
   ],
   "source": [
    "# 위와 동일 kbs1의 변수를 kbs2에서 쓰고 싶다\n",
    "\n",
    "a = 100 \n",
    "\n",
    "def kbs1() :\n",
    "    a = 1   #heap에 저장(안전,보호)\n",
    "    \n",
    "    def kbs2() :           #kbs1 안에 만들어진 함수. 따라서 단독으로 쓸 수 없다\n",
    "        # a = 2\n",
    "        \n",
    "        nonlocal a    #kbs1의 변수를 kbs2에서 쓰고 싶다 global은 완전 전역변수 갖다 쓰는거\n",
    "        #global a\n",
    "        print(\"kbs2 함수 내부 :\", a) # kbs1(가장 가까운)의 변수를 따름. 그러나 출력만. 가져다 쓸 수(수정, 변경)는없다.\n",
    "        a = 2    #kbs1의 변수를 kbs2에서 수정가능. a=2로 바뀜.\n",
    "    \n",
    "    kbs2()                              #kbs2 불러오려면 kbs1 안에서 호출해줘야\n",
    "    print(\"kbs1 함수 내부 :\", a)\n",
    "    \n",
    "    \n",
    "print(a)\n",
    "kbs1()\n",
    "print(a)"
   ]
  },
  {
   "cell_type": "code",
   "execution_count": null,
   "metadata": {},
   "outputs": [],
   "source": []
  },
  {
   "cell_type": "markdown",
   "metadata": {},
   "source": [
    "### Closer\n",
    "\n",
    "     함수 밖에서 임의의 함수 안에 선언된 지역변수를 계속 참조 할 수 있게 하는 방법\n",
    "     \n",
    "     nonlocal, return"
   ]
  },
  {
   "cell_type": "code",
   "execution_count": 40,
   "metadata": {},
   "outputs": [
    {
     "name": "stdout",
     "output_type": "stream",
     "text": [
      "1\n",
      "1\n",
      "1\n"
     ]
    }
   ],
   "source": [
    "def out() : \n",
    "    count = 0\n",
    "    \n",
    "    def inn() :\n",
    "        nonlocal count   #이것만 있을 때는 한번 함수가 끝나면 inn안에서 있던 count는 사라짐(지역변수)\n",
    "       \n",
    "        \n",
    "        count += 1\n",
    "        print(count)\n",
    "        \n",
    "    inn()\n",
    "    \n",
    "    \n",
    "#################################################    \n",
    "\n",
    "# out 함수를 호출할 때 마다 count 1씩 증가 시키고 싶다. 함수를 몇번 호출했는 지 알고 싶다\n",
    "\n",
    "out()\n",
    "out()\n",
    "out()\n",
    "        \n",
    "        "
   ]
  },
  {
   "cell_type": "code",
   "execution_count": 41,
   "metadata": {},
   "outputs": [
    {
     "name": "stdout",
     "output_type": "stream",
     "text": [
      "1\n",
      "2\n",
      "3\n"
     ]
    }
   ],
   "source": [
    "count = 0\n",
    "\n",
    "def out() : \n",
    "    count = 0\n",
    "    \n",
    "    def inn() :\n",
    "        global count   #이것만 있을 때는 한번 함수가 끝나면 inn안에서 있던 count는 사라짐(지역변수)\n",
    "        \n",
    "        \n",
    "        count += 1\n",
    "        print(count)\n",
    "        \n",
    "    inn()\n",
    "    \n",
    "    \n",
    "#################################################    \n",
    "\n",
    "# out 함수를 호출할 때 마다 count 1씩 증가 시키고 싶다. 함수를 몇번 호출했는 지 알고 싶다\n",
    "\n",
    "out()\n",
    "out()\n",
    "out()\n",
    "        "
   ]
  },
  {
   "cell_type": "code",
   "execution_count": 47,
   "metadata": {},
   "outputs": [
    {
     "name": "stdout",
     "output_type": "stream",
     "text": [
      "1\n",
      "2\n",
      "3\n",
      "================\n",
      "1\n",
      "2\n",
      "3\n"
     ]
    }
   ],
   "source": [
    "def out() : \n",
    "    count = 0\n",
    "    \n",
    "    def inn() :\n",
    "        nonlocal count   #이것만 있을 때는 한번 함수가 끝나면 inn안에서 있던 count는 사라짐(지역변수)\n",
    "       \n",
    "        \n",
    "        count += 1\n",
    "        print(count)\n",
    "        \n",
    "    inn()    \n",
    "    return inn #out을 호출했지만 inn을 계속 참조하게 됨\n",
    "    \n",
    "    \n",
    "#################################################    \n",
    "\n",
    "# out 함수를 호출할 때 마다 count 1씩 증가 시키고 싶다. 함수를 몇번 호출했는 지 알고 싶다\n",
    "\n",
    "a = out() #a는 inn의 저장공간 \n",
    "a()\n",
    "a()\n",
    "\n",
    "print(\"================\")\n",
    "\n",
    "\n",
    "b = out() #a는 inn의 저장공간 \n",
    "b()\n",
    "b()"
   ]
  },
  {
   "cell_type": "code",
   "execution_count": 51,
   "metadata": {},
   "outputs": [
    {
     "name": "stdout",
     "output_type": "stream",
     "text": [
      "2500.0\n",
      "3600.0\n",
      "==============================\n",
      "1250.0\n",
      "1800.0\n"
     ]
    }
   ],
   "source": [
    "def outer(tax):   # 어떤 시점에서 세율이 같을 때 계속 같은 세율을 입력할 필요가 없도록 중첩시켜줌\n",
    "    \n",
    "    def inner(su,dan):\n",
    "        amount=su*dan*tax\n",
    "        return amount\n",
    "    \n",
    "    return inner\n",
    "\n",
    "#########################################\n",
    "\n",
    "\n",
    "tax_rate = outer(0.1)   #return 값이 inner\n",
    "mouse = tax_rate(5, 5000)\n",
    "print(mouse)\n",
    "usb = tax_rate(3, 12000)\n",
    "print(usb)\n",
    "\n",
    "print(\"==============================\")\n",
    "#세율 변경\n",
    "\n",
    "tax_rate2=outer(0.05)\n",
    "mouse = tax_rate2(5, 5000)\n",
    "print(mouse)\n",
    "usb = tax_rate2(3, 12000)\n",
    "print(usb)"
   ]
  },
  {
   "cell_type": "markdown",
   "metadata": {},
   "source": [
    "### 람다 함수 (익명함수)\n",
    "\n",
    "    - 한번 쓰고 말거라서 익명함수         \n",
    "    - 코드를 짧게 쓰려고"
   ]
  },
  {
   "cell_type": "code",
   "execution_count": 52,
   "metadata": {},
   "outputs": [
    {
     "name": "stdout",
     "output_type": "stream",
     "text": [
      "30\n"
     ]
    }
   ],
   "source": [
    "def hap(x, y) :\n",
    "    return x+y\n",
    "\n",
    "########################\n",
    "\n",
    "\n",
    "result = hap(10,20)\n",
    "print(result)"
   ]
  },
  {
   "cell_type": "code",
   "execution_count": 53,
   "metadata": {},
   "outputs": [
    {
     "data": {
      "text/plain": [
       "30"
      ]
     },
     "execution_count": 53,
     "metadata": {},
     "output_type": "execute_result"
    }
   ],
   "source": [
    "(lambda x,y : x+y )(10,20)"
   ]
  },
  {
   "cell_type": "code",
   "execution_count": 54,
   "metadata": {},
   "outputs": [
    {
     "data": {
      "text/plain": [
       "30"
      ]
     },
     "execution_count": 54,
     "metadata": {},
     "output_type": "execute_result"
    }
   ],
   "source": [
    "a= lambda x,y : x+y\n",
    "a(10,20)"
   ]
  },
  {
   "cell_type": "code",
   "execution_count": 55,
   "metadata": {},
   "outputs": [
    {
     "data": {
      "text/plain": [
       "110"
      ]
     },
     "execution_count": 55,
     "metadata": {},
     "output_type": "execute_result"
    }
   ],
   "source": [
    "a= lambda x,y=100 : x+y\n",
    "a(10)"
   ]
  },
  {
   "cell_type": "code",
   "execution_count": 56,
   "metadata": {},
   "outputs": [
    {
     "name": "stdout",
     "output_type": "stream",
     "text": [
      "1 (2, 3, 4, 5) {'m': 6, 'n': 7, 'o': 8}\n"
     ]
    }
   ],
   "source": [
    "def lambda_test(a, *b, **c) :\n",
    "    print(a, b, c)\n",
    "    \n",
    "    \n",
    "lambda_test(1,2,3,4,5,m=6,n=7,o=8)    "
   ]
  },
  {
   "cell_type": "code",
   "execution_count": 57,
   "metadata": {},
   "outputs": [
    {
     "name": "stdout",
     "output_type": "stream",
     "text": [
      "1 (2, 3, 4, 5) {'m': 6, 'n': 7, 'o': 8}\n"
     ]
    }
   ],
   "source": [
    "(lambda a,*b,**c : print(a,b,c) )(1,2,3,4,5,m=6,n=7,o=8)"
   ]
  },
  {
   "cell_type": "code",
   "execution_count": 62,
   "metadata": {},
   "outputs": [
    {
     "name": "stdout",
     "output_type": "stream",
     "text": [
      "1\n",
      "4\n",
      "3\n",
      "16\n",
      "5\n",
      "36\n"
     ]
    }
   ],
   "source": [
    "data=[1, 2, 3, 4, 5, 6]\n",
    "\n",
    "def lam_test(x) :\n",
    "    if x%2 == 0 :\n",
    "        return x**2\n",
    "    else:\n",
    "        return x\n",
    "    \n",
    "    \n",
    "for i in data :\n",
    "    print(lam_test(i))"
   ]
  },
  {
   "cell_type": "code",
   "execution_count": 65,
   "metadata": {},
   "outputs": [
    {
     "name": "stdout",
     "output_type": "stream",
     "text": [
      "[1, 4, 3, 16, 5, 36]\n",
      "[1, 4, 3, 16, 5, 36]\n"
     ]
    }
   ],
   "source": [
    "data=[1, 2, 3, 4, 5, 6]\n",
    "\n",
    "def lam_test(x) :\n",
    "    if x%2 == 0 :\n",
    "        return x**2\n",
    "    else:\n",
    "        return x\n",
    "    \n",
    "result=[]    \n",
    "for i in data :\n",
    "    result.append(lam_test(i))\n",
    "\n",
    "\n",
    "print(result)\n",
    "    \n",
    "print(list(map(lam_test, data)))"
   ]
  },
  {
   "cell_type": "code",
   "execution_count": 75,
   "metadata": {},
   "outputs": [
    {
     "name": "stdout",
     "output_type": "stream",
     "text": [
      "[1, 4, 3, 16, 5, 36]\n"
     ]
    }
   ],
   "source": [
    "print(list(map(lambda x: x**2 if x%2==0 else x, data)))"
   ]
  },
  {
   "cell_type": "markdown",
   "metadata": {},
   "source": [
    "### 함수 장식자 (decorator)\n",
    "\n",
    "        - 일종의 함수 감싸기(wrapping)를 해주는 디자인 패턴\n",
    "        - 메타 프로그래밍 기법\n",
    "        - @classmethod  @staticmethod @abstract , ..."
   ]
  },
  {
   "cell_type": "code",
   "execution_count": 76,
   "metadata": {},
   "outputs": [],
   "source": [
    "def make2(fn):     #-> 함수를 호출하는 것\n",
    "    return lambda : \"안녕 \"+ fn()\n",
    "\n",
    "\n",
    "def make1(fn):\n",
    "    return lambda : \"반가워~~ \"+ fn()  #lambda 자체가 함수 따라서 주소가 결과값\n",
    "\n",
    "\n",
    "def hello():\n",
    "    return \"홍길동\""
   ]
  },
  {
   "cell_type": "code",
   "execution_count": 82,
   "metadata": {},
   "outputs": [
    {
     "data": {
      "text/plain": [
       "'반가워~~ 홍길동'"
      ]
     },
     "execution_count": 82,
     "metadata": {},
     "output_type": "execute_result"
    }
   ],
   "source": [
    "(make1(hello))()                        #make1(hello) 가 함수 이므로 뒤에 ()붙여주면 호출됨.      "
   ]
  },
  {
   "cell_type": "code",
   "execution_count": 85,
   "metadata": {},
   "outputs": [
    {
     "data": {
      "text/plain": [
       "'안녕 반가워~~ 홍길동'"
      ]
     },
     "execution_count": 85,
     "metadata": {},
     "output_type": "execute_result"
    }
   ],
   "source": [
    "h1 = make1(hello)\n",
    "h2 = make2(h1)\n",
    "h2()"
   ]
  },
  {
   "cell_type": "code",
   "execution_count": 87,
   "metadata": {},
   "outputs": [
    {
     "data": {
      "text/plain": [
       "'안녕 반가워~~ 홍길동'"
      ]
     },
     "execution_count": 87,
     "metadata": {},
     "output_type": "execute_result"
    }
   ],
   "source": [
    "hi = make2(make1(hello))\n",
    "hi()"
   ]
  },
  {
   "cell_type": "code",
   "execution_count": 90,
   "metadata": {},
   "outputs": [
    {
     "name": "stdout",
     "output_type": "stream",
     "text": [
      "안녕 반가워~~ 임꺽정\n"
     ]
    }
   ],
   "source": [
    "@make2\n",
    "@make1     # 데코레이터를 활용하면 굳이 함수를 make2(make1(hello2))이렇게 쓰지 않아도 됨. 맨 안쪽의 hello2만 호출하면 앞은 자동\n",
    "\n",
    "def hello2():\n",
    "    return \"임꺽정\"\n",
    "\n",
    "\n",
    "#####################\n",
    "\n",
    "print(hello2())"
   ]
  },
  {
   "cell_type": "code",
   "execution_count": 94,
   "metadata": {},
   "outputs": [],
   "source": [
    "def outer(fn):\n",
    "    def inner(n1,n2) :\n",
    "        print(\"결과는 {} 입니다. \".format(fn(n1,n2)))   \n",
    "        \n",
    "    return inner\n",
    "\n",
    "def func(n1,n2) : \n",
    "    return n1+n2"
   ]
  },
  {
   "cell_type": "code",
   "execution_count": 95,
   "metadata": {},
   "outputs": [
    {
     "name": "stdout",
     "output_type": "stream",
     "text": [
      "결과는 13 입니다. \n"
     ]
    }
   ],
   "source": [
    "#inner가 func를 직접 호출해서 쓸 수 있게\n",
    "\n",
    "result = outer(func)    #outer의 result가 inner이므로 result는 inner이 됨\n",
    "\n",
    "result(10,3)\n",
    "\n",
    "\n"
   ]
  },
  {
   "cell_type": "code",
   "execution_count": 96,
   "metadata": {},
   "outputs": [
    {
     "data": {
      "text/plain": [
       "13"
      ]
     },
     "execution_count": 96,
     "metadata": {},
     "output_type": "execute_result"
    }
   ],
   "source": [
    "func(10,3)"
   ]
  },
  {
   "cell_type": "code",
   "execution_count": 97,
   "metadata": {},
   "outputs": [],
   "source": [
    "def outer(fn):\n",
    "    def inner(n1,n2) :\n",
    "        print(\"결과는 {} 입니다. \".format(fn(n1,n2)))   \n",
    "        \n",
    "    return inner\n",
    "\n",
    "@outer\n",
    "def func(n1,n2) : \n",
    "    return n1+n2"
   ]
  },
  {
   "cell_type": "code",
   "execution_count": 98,
   "metadata": {},
   "outputs": [
    {
     "name": "stdout",
     "output_type": "stream",
     "text": [
      "결과는 13 입니다. \n"
     ]
    }
   ],
   "source": [
    "func(10,3)  #맨 안쪽의 func만 호출하면 앞outer는 데코레이터로 자동호출."
   ]
  },
  {
   "cell_type": "code",
   "execution_count": null,
   "metadata": {},
   "outputs": [],
   "source": []
  }
 ],
 "metadata": {
  "kernelspec": {
   "display_name": "Python 3",
   "language": "python",
   "name": "python3"
  },
  "language_info": {
   "codemirror_mode": {
    "name": "ipython",
    "version": 3
   },
   "file_extension": ".py",
   "mimetype": "text/x-python",
   "name": "python",
   "nbconvert_exporter": "python",
   "pygments_lexer": "ipython3",
   "version": "3.7.6"
  }
 },
 "nbformat": 4,
 "nbformat_minor": 4
}
