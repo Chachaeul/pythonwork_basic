{
 "cells": [
  {
   "cell_type": "markdown",
   "metadata": {},
   "source": [
    "### 예외처리를 하는 이유\n",
    "    \n",
    "    - 자연스러운 예외 메시지를 출력\n",
    "    - 시스템 에러 메시지에서는 코드가 노출됨. (보안문제)\n",
    "    - 프로그램의 비정상적인 종료를 방지\n",
    "    \n",
    "### 문법\n",
    "\n",
    "        try:\n",
    "            코드\n",
    "        \n",
    "        except [예외처리 클래스 [as 변수] ] :\n",
    "            코드\n",
    "            ...\n",
    "            \n",
    "        [else : (예외가 발생하지 않으면)\n",
    "            코드\n",
    "            ...\n",
    "        ]   else가 없이 try~except 밖에 있으면 무조건 실행됨. else가 있으면 에러가 나지 않을 때만 실행 됨.\n",
    "        \n",
    "        \n",
    "        [finally : (에러가 나든 나지 않든 예외 발생과는 무관히 무조건 발생하는 코드)\n",
    "            코드\n",
    "            ...\n",
    "        ]\n",
    "\n",
    "\n",
    "### traceback \n",
    "        예외가 발생했을 때 예외정보를 추적\n",
    "\n",
    "### raise \n",
    "        떠오르게 하다 (예외를 일부러 발생시키다)\n",
    "        일부러 예외 발생 :\n",
    "        \n",
    "        - 예외에 대한 test\n",
    "        - 사용자 정의 예외처리 클래스 작성\n",
    "        "
   ]
  },
  {
   "cell_type": "code",
   "execution_count": 3,
   "metadata": {},
   "outputs": [
    {
     "name": "stdout",
     "output_type": "stream",
     "text": [
      "5.0\n",
      "나머지 코드 실행\n",
      "2.5\n",
      "나머지 코드 실행\n",
      "0으로 나누면 안됩니다.\n"
     ]
    }
   ],
   "source": [
    "def test(num):\n",
    "    try:\n",
    "        a = 10/num\n",
    "        print(a)\n",
    "    except : \n",
    "        print(\"0으로 나누면 안됩니다.\")\n",
    "    \n",
    "    else : \n",
    "        \n",
    "        print(\"나머지 코드 실행\")     \n",
    "        # else가 없이 try~except 밖에 있으면 무조건 실행됨. else가 있으면 에러가 나지 않을 때만 실행 됨.\n",
    "    \n",
    "\n",
    "##################################\n",
    "\n",
    "test(2)\n",
    "test(4)\n",
    "test(0)"
   ]
  },
  {
   "cell_type": "code",
   "execution_count": 22,
   "metadata": {},
   "outputs": [
    {
     "name": "stdout",
     "output_type": "stream",
     "text": [
      "0으로 나누면 안됩니다. division by zero\n",
      "1.4285714285714286\n",
      "인덱스 범위를 초과\n"
     ]
    }
   ],
   "source": [
    "def test(num):\n",
    "    try:\n",
    "        a = 10/num\n",
    "        print(a)\n",
    "        \n",
    "        b=[0, 1, 2, 3, 4, 5]\n",
    "        print(b[num])\n",
    "    \n",
    "    except ZeroDivisionError as ex:  #직접 에러를 발생시켜서 긁어와  #변수를 달아주면 에러 메시지 출력 가능\n",
    "         print(\"0으로 나누면 안됩니다.\", ex)\n",
    "    \n",
    "    \n",
    "    except IndexError :\n",
    "        print(\"인덱스 범위를 초과\")\n",
    "        \n",
    "        \n",
    "    except Exception:\n",
    "        print(\"일반 오류입니다.\")\n",
    "    \n",
    "test(0)   \n",
    "test(7)\n",
    "        \n",
    "        "
   ]
  },
  {
   "cell_type": "code",
   "execution_count": 11,
   "metadata": {},
   "outputs": [
    {
     "name": "stdout",
     "output_type": "stream",
     "text": [
      "0으로 나누면 안됩니다. division by zero\n",
      "여기는 finally 영역입니다.\n",
      "10.0\n",
      "1\n",
      "여기는 finally 영역입니다.\n",
      "나머지 코드 실행\n"
     ]
    }
   ],
   "source": [
    "#finally\n",
    "\n",
    "def test(num):\n",
    "    try:\n",
    "        a = 10/num\n",
    "        print(a)\n",
    "        \n",
    "        b=[0, 1, 2, 3, 4, 5]\n",
    "        print(b[num])\n",
    "    \n",
    "    except ZeroDivisionError as ex:  #직접 에러를 발생시켜서 긁어와\n",
    "        print(\"0으로 나누면 안됩니다.\", ex)\n",
    "        return   \n",
    "        #sys.exit() 종료될 때 텀을 안줌. 시스템 부하가 많다    \n",
    "    \n",
    "    except IndexError :\n",
    "        print(\"인덱스 범위를 초과\")\n",
    "        return\n",
    "        \n",
    "    except Exception:\n",
    "        print(\"일반 오류입니다.\")\n",
    "        return\n",
    "    finally :\n",
    "        print(\"여기는 finally 영역입니다.\")\n",
    " \n",
    "\n",
    "    print(\"나머지 코드 실행\")     \n",
    "    \n",
    "test(0)   \n",
    "test(1)"
   ]
  },
  {
   "cell_type": "code",
   "execution_count": 16,
   "metadata": {},
   "outputs": [
    {
     "name": "stdout",
     "output_type": "stream",
     "text": [
      "third\n",
      "에러 원인 :  division by zero\n"
     ]
    },
    {
     "name": "stderr",
     "output_type": "stream",
     "text": [
      "Traceback (most recent call last):\n",
      "  File \"<ipython-input-16-b6831f0e2b86>\", line 8, in third\n",
      "    a =10/0\n",
      "ZeroDivisionError: division by zero\n"
     ]
    }
   ],
   "source": [
    "#traceback : 내장 x. 모듈 불러와야.\n",
    "\n",
    "import traceback\n",
    "\n",
    "def third() :\n",
    "    print(\"third\")\n",
    "    try :\n",
    "        a =10/0\n",
    "        print(a)\n",
    "        \n",
    "    except ZeroDivisionError as err :\n",
    "        print(\"에러 원인 : \", err)\n",
    "        traceback.print_exc()\n",
    "\n",
    "\n",
    "def second():\n",
    "    third()\n",
    "\n",
    "def first():\n",
    "    second()\n",
    "\n",
    "##################################\n",
    "\n",
    "first()\n",
    "\n",
    "\n",
    "\n",
    "\n"
   ]
  },
  {
   "cell_type": "code",
   "execution_count": 20,
   "metadata": {},
   "outputs": [
    {
     "name": "stdout",
     "output_type": "stream",
     "text": [
      "5.0\n",
      "0으로 나누면 안됩니다. \n"
     ]
    }
   ],
   "source": [
    "#raise : 예외 test\n",
    "\n",
    "def test() : \n",
    "    try :\n",
    "        a=10/2\n",
    "        print(a)\n",
    "        raise ZeroDivisionError    # 에러를 일으킴으로써 except가 잘 돌아 가는 지(예외처리 잘 했는지)\n",
    "        \n",
    "    except ZeroDivisionError as err :\n",
    "        print(\"0으로 나누면 안됩니다.\", err)\n",
    "        \n",
    "############################\n",
    "\n",
    "test()"
   ]
  },
  {
   "cell_type": "code",
   "execution_count": 21,
   "metadata": {},
   "outputs": [],
   "source": [
    "#음수로 나누었을 때 예외 발생"
   ]
  },
  {
   "cell_type": "code",
   "execution_count": 26,
   "metadata": {},
   "outputs": [
    {
     "name": "stdout",
     "output_type": "stream",
     "text": [
      "프로그램 시작\n",
      "5.0\n",
      "음수로 나눌 수 없다.\n"
     ]
    }
   ],
   "source": [
    "class NegativeDivideError(Exception) :    # 예외처리 상위 클래스exceptinon을 상속해야\n",
    "    pass\n",
    "\n",
    "\n",
    "###############################################\n",
    "    \n",
    "\n",
    "\n",
    "    \n",
    "def positiveDivide(a,b) : \n",
    "    if b<0 :\n",
    "        raise NegativeDivideError\n",
    "        \n",
    "    return a/b\n",
    "#################\n",
    "\n",
    "\n",
    "def main() : \n",
    "    print(\"프로그램 시작\")\n",
    "    \n",
    "    \n",
    "    try:\n",
    "        result = positiveDivide(10,2)\n",
    "        print(result)\n",
    "\n",
    "\n",
    "        result = positiveDivide(10,-2)\n",
    "        print(result)\n",
    "    except NegativeDivideError : \n",
    "        print(\"음수로 나눌 수 없다.\")  #원래 있는 에러가 아님. 우리가 만들어내야하는 에러\n",
    "        \n",
    "        \n",
    "        \n",
    "        \n",
    "#################    \n",
    "\n",
    "\n",
    "if __name__==\"__main__\":\n",
    "    main()\n",
    "\n",
    "\n"
   ]
  },
  {
   "cell_type": "code",
   "execution_count": null,
   "metadata": {},
   "outputs": [],
   "source": []
  },
  {
   "cell_type": "code",
   "execution_count": null,
   "metadata": {},
   "outputs": [],
   "source": []
  },
  {
   "cell_type": "code",
   "execution_count": null,
   "metadata": {},
   "outputs": [],
   "source": []
  }
 ],
 "metadata": {
  "kernelspec": {
   "display_name": "Python 3",
   "language": "python",
   "name": "python3"
  },
  "language_info": {
   "codemirror_mode": {
    "name": "ipython",
    "version": 3
   },
   "file_extension": ".py",
   "mimetype": "text/x-python",
   "name": "python",
   "nbconvert_exporter": "python",
   "pygments_lexer": "ipython3",
   "version": "3.7.6"
  }
 },
 "nbformat": 4,
 "nbformat_minor": 4
}
