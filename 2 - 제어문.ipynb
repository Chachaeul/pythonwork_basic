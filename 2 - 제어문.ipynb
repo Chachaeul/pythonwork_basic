{
 "cells": [
  {
   "cell_type": "markdown",
   "metadata": {},
   "source": [
    "# Control Statement\n",
    "\n",
    "### 1) 조건문\n",
    " \n",
    "         if            \n",
    "           \n",
    "### 2) 반복분\n",
    "\n",
    "         while, for\n"
   ]
  },
  {
   "cell_type": "markdown",
   "metadata": {},
   "source": [
    "### if\n",
    "\n",
    "  1) \n",
    "      if 조건식 :                   ( : 필수, 들여쓰기 동일하게 필수)\n",
    "          문장\n",
    "          문장\n",
    "          ...\n",
    "          \n",
    "      if 조건식 : 문장              (실행할 문장이 하나라면 한줄로 작성해도 됨)\n",
    "      \n",
    "     \n",
    "  2) \n",
    "      if 조건식:\n",
    "          문장\n",
    "          문장\n",
    "      else : \n",
    "          문장\n",
    "          \n",
    "  3) 다중 조건문\n",
    "  \n",
    "      if  조건식 : \n",
    "          문장\n",
    "          문장\n",
    "      elif 조건식 :\n",
    "          문장\n",
    "      elif 조건식 :\n",
    "          문장\n",
    "      (else :\n",
    "          문장\n",
    "          문장\n",
    "          ...)\n",
    "  \n",
    "  4) 조건문의 중첩(Nested)\n",
    "  \n",
    "      if 조건문 :\n",
    "          문장\n",
    "              \n",
    "              if 조건문:\n",
    "                  문장\n",
    "      else :\n",
    "          문장\n",
    "          \n",
    "      "
   ]
  },
  {
   "cell_type": "code",
   "execution_count": null,
   "metadata": {},
   "outputs": [],
   "source": [
    "# 입력받은 숫자가 짝수인지 홀수인지 판별하는 프로그램을 작성\n",
    "\n",
    "num1 = int(input(\"숫자 입력 : \"))\n",
    "\n",
    "if num1 % 2 == 0 :\n",
    "    print(\"짝수\")\n",
    "    \n",
    "else : print (\"홀수\")\n",
    "    "
   ]
  },
  {
   "cell_type": "code",
   "execution_count": null,
   "metadata": {},
   "outputs": [],
   "source": [
    "# 입력받은 값이 a, b, c, d 이면 \"정답\"이라고 출력, 그렇지 않으면 \"오답\"이라고 출력\n",
    "\n",
    "p = input(\"입력하세요 : \")\n",
    "\n",
    "if p == \"a\" or p ==\"b\" or p ==\"c\" or p ==\"d\" : \n",
    "    print(\"정답\")\n",
    "else : print(\"오답\")"
   ]
  },
  {
   "cell_type": "code",
   "execution_count": null,
   "metadata": {},
   "outputs": [],
   "source": [
    "result = input(\"답 입력 : \")\n",
    "correct = ('a', 'b', 'c', 'd')\n",
    "\n",
    "if result in correct : print(\"정답\")\n",
    "else : print(\"오답\")"
   ]
  },
  {
   "cell_type": "code",
   "execution_count": null,
   "metadata": {},
   "outputs": [],
   "source": [
    "result = input(\"답 입력 : \")\n",
    "correct = ('a', 'b', 'c', 'd')\n",
    "\n",
    "if correct.count(result) > 0 : print(\"정답\")\n",
    "else :  print(\"오답\")    "
   ]
  },
  {
   "cell_type": "code",
   "execution_count": null,
   "metadata": {},
   "outputs": [],
   "source": [
    "result = input(\"답 입력 : \")\n",
    "correct = ('a', 'b', 'c', 'd')\n",
    "\n",
    "if result >= 'a' and result <= 'd' : print(\"정답\")\n",
    "else :  print(\"오답\")   "
   ]
  },
  {
   "cell_type": "code",
   "execution_count": null,
   "metadata": {},
   "outputs": [],
   "source": [
    "print(ord('A'), ord('a'))\n",
    "print(chr(65))"
   ]
  },
  {
   "cell_type": "code",
   "execution_count": null,
   "metadata": {},
   "outputs": [],
   "source": [
    "# 다중 if문\n",
    "\n",
    "avg = 73\n",
    "\n",
    "if avg >= 90 :\n",
    "    print(\"A\")\n",
    "elif avg >= 80 :\n",
    "    print(\"B\")\n",
    "elif avg >= 70 :\n",
    "    print(\"C\")\n",
    "else : \n",
    "    print(\"F\")"
   ]
  },
  {
   "cell_type": "markdown",
   "metadata": {},
   "source": [
    "### 풀어보기\n",
    "\n",
    "윤년 계산 프로그램\n",
    "-------------------\n",
    "1) 기원 연수가 4로 나누어 떨어지는 해는 우선 윤년으로 한다.\n",
    "2) 그 중에서 100으로 나누어 떨어지는 해는 평년으로 한다.\n",
    "3) 다만 400으로 나누어 떨어지는 해는 다시 윤년으로 정한다.\n",
    "\n",
    "연도를 입력 : 2019(엔터)\n",
    "결과 : 윤년입니다.(윤년이 아닙니다)\n",
    "\n"
   ]
  },
  {
   "cell_type": "code",
   "execution_count": null,
   "metadata": {},
   "outputs": [],
   "source": [
    "year = int(input(\"연도를 입력 : \"))\n",
    "year1 = year % 4\n",
    "\n",
    "if year1 == 0 :\n",
    "    if year1 % 100 == 0 :\n",
    "        if year1 % 400 == 0 :\n",
    "             print(\"결과 : 윤년입니다\")\n",
    "        else :    \n",
    "             print(\"결과 : 윤년이 아닙니다\")\n",
    "    else : print(\"결과 : 윤년입니다\")\n",
    "else : print(\"결과 : 윤년이 아닙니다\")        "
   ]
  },
  {
   "cell_type": "code",
   "execution_count": null,
   "metadata": {},
   "outputs": [],
   "source": [
    "#전자 계산기\n",
    "\n",
    "num1 = int(input(\"숫자를 입력하세요\"))\n",
    "oper = input(\"연산자를 입력하세요\")\n",
    "num2 = int(input(\"숫자를 입력하세요\"))\n",
    "\n",
    "if oper == '+' :\n",
    "    print(\"답 : \", num1 + num2)\n",
    "elif oper == '-' :\n",
    "    print(\"답 : \", num1 - num2)  \n",
    "elif oper == '*' :\n",
    "    print(\"답 : \", num1 * num2)\n",
    "else :\n",
    "    print(\"답 : \", num1 / num2)"
   ]
  },
  {
   "cell_type": "code",
   "execution_count": null,
   "metadata": {},
   "outputs": [],
   "source": [
    "# 중첩 조건문\n",
    "\n",
    "a, b, c = 8, 10, 3\n",
    "\n",
    "if a > b : \n",
    "    if a > c : \n",
    "        print(\"a가 가장 크다.\")\n",
    "    else : \n",
    "        print(\"c가 가장 크다.\")\n",
    "else :   \n",
    "     if b > c : \n",
    "        print(\"b가 가장 크다.\")\n",
    "     else : print(\"c가 가장 크다.\")"
   ]
  },
  {
   "cell_type": "code",
   "execution_count": null,
   "metadata": {},
   "outputs": [],
   "source": [
    "# 아이디와 패스워드를 입력받아 로그인하는 프로그램 ( id : tom, password : 1234)\n",
    "\n",
    "id = input(\"아이디 : \")\n",
    "pw = input(\"패스워드 : \")\n",
    "\n",
    "if id != 'tom' : \n",
    "      if pw != '1234' : \n",
    "        print(\"아이디와 패스워드가 일치하지 않습니다.\")\n",
    "      else : \n",
    "        print(\"아이디가 일치하지 않습니다.\")\n",
    "else :   \n",
    "     if pw != '1234' : \n",
    "        print(\"패스워드가 일치하지 않습니다.\")\n",
    "     else : print(\"로그인 가능\")"
   ]
  },
  {
   "cell_type": "code",
   "execution_count": null,
   "metadata": {},
   "outputs": [],
   "source": [
    "import random \n",
    "\n",
    "print(random.randint(0,10))"
   ]
  },
  {
   "cell_type": "markdown",
   "metadata": {},
   "source": [
    "## 가위바위보 프로그램 연습문제 풀기\n"
   ]
  },
  {
   "cell_type": "code",
   "execution_count": 3,
   "metadata": {},
   "outputs": [
    {
     "name": "stdout",
     "output_type": "stream",
     "text": [
      "(가위, 바위, 보) 중에서 하나를 선택 : 보\n",
      "컴퓨터의 선택 :  가위\n"
     ]
    }
   ],
   "source": [
    "a = input(\"(가위, 바위, 보) 중에서 하나를 선택 : \")\n",
    "\n",
    "dict = {1: \"가위\", 2: \"바위\", 3: \"보\"} \n",
    "\n",
    "import random\n",
    "\n",
    "com = dict[random.randint(1,3)]\n",
    "\n",
    "print(\"컴퓨터의 선택 : \",com)"
   ]
  },
  {
   "cell_type": "code",
   "execution_count": 5,
   "metadata": {},
   "outputs": [
    {
     "name": "stdout",
     "output_type": "stream",
     "text": [
      "컴퓨터가 이겼습니다.\n"
     ]
    }
   ],
   "source": [
    "if a != com :\n",
    "    if a == \"가위\" :\n",
    "        if com == \"바위\" :\n",
    "            print(\"컴퓨터가 이겼습니다.\")\n",
    "        else : print(\"사용자가 이겼습니다.\")\n",
    "            \n",
    "    elif a == \"바위\" :\n",
    "        if com == \"보\" :\n",
    "            print(\"컴퓨터가 이겼습니다.\")\n",
    "        else : print(\"사용자가 이겼습니다.\")  \n",
    "            \n",
    "    else :\n",
    "        if com == \"가위\" :\n",
    "            print(\"컴퓨터가 이겼습니다.\")\n",
    "        else : print(\"사용자가 이겼습니다.\")        \n",
    "            \n",
    "else : print(\"무승부입니다.\")            "
   ]
  },
  {
   "cell_type": "code",
   "execution_count": 11,
   "metadata": {},
   "outputs": [
    {
     "name": "stdout",
     "output_type": "stream",
     "text": [
      "(가위, 바위, 보) 중에서 하나를 선택 : 가위\n",
      "컴퓨터의 선택 :  보\n",
      "사용자가 이겼습니다.\n"
     ]
    }
   ],
   "source": [
    "# 가위바위보 프로그램\n",
    "\n",
    "a = input(\"(가위, 바위, 보) 중에서 하나를 선택 : \")\n",
    "\n",
    "dict = {1: \"가위\", 2: \"바위\", 3: \"보\"} \n",
    "\n",
    "import random\n",
    "\n",
    "com = dict[random.randint(1,3)]\n",
    "\n",
    "print(\"컴퓨터의 선택 : \",com)\n",
    "\n",
    "if a != com :\n",
    "    if a == \"가위\" :\n",
    "        if com == \"바위\" :\n",
    "            print(\"컴퓨터가 이겼습니다.\")\n",
    "        else : print(\"사용자가 이겼습니다.\")\n",
    "            \n",
    "    elif a == \"바위\" :\n",
    "        if com == \"보\" :\n",
    "            print(\"컴퓨터가 이겼습니다.\")\n",
    "        else : print(\"사용자가 이겼습니다.\")  \n",
    "            \n",
    "    else :\n",
    "        if com == \"가위\" :\n",
    "            print(\"컴퓨터가 이겼습니다.\")\n",
    "        else : print(\"사용자가 이겼습니다.\")        \n",
    "            \n",
    "else : print(\"무승부입니다.\") "
   ]
  },
  {
   "cell_type": "markdown",
   "metadata": {},
   "source": [
    "### while\n",
    "\n",
    "    while 조건식 :\n",
    "        문장\n",
    "        ..."
   ]
  },
  {
   "cell_type": "code",
   "execution_count": 9,
   "metadata": {},
   "outputs": [
    {
     "name": "stdout",
     "output_type": "stream",
     "text": [
      "**********"
     ]
    }
   ],
   "source": [
    "# 화면에 *을 10개 출력\n",
    "\n",
    "cnt = 0\n",
    "\n",
    "while cnt < 10 : #cnt가 0부터 시작 따라서 cnt가 9까지 가면 10번됨\n",
    "        print(\"*\", end=\"\") #한바퀴 넘어가면 자동으로 end가 엔터키가 되도록 돼있음. 따라서 end설정을 비워주면 줄바꿈 안됨.\n",
    "        cnt = cnt + 1"
   ]
  },
  {
   "cell_type": "code",
   "execution_count": 15,
   "metadata": {},
   "outputs": [
    {
     "name": "stdout",
     "output_type": "stream",
     "text": [
      "결과 :  55\n"
     ]
    }
   ],
   "source": [
    "# 1부터 10까지의 합계\n",
    "\n",
    "a = 0\n",
    "sum = 0\n",
    "\n",
    "while a <= 10 :   # 10개가 아니라 10까지! 따라서 10포함\n",
    "    sum = sum + a\n",
    "    a += 1\n",
    "    \n",
    "print(\"결과 : \", sum)    "
   ]
  },
  {
   "cell_type": "code",
   "execution_count": 8,
   "metadata": {},
   "outputs": [
    {
     "name": "stdout",
     "output_type": "stream",
     "text": [
      "1024\n"
     ]
    }
   ],
   "source": [
    "# 2의 10승을 구하기 _ 10번 곱하는 것 따라서 a<10\n",
    "\n",
    "a = 0\n",
    "s = 1\n",
    "\n",
    "while a < 10 :\n",
    "    s = s * 2\n",
    "    a += 1\n",
    "    \n",
    "print(s) "
   ]
  },
  {
   "cell_type": "markdown",
   "metadata": {},
   "source": [
    "### for\n",
    "\n",
    "    for 변수 in 집합자료형 :\n",
    "        문장\n",
    "        \n",
    " while은 반복 횟수를 직접 지정, for은 집합자료형(list, dict, tuple, set)의 갯수 만큼 반복       "
   ]
  },
  {
   "cell_type": "code",
   "execution_count": 10,
   "metadata": {},
   "outputs": [
    {
     "name": "stdout",
     "output_type": "stream",
     "text": [
      "10\n",
      "20\n",
      "홍길동\n",
      "3.14\n",
      "True\n",
      "----------------------------------------\n",
      "10\n",
      "20\n",
      "홍길동\n",
      "3.14\n",
      "True\n"
     ]
    }
   ],
   "source": [
    "data1 = [10, 20, \"홍길동\", 3.14, True]\n",
    "\n",
    "# while\n",
    "\n",
    "cnt = 0\n",
    "while cnt < len(data1) :\n",
    "    print(data1[cnt])\n",
    "    cnt += 1\n",
    "    \n",
    "print(\"----------------------------------------\")    \n",
    "#for    \n",
    "\n",
    "for a in data1 : \n",
    "    print(a)\n"
   ]
  },
  {
   "cell_type": "code",
   "execution_count": 15,
   "metadata": {},
   "outputs": [
    {
     "name": "stdout",
     "output_type": "stream",
     "text": [
      "**********@@@@@@@@@@"
     ]
    }
   ],
   "source": [
    "# for - *을 10개 찍는 것 : 집합자료형이 아니기 때문에 while이 편하지만..\n",
    "\n",
    "for a in [1,1,1,1,1,1,1,1,1,1] :\n",
    "    print(\"*\", end=\"\")\n",
    "    \n",
    "for b in range(10) : \n",
    "    print(\"@\", end=\"\")"
   ]
  },
  {
   "cell_type": "code",
   "execution_count": null,
   "metadata": {},
   "outputs": [],
   "source": []
  },
  {
   "cell_type": "markdown",
   "metadata": {},
   "source": [
    "### 반복문의 강제 종료\n",
    "\n",
    "     1) break : 완전 종료\n",
    "     2) continue : 일시 종료"
   ]
  },
  {
   "cell_type": "code",
   "execution_count": 38,
   "metadata": {},
   "outputs": [
    {
     "name": "stdout",
     "output_type": "stream",
     "text": [
      "0\n",
      "1\n",
      "2\n",
      "3\n",
      "4\n",
      "6\n",
      "7\n",
      "8\n",
      "9\n"
     ]
    }
   ],
   "source": [
    "for a in range(10) :\n",
    "    if a == 5 :\n",
    "        #break\n",
    "        continue\n",
    "        \n",
    "    print(a)"
   ]
  },
  {
   "cell_type": "markdown",
   "metadata": {},
   "source": [
    "# 풀어보기\n",
    "\n",
    "\"\"\"\n",
    "### 전자 계산기 프로그램을 반복문을 이용해서 업그레이드\n",
    "(끝나는 조건은 연산자에 x를 입력하면 종료)\n",
    "\"\"\"\n",
    "\n",
    "\"\"\"\n",
    "### 가위 바위 보 게임을 반복문을 사용하여 업그레이드\n",
    "(끝나는 조건은 x나 q를 입력하면 종료)\n",
    "\n",
    "끝날 때 결과에 ?승 ?패 출력\n",
    "\"\"\"\n",
    "\n",
    "\"\"\"\n",
    "## 숫자를 입력받아서 짝수의 합과 홀수의 합을 구하시오.(0을 입력하면 종료)\n",
    "\n",
    "2\n",
    "3\n",
    "2\n",
    "3\n",
    "1\n",
    "7\n",
    "0\n",
    "\n",
    "짝수의 합 : \n",
    "홀수의 합 : \n",
    "\"\"\"\n",
    "\n",
    "#### 친구 관리 프로그램\n",
    "\n",
    "====================\n",
    "\n",
    "1.친구 리스트 출력\n",
    "2.친구 추가\n",
    "3.친구 삭제\n",
    "4.이름 변경\n",
    "9.종료\n",
    "메뉴를 선택 : 2 (엔터)\n",
    "이름을 입력 : 홍길동 (엔터)\n",
    "\n",
    "-----------------------\n",
    "\n",
    "1.친구 리스트 출력\n",
    "2.친구 추가\n",
    "3.친구 삭제\n",
    "4.이름 변경\n",
    "9.종료\n",
    "메뉴를 선택 : 2 (엔터)\n",
    "이름을 입력 : 임꺽정 (엔터)\n",
    "\n",
    "-----------------------\n",
    "\n",
    "1.친구 리스트 출력\n",
    "2.친구 추가\n",
    "3.친구 삭제\n",
    "4.이름 변경\n",
    "9.종료\n",
    "메뉴를 선택 : 1 (엔터)\n",
    "[\"홍길동\", \"임꺽정\"]\n",
    "\n",
    "----------------------\n",
    "\n",
    "1.친구 리스트 출력\n",
    "2.친구 추가\n",
    "3.친구 삭제\n",
    "4.이름 변경\n",
    "9.종료\n",
    "메뉴를 선택 : 4 (엔터)\n",
    "변경할 이름 선택 : 홍길동 (엔터)\n",
    "변경하고 싶은 이름 입력 : 홍길순 (엔터)\n",
    "\n",
    "-------------------------------\n",
    "\n",
    "1.친구 리스트 출력\n",
    "2.친구 추가\n",
    "3.친구 삭제\n",
    "4.이름 변경\n",
    "9.종료\n",
    "메뉴를 선택 : 1 (엔터)\n",
    "[\"홍길순\", \"임꺽정\"]\n",
    "\n",
    "-------------------------------\n",
    "\n",
    "1.친구 리스트 출력\n",
    "2.친구 추가\n",
    "3.친구 삭제\n",
    "4.이름 변경\n",
    "9.종료\n",
    "메뉴를 선택 : 3 (엔터)\n",
    "삭제할 이름 입력 : 홍길순\n",
    "\n",
    "------------------------------\n",
    "\n",
    "\"\"\"\n",
    "### 팩토리얼 계산\n",
    "\n",
    "=============\n",
    "\n",
    "정수 입력 : 3 (엔터)\n",
    "결과 : 3의 팩토리얼은 6이다.\n",
    "\"\"\"\n",
    "\n",
    "\"\"\"\n",
    "## 자리수의 합\n",
    "\n",
    "============\n",
    "예를 들어 1234라고 입력했을 경우 (1 + 2 + 3 + 4)를 계산하는 프로그램\n",
    "(0을 입력하면 종료)\n",
    "\"\"\"\n",
    "\n",
    "\n",
    "#### 숫자 맞추기 게임\n",
    "\n",
    "=================\n",
    "\n",
    "1 부터 100사이의 숫자를 맞추시오\n",
    "숫자 입력 : 50\n",
    "낮음!                -> 사용자에게 주는 힌트 추가하기\n",
    "\n",
    "숫자 입력 : 75\n",
    "낮음!                -> 사용자에게 주는 힌트 추가하기\n",
    "\n",
    "...\n",
    "\n",
    "숫자 입력 : 89\n",
    "정답입니다!~~ 시도회수 : 7번\n",
    "\"\"\""
   ]
  },
  {
   "cell_type": "code",
   "execution_count": null,
   "metadata": {},
   "outputs": [
    {
     "name": "stdout",
     "output_type": "stream",
     "text": [
      "1.친구 리스트 출력\n",
      "2.친구 추가\n",
      "3.친구 삭제\n",
      "4.이름 변경\n",
      "9.종료\n"
     ]
    }
   ],
   "source": [
    "# 친구 관리 프로그램\n",
    "\n",
    "list = []\n",
    "\n",
    "\n",
    "print( \"\"\"1.친구 리스트 출력\n",
    "2.친구 추가\n",
    "3.친구 삭제\n",
    "4.이름 변경\n",
    "9.종료\"\"\")\n",
    "a = int(input(\"메뉴를 선택 : \"))\n",
    "\n",
    "\n",
    "for b in [1,2,3,4,9] :\n",
    "    \n",
    "    \n",
    "        if a == 1 :\n",
    "            print(list)\n",
    "        \n",
    "\n",
    "        elif a == 2 :\n",
    "            name = input(\"이름을 입력 : \")\n",
    "            plus = list.append(name)\n",
    "            \n",
    "\n",
    "\n",
    "    \n",
    "        elif a == 3 :\n",
    "            name = input(\"이름을 입력 : \")\n",
    "           \n",
    "            re = list.remove(name)   \n",
    "       \n",
    "\n",
    "    \n",
    "        elif a == 4 :\n",
    "            name = input(\"변경할 이름을 선택 : \")\n",
    "            name1 = input(\"변경하고 싶은 이름을 입력 : \")\n",
    "            namenum = list.index(name)\n",
    "            list[namenum] = name1    \n",
    " \n",
    "        \n",
    "\n",
    "\n",
    "        elif a == 9 :\n",
    "            print(\"종료\")\n",
    "            break\n",
    "     \n",
    "        else : \n",
    "            print(\"메뉴를 확인하세요.\")  \n",
    "            break\n",
    "    \n",
    "        print( \"\"\"----------------------------------\n",
    "1.친구 리스트 출력\n",
    "2.친구 추가\n",
    "3.친구 삭제\n",
    "4.이름 변경\n",
    "9.종료\"\"\")\n",
    "        \n",
    "        a = int(input(\"메뉴를 선택 : \"))"
   ]
  },
  {
   "cell_type": "code",
   "execution_count": 1,
   "metadata": {},
   "outputs": [
    {
     "name": "stdout",
     "output_type": "stream",
     "text": [
      "숫자 입력 : 50\n",
      "숫자가 조금 작습니다!\n",
      "숫자 입력 : 70\n",
      "숫자가 점점 가까워지고 있습니다!\n",
      "숫자 입력 : 65\n",
      "조금만 더~\n",
      "숫자 입력 : 64\n",
      "정답입니다!~~ 시도횟수 :  4\n"
     ]
    }
   ],
   "source": [
    "# 숫자 맞추기\n",
    "\n",
    "import random\n",
    "\n",
    "a = random.randint(1,100)\n",
    "s = 1\n",
    "\n",
    "for c in range(100) :\n",
    "    \n",
    "    b = int(input(\"숫자 입력 : \"))\n",
    "    \n",
    "    \n",
    "    if b > a :\n",
    "        if b-a >= 20 :\n",
    "            print(\"숫자가 많이 큽니다!\")\n",
    "        elif b-a>=10 :\n",
    "            print(\"숫자가 조금 큽니다!\")\n",
    "        elif b-a >= 5 :\n",
    "            print(\"숫자가 점점 가까워지고 있습니다!\")\n",
    "        else : \n",
    "            print(\"조금만 더~\")\n",
    "    elif b < a : \n",
    "        if a-b>=20 :\n",
    "            print(\"숫자가 많이 작습니다!\")\n",
    "        elif a-b>=10 :\n",
    "            print(\"숫자가 조금 작습니다!\")\n",
    "        elif a-b >= 5 :\n",
    "            print(\"숫자가 점점 가까워지고 있습니다!\")\n",
    "        else : \n",
    "            print(\"조금만 더~\")    \n",
    "            \n",
    "    else :         \n",
    "        print(\"정답입니다!~~ 시도횟수 : \", s)\n",
    "        break\n",
    "    \n",
    "    s += 1"
   ]
  },
  {
   "cell_type": "code",
   "execution_count": null,
   "metadata": {},
   "outputs": [],
   "source": [
    "# 가위바위보 반복문\n",
    "\n",
    "a = input(\"(가위, 바위, 보) 중에서 하나를 선택 (x 또는 q를 입력하면 종료) :\")\n",
    "\n",
    "dict = {1: \"가위\", 2: \"바위\", 3: \"보\"} \n",
    "\n",
    "while a == '가위' or a == '바위' or a ==\"보\" :\n",
    "\n",
    "    \n",
    "    import random\n",
    "\n",
    "    com = dict[random.randint(1,3)]\n",
    "\n",
    "    print(\"컴퓨터의 선택 : \",com)\n",
    "\n",
    "    if a != com :\n",
    "        if a == \"가위\" :\n",
    "            if com == \"바위\" :\n",
    "                print(\"컴퓨터가 이겼습니다.\")\n",
    "            else : print(\"사용자가 이겼습니다.\")\n",
    "            \n",
    "        elif a == \"바위\" :\n",
    "            if com == \"보\" :\n",
    "                print(\"컴퓨터가 이겼습니다.\")\n",
    "            else : print(\"사용자가 이겼습니다.\")  \n",
    "            \n",
    "        else :\n",
    "            if com == \"가위\" :\n",
    "                print(\"컴퓨터가 이겼습니다.\")\n",
    "            else : print(\"사용자가 이겼습니다.\")        \n",
    "            \n",
    "    elif a== com :\n",
    "        print(\"무승부입니다.\")\n",
    "        \n",
    "    elif a ==  'x' or a == 'q' :\n",
    "        break\n",
    "        \n",
    "    a = input(\"(가위, 바위, 보) 중에서 하나를 선택 (x 또는 q를 입력하면 종료) :\") "
   ]
  },
  {
   "cell_type": "code",
   "execution_count": null,
   "metadata": {},
   "outputs": [],
   "source": [
    "#전자 계산기\n",
    "\n",
    "num1 = int(input(\"숫자를 입력하세요\"))\n",
    "oper = input(\"연산자를 입력하세요 (x를 입력하면 종료)\")\n",
    "num2 = int(input(\"숫자를 입력하세요\"))\n",
    "\n",
    "while oper != 'x' :\n",
    "\n",
    "    if oper == '+' :\n",
    "        print(\"답 : \", num1 + num2)\n",
    "    elif oper == '-' :\n",
    "        print(\"답 : \", num1 - num2)  \n",
    "    elif oper == '*' :\n",
    "        print(\"답 : \", num1 * num2)\n",
    "    else :\n",
    "        print(\"답 : \", num1 / num2)\n",
    "        break\n",
    "   \n",
    "    \n",
    "    num1 = int(input(\"숫자를 입력하세요\"))\n",
    "    oper = input(\"연산자를 입력하세요 (x를 입력하면 종료)\")\n",
    "    num2 = int(input(\"숫자를 입력하세요\"))"
   ]
  },
  {
   "cell_type": "markdown",
   "metadata": {},
   "source": [
    "### 풀어보기 자리수의 합\n",
    "\n",
    "============\n",
    "예를 들어 1234라고 입력했을 경우 (1 + 2 + 3 + 4)를 계산하는 프로그램\n",
    "(0을 입력하면 종료)\n",
    "\"\"\"\n"
   ]
  },
  {
   "cell_type": "code",
   "execution_count": 25,
   "metadata": {},
   "outputs": [
    {
     "name": "stdout",
     "output_type": "stream",
     "text": [
      "숫자를 입력하세요 : 1234\n",
      "자릿수의 합: 10\n"
     ]
    }
   ],
   "source": [
    "a = input( \"숫자를 입력하세요 : \")\n",
    "list1 = list(a)\n",
    "\n",
    "sum = 0\n",
    "i = 0\n",
    "\n",
    "for i in range(len(list1)) :\n",
    "\n",
    "    b = int(list1[i])\n",
    "\n",
    "    sum += b\n",
    "    \n",
    "print(\"자릿수의 합:\" , sum)    \n"
   ]
  },
  {
   "cell_type": "code",
   "execution_count": null,
   "metadata": {},
   "outputs": [],
   "source": []
  },
  {
   "cell_type": "code",
   "execution_count": 14,
   "metadata": {},
   "outputs": [
    {
     "name": "stdout",
     "output_type": "stream",
     "text": [
      "숫자를 입력하세요. (0을 입력하면 종료) : 2\n",
      "숫자를 입력하세요. (0을 입력하면 종료) : 3\n",
      "숫자를 입력하세요. (0을 입력하면 종료) : 2\n",
      "숫자를 입력하세요. (0을 입력하면 종료) : 3\n",
      "숫자를 입력하세요. (0을 입력하면 종료) : 1\n",
      "숫자를 입력하세요. (0을 입력하면 종료) : 7\n",
      "숫자를 입력하세요. (0을 입력하면 종료) : 0\n",
      "짝수의 합 :  4\n",
      "홀수의 합 :  14\n"
     ]
    }
   ],
   "source": [
    "# 숫자를 입력받아서 짝수의 합과 홀수의 합을 구하시오.(0을 입력하면 종료)\n",
    "\n",
    "a = int(input(\"숫자를 입력하세요. (0을 입력하면 종료) : \"))\n",
    "\n",
    "sum1 = 0\n",
    "sum2 = 0\n",
    "\n",
    "\n",
    "while a != 0 : \n",
    "    \n",
    "    if a % 2 == 0 :\n",
    "        sum1 = sum1 + a\n",
    "    else :\n",
    "        sum2 += a\n",
    "    \n",
    "    a = int(input(\"숫자를 입력하세요. (0을 입력하면 종료) : \"))\n",
    "\n",
    "\n",
    "print(\"짝수의 합 : \", sum1)\n",
    "print(\"홀수의 합 : \", sum2)"
   ]
  },
  {
   "cell_type": "markdown",
   "metadata": {},
   "source": [
    "## 반복문의 중첩"
   ]
  },
  {
   "cell_type": "code",
   "execution_count": 29,
   "metadata": {},
   "outputs": [
    {
     "name": "stdout",
     "output_type": "stream",
     "text": [
      "**********\n",
      "**********\n",
      "**********\n"
     ]
    }
   ],
   "source": [
    "for v1 in range(3) :\n",
    "    for v2 in range(10):\n",
    "        print(\"*\", end=\"\")\n",
    "    print()             # 행이 바뀌면 줄 띄어줘야한다.   \n"
   ]
  },
  {
   "cell_type": "code",
   "execution_count": 15,
   "metadata": {},
   "outputs": [
    {
     "name": "stdout",
     "output_type": "stream",
     "text": [
      "\n",
      "*\n",
      "**\n",
      "***\n",
      "****\n",
      "*****\n"
     ]
    }
   ],
   "source": [
    "for i in range(6) :\n",
    "    for j in range(i) :\n",
    "        print(\"*\",end=\"\")\n",
    "    print()"
   ]
  },
  {
   "cell_type": "code",
   "execution_count": 16,
   "metadata": {},
   "outputs": [
    {
     "data": {
      "text/plain": [
       "'\\n   \\n    *\\n   ***\\n  *****\\n *******\\n*********\\n\\n'"
      ]
     },
     "execution_count": 16,
     "metadata": {},
     "output_type": "execute_result"
    }
   ],
   "source": [
    "\"\"\"\n",
    "   \n",
    "    *\n",
    "   ***\n",
    "  *****\n",
    " *******\n",
    "*********\n",
    "\n",
    "\"\"\""
   ]
  },
  {
   "cell_type": "code",
   "execution_count": 24,
   "metadata": {
    "scrolled": true
   },
   "outputs": [
    {
     "name": "stdout",
     "output_type": "stream",
     "text": [
      "     *\n",
      "    ***\n",
      "   *****\n",
      "  *******\n",
      " *********\n"
     ]
    }
   ],
   "source": [
    "for i in range(5) :\n",
    "    for j in range(9) :\n",
    "        print(\" \"*(4-i),\"*\"*(2*i+1), end=\"\") \n",
    "        break\n",
    "    print()    \n",
    "        "
   ]
  },
  {
   "cell_type": "markdown",
   "metadata": {},
   "source": [
    "### 실행 파일 만들기 \n",
    " 상대방이 파이썬이 깔려있지 않아도 실행할 수 있도록\n",
    " \n",
    "  + pyinstaller, py2exe, ...\n",
    "     - pip install pyinstaller\n",
    "     - pyinstaller -F 파일명.py\n",
    "     \n",
    "     -> 저장 경로의 dist 폴더에 저장됨"
   ]
  }
 ],
 "metadata": {
  "kernelspec": {
   "display_name": "Python 3",
   "language": "python",
   "name": "python3"
  },
  "language_info": {
   "codemirror_mode": {
    "name": "ipython",
    "version": 3
   },
   "file_extension": ".py",
   "mimetype": "text/x-python",
   "name": "python",
   "nbconvert_exporter": "python",
   "pygments_lexer": "ipython3",
   "version": "3.7.6"
  }
 },
 "nbformat": 4,
 "nbformat_minor": 4
}
