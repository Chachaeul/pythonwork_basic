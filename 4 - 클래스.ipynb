{
 "cells": [
  {
   "cell_type": "markdown",
   "metadata": {},
   "source": [
    "### 특징\n",
    "    \n",
    "   1) 묶음 (Block) : 변수와 함수를 묶어주는 단위\n",
    "      <용어>\n",
    "      변수 - 멤버 변수, 속성\n",
    "      함수 - 멤버 함수, 메서드\n",
    "      \n",
    "   2) 설계도(추상적) (따라서 실제 접근 불가) -> 구현 : 객체, 인스턴스   cf) 객체와 인스턴스는 거의 같은 말이지만 상황에 따라 달리 표현\n",
    "  \n",
    "   3) . 접근 연산자 사용 : 객체.함수()                                  cf) 이때 쓰는 함수를 메서드라고 부름\n",
    "   \n",
    "   4) 사용자 정의 자료형 : 내가 원하는 형식의 데이터(타입)을 만들고 저장할 수 있다\n",
    "   \n",
    "   5) 객체이 조건\n",
    "       - 상속성(inheritance)\n",
    "       - 다형성(polymorphism)\n",
    "       - 캡슐화(encapsulation) = 추상화\n",
    "       \n",
    "       \n",
    "       \n",
    "   6) 클래스 설계 가이드라인 _객체 설계 원칙 ( S O L I D )\n",
    "   \n",
    "   7) UML\n",
    "       \n",
    "   \n",
    "### 클래스 작성방법\n",
    "\n",
    "class 이름 :\n",
    "    변수\n",
    "    함수\n",
    "\n",
    "또는\n",
    "\n",
    "class 이름(...) :\n",
    "    변수\n",
    "    함수"
   ]
  },
  {
   "cell_type": "code",
   "execution_count": null,
   "metadata": {},
   "outputs": [],
   "source": []
  },
  {
   "cell_type": "code",
   "execution_count": null,
   "metadata": {},
   "outputs": [],
   "source": [
    "class Test :\n",
    "    a = 10      # 메모리(인스턴스, 객체)에 a라는 주소- 10 값 저장 할 것이다. (실제 저장x) just 설계도\n",
    "    \n",
    "    def display(self) :    #클래스 안에서 함수 만들 땐 (self)\n",
    "        print(\"Test 클래스 : \",self.a)     #클래스안의 함수는 단독으로 쓸 수 없다. "
   ]
  },
  {
   "cell_type": "code",
   "execution_count": null,
   "metadata": {},
   "outputs": [],
   "source": [
    "print(a) # a는 class안에서만 쓴 지역 변수인데다 아직 실제로 준비된 데이터가 아님."
   ]
  },
  {
   "cell_type": "code",
   "execution_count": null,
   "metadata": {},
   "outputs": [],
   "source": [
    "Test()   #객체 생성 = 클래스() -> 실제 생성\n",
    "#모양이 함수 호출과 같아서 주의해야 함!      관례 : 함수는 소문자 , 클래스는 대문자 시작"
   ]
  },
  {
   "cell_type": "code",
   "execution_count": null,
   "metadata": {},
   "outputs": [],
   "source": [
    "print(Test().a)\n",
    "Test().a = 100\n",
    "print(Test().a)"
   ]
  },
  {
   "cell_type": "code",
   "execution_count": null,
   "metadata": {},
   "outputs": [],
   "source": [
    "ob1 = Test()      # 주소를 저장 , ob1은 객체임\n",
    "print(ob1)\n",
    "\n",
    "print(ob1.a)       #첫실행 -10\n",
    "\n",
    "ob1.a=100   # 같은 주소에서 실행 됨. 따라서 값 10->100\n",
    "print(ob1.a)"
   ]
  },
  {
   "cell_type": "code",
   "execution_count": null,
   "metadata": {},
   "outputs": [],
   "source": [
    "ob1.display()      #Test : 클래스 - > 실존 x 단독 쓸수없다. 객체로 구현한 ob1을 사용"
   ]
  },
  {
   "cell_type": "code",
   "execution_count": null,
   "metadata": {},
   "outputs": [],
   "source": [
    "ob2 = Test()    # 새 메모리 자리가 만들어 진 것\n",
    "print(ob2.a)"
   ]
  },
  {
   "cell_type": "code",
   "execution_count": null,
   "metadata": {},
   "outputs": [],
   "source": [
    "#모든 자료형은 class로 만들어진것\n",
    "print(type(ob2))    #자료형도 내가 새로 만든 것 type\n",
    "\n",
    "a= 10\n",
    "print(type(a))\n",
    "\n",
    "a='asdf'\n",
    "print(type(a))   \n",
    "\n",
    "\n",
    "print(type(ob1))\n",
    "#ob2=10  ob2에 저장돼있던 객체는 사라지고 10이 저장됨"
   ]
  },
  {
   "cell_type": "code",
   "execution_count": 9,
   "metadata": {},
   "outputs": [],
   "source": [
    "# 국적, 이름. 나이, 신장, 취미 하나로 묶어 저장하고 싶다\n",
    "#-> 갯수가 적으면 dict 하지만 갯수가 많으면 곤란, list는 일반 데이터 저장이지 내가 원하는 데이터만 의미있게 저장하는 것도 아니다.\n",
    "\n",
    "class Person : \n",
    "\n",
    "    nation = \"한국\"\n",
    "    name = str()\n",
    "    age = int()\n",
    "    height = float()\n",
    "    hobby = []  #여러개 있을 수도\n",
    "    \n",
    "    def print(self) :\n",
    "        print(\"국적 : \", self.nation )\n",
    "        print(\"이름 : \", self.name )\n",
    "        print(\"나이 : \", self.age )\n",
    "        print(\"키 : \", self.height )\n",
    "        print(\"취미 : \", self.hobby )\n",
    "        print(\"==================== \" )"
   ]
  },
  {
   "cell_type": "code",
   "execution_count": 10,
   "metadata": {},
   "outputs": [
    {
     "name": "stdout",
     "output_type": "stream",
     "text": [
      "국적 :  한국\n",
      "이름 :  홍길동\n",
      "나이 :  20\n",
      "키 :  170\n",
      "취미 :  ['독서', '여행']\n",
      "==================== \n",
      "국적 :  프랑스\n",
      "이름 :  임꺽정\n",
      "나이 :  25\n",
      "키 :  175\n",
      "취미 :  ['독서', '여행', '우표 수집']\n",
      "==================== \n",
      "국적 :  독일\n",
      "이름 :  신돌석\n",
      "나이 :  25\n",
      "키 :  164\n",
      "취미 :  ['낚시']\n",
      "==================== \n"
     ]
    }
   ],
   "source": [
    "p1 = Person()\n",
    "p1.nation=\"한국\"\n",
    "p1.name=\"홍길동\"\n",
    "p1.age= 20\n",
    "p1.height = 170\n",
    "p1.hobby = [\"독서\",\"여행\"]\n",
    "p1.print()\n",
    "\n",
    "\n",
    "p2 = Person()\n",
    "p2.nation=\"프랑스\"\n",
    "p2.name=\"임꺽정\"\n",
    "p2.age= 25\n",
    "p2.height = 175\n",
    "p2.hobby = [\"독서\",\"여행\",\"우표 수집\"]\n",
    "p2.print()\n",
    "\n",
    "p3 = Person()\n",
    "p3.nation=\"독일\"\n",
    "p3.name=\"신돌석\"\n",
    "p3.age= 25\n",
    "p3.height = 164\n",
    "p3.hobby = [\"낚시\"]\n",
    "p3.print()"
   ]
  },
  {
   "cell_type": "code",
   "execution_count": 8,
   "metadata": {},
   "outputs": [
    {
     "name": "stdout",
     "output_type": "stream",
     "text": [
      "<class '__main__.Person'>\n"
     ]
    }
   ],
   "source": [
    "print(type(p1))"
   ]
  },
  {
   "cell_type": "code",
   "execution_count": 11,
   "metadata": {},
   "outputs": [],
   "source": [
    "class Person : \n",
    "\n",
    "    nation = \"한국\"\n",
    "    name = str()\n",
    "    age = int()\n",
    "    height = float()\n",
    "    hobby = []  #여러개 있을 수도"
   ]
  },
  {
   "cell_type": "code",
   "execution_count": 12,
   "metadata": {},
   "outputs": [
    {
     "data": {
      "text/plain": [
       "<__main__.Person at 0x2104563b408>"
      ]
     },
     "execution_count": 12,
     "metadata": {},
     "output_type": "execute_result"
    }
   ],
   "source": [
    "Person()"
   ]
  },
  {
   "cell_type": "code",
   "execution_count": 13,
   "metadata": {},
   "outputs": [
    {
     "name": "stdout",
     "output_type": "stream",
     "text": [
      "국적 :  한국\n",
      "이름 :  홍길동\n",
      "나이 :  20\n",
      "키 :  170\n",
      "취미 :  ['독서', '여행']\n",
      "==================== \n",
      "국적 :  프랑스\n",
      "이름 :  임꺽정\n",
      "나이 :  25\n",
      "키 :  175\n",
      "취미 :  ['독서', '여행', '우표 수집']\n",
      "==================== \n",
      "국적 :  독일\n",
      "이름 :  신돌석\n",
      "나이 :  25\n",
      "키 :  164\n",
      "취미 :  ['낚시']\n",
      "==================== \n"
     ]
    }
   ],
   "source": [
    "data=[p1,p2,p3] # 앞서 p1=Percon()   p1.nation=\"~\"  p1.name=\"~\" 등 객체 내 멤버 변수(속성)에 내용을 저장해 놓음.\n",
    "\n",
    "for i in range(len(data)) :\n",
    "    \n",
    "    print(\"국적 : \", data[i].nation )\n",
    "    print(\"이름 : \", data[i].name )\n",
    "    print(\"나이 : \",data[i].age )\n",
    "    print(\"키 : \", data[i].height )\n",
    "    print(\"취미 : \", data[i].hobby )\n",
    "    print(\"==================== \" )\n",
    "    "
   ]
  },
  {
   "cell_type": "code",
   "execution_count": null,
   "metadata": {},
   "outputs": [],
   "source": [
    "\n"
   ]
  },
  {
   "cell_type": "code",
   "execution_count": null,
   "metadata": {},
   "outputs": [],
   "source": []
  },
  {
   "cell_type": "markdown",
   "metadata": {},
   "source": [
    "### 클래스 작성 문법\n",
    "   \n",
    "    1) seif\n",
    "       - 현재 사용중인 객체의 주소를 저장하고 있는 참조 변수\n",
    "       - read only\n",
    "       \n",
    "    2) 생성자(메서드)와 소멸자(메서드)\n",
    "     - 메서드\n",
    "     - 생성자 객체를 생성하는 용도\n",
    "     - 객체를 처음 만들 때 호출.\n",
    "     - 단 한번만 호출\n",
    "     - 모든 클래스에는 기본적으로 생성자를 가지고 있다.\n",
    "     - 객체가 소멸할 때 호출되는 메서드가 소멸자이다.\n",
    "     \n",
    "    3) static\n",
    "     - 동일한 공간을 모든 개게들이 공동으로 사용\n",
    "     - static 공간에 만들어 지는 변수 : 클래스 변수\n",
    "     \n",
    "     4) _, __\n",
    "        -\n",
    "         : 기본 인터프리터(명령 프롬프트)에서 사용(최근 사용한 값을 저장하고 불러오기)\n",
    "         : 값을 무시\n",
    "         : 변수명과 함께 사용 가능(접근 권한), __와 함께 사용\n",
    "      \n",
    "     "
   ]
  },
  {
   "cell_type": "code",
   "execution_count": null,
   "metadata": {},
   "outputs": [],
   "source": [
    "class Test1 :\n",
    "    a = int()\n",
    "    b = float()\n",
    "    c = str()          # 밑에 함수에서 주어지므로 선언은 생략해도 됨.\n",
    "    \n",
    "    \n",
    "    def show(self) :\n",
    "        print(self.a, self.b, self.c)\n",
    "        \n",
    "    def setValue(self, x,y,z) : \n",
    "        print(\"self의 주소 \", id(self))\n",
    "        self.a = x\n",
    "        self.b = y\n",
    "        self.c = z"
   ]
  },
  {
   "cell_type": "code",
   "execution_count": null,
   "metadata": {},
   "outputs": [],
   "source": [
    "t1 = Test1()\n",
    "t2 = Test1()\n",
    "t3 = Test1()\n",
    "\n",
    "\n",
    "t1.a=10\n",
    "t1.b=3.14\n",
    "t1.c=\"홍길동\"\n",
    "#변수명을 다 알아야 가능.\n",
    "# 값을 바로 매칭시켜 저장하는 것은 유지보수측면에서 최악. \n",
    "#클래스는 반복해 사용하는게 목적인데 반복해서 검증 코드(if)를 쓰기도 힘듦. 메서드활용\n",
    "\n",
    "t1.setValue(20,3.4,\"임꺽정\") #변수명을 알 필요도, 검증코드를 매번 쓸 필요도 없다.\n",
    "# 우리눈에는 3개의 인자만 보이지만 실제로는 네개. self=t1의 주소가 히든 저장됨. 따라서 self 필수\n",
    "\n",
    "t1.show()\n",
    "print(\"t1의 주소 : \", id(t1))"
   ]
  },
  {
   "cell_type": "code",
   "execution_count": null,
   "metadata": {},
   "outputs": [],
   "source": []
  },
  {
   "cell_type": "code",
   "execution_count": null,
   "metadata": {},
   "outputs": [],
   "source": [
    "#생성자 __init__\n",
    "\n",
    "class Test2 :\n",
    "    a = int()\n",
    "    b = str()\n",
    "  \n",
    "    def __init__(self, argv=\"None\")  : \n",
    "        self.a = 10\n",
    "        self.b = \"안녕\"    \n",
    "        print(\"생성자 호출됨 : \", argv)\n",
    "                \n",
    "    def show(self) :\n",
    "         print(self.a, self.b)\n",
    "            \n",
    "   # def setValue(self,a,b) : \n",
    "    #    self.a = a\n",
    "     #   self.b = b\n",
    "    \n",
    "    def __del__(self) :\n",
    "        print(\"소멸자 호출됨\")\n",
    " "
   ]
  },
  {
   "cell_type": "code",
   "execution_count": null,
   "metadata": {},
   "outputs": [],
   "source": [
    "t1=Test2(5) #__init__ 함수와 연결 돼있다.\n",
    "print(\"======\")\n",
    "t1.show() # __init__함수를 호출하지 않았음에도 실행이된 것을 볼 수 있다. 이는 위에서 객체를 생성하기 위한 생성자함수가 호출이 되었기 때문\n",
    "print(\"-----------------------\")\n",
    "\n",
    "\n",
    "t2 = Test2()\n",
    "print(\"======\")\n",
    "t2.show()\n",
    "print(\"-----------------------\")\n",
    "\n",
    "Test2() #주소없이 생성된 객체=쓰레기. 따라서 시스템이 자동으로 메모리 관리를 위해 삭제시킴 - 소멸자 호출\n"
   ]
  },
  {
   "cell_type": "code",
   "execution_count": null,
   "metadata": {},
   "outputs": [],
   "source": [
    "class Test2 :\n",
    "    a = int()\n",
    "    b = str()\n",
    "  \n",
    "  \n",
    "                \n",
    "    def show(self) :\n",
    "         print(self.a, self.b)\n",
    "            \n",
    "   \n",
    "\n",
    "\n",
    "    def __init__(self, a=0,b=0) : \n",
    "        self.a=a\n",
    "        self.b=b\n"
   ]
  },
  {
   "cell_type": "code",
   "execution_count": null,
   "metadata": {},
   "outputs": [],
   "source": [
    "t2=Test2(30,\"hi\")\n",
    "t2.show()               #setValue 같은 함수를 만들지 않고도 생성자로 바로 값 입력 가능. 코드를 간단히 만들수 있다."
   ]
  },
  {
   "cell_type": "code",
   "execution_count": null,
   "metadata": {},
   "outputs": [],
   "source": [
    "t3=Test2()  #()인자 안써도 디폴트 값이 있으므로 ㄱㅊ\n",
    "t3.show()  "
   ]
  },
  {
   "cell_type": "code",
   "execution_count": 56,
   "metadata": {},
   "outputs": [
    {
     "name": "stdout",
     "output_type": "stream",
     "text": [
      "10\n",
      "-----------------------\n",
      "100 100\n",
      "-----------------------\n",
      "200 100 100\n"
     ]
    }
   ],
   "source": [
    "#static    \n",
    "#class.변수 = 값 -> 객체가 생성될 때 기본적으로 만들어지는 공간이 있음. \n",
    "#여기서 활동을 하면서 같은 클래스를 가지는 각각의 객체들에게 값을 공유 시킬수있다.\n",
    "\n",
    "class Test3 :\n",
    "    a = 10\n",
    "    \n",
    "    \n",
    "    \n",
    "###################\n",
    "\n",
    "print(Test3.a)\n",
    "\n",
    "print(\"-----------------------\")\n",
    "t1=Test3()\n",
    "t2=Test3()\n",
    "\n",
    "Test3.a=100\n",
    "print(t1.a, t2.a)\n",
    "print(\"-----------------------\")\n",
    "\n",
    "t1.a =200\n",
    "print(t1.a, t2.a,Test3.a)"
   ]
  },
  {
   "cell_type": "code",
   "execution_count": 57,
   "metadata": {},
   "outputs": [],
   "source": [
    "#self로 접근\n",
    "\n",
    "class Counter : \n",
    "    m_cnt = 0 \n",
    "    \n",
    "    def __init__(self) : \n",
    "        self.m_cnt += 1\n",
    "        \n",
    "    def printCount(self):\n",
    "        print(\"객체 수 :\", self.m_cnt)"
   ]
  },
  {
   "cell_type": "code",
   "execution_count": 58,
   "metadata": {},
   "outputs": [
    {
     "name": "stdout",
     "output_type": "stream",
     "text": [
      "객체 수 : 1\n",
      "객체 수 : 1\n",
      "객체 수 : 1\n"
     ]
    }
   ],
   "source": [
    "a, b, c = Counter(), Counter(), Counter()\n",
    "a.printCount()\n",
    "b.printCount()\n",
    "c.printCount()\n"
   ]
  },
  {
   "cell_type": "code",
   "execution_count": 59,
   "metadata": {},
   "outputs": [],
   "source": [
    "#counter로 접근\n",
    "\n",
    "class Counter : \n",
    "    m_cnt = 0 \n",
    "    \n",
    "    def __init__(self) : \n",
    "        Counter.m_cnt += 1\n",
    "        \n",
    "    def printCount(self):\n",
    "        print(\"객체 수 :\", Counter.m_cnt)"
   ]
  },
  {
   "cell_type": "code",
   "execution_count": 60,
   "metadata": {},
   "outputs": [
    {
     "name": "stdout",
     "output_type": "stream",
     "text": [
      "객체 수 : 2\n",
      "객체 수 : 2\n"
     ]
    }
   ],
   "source": [
    "\n",
    "a,b = Counter(), Counter()\n",
    "\n",
    "a.printCount()\n",
    "b.printCount()\n"
   ]
  },
  {
   "cell_type": "code",
   "execution_count": null,
   "metadata": {},
   "outputs": [],
   "source": [
    "class Counter : \n",
    "    m_cnt = 0 \n",
    "    \n",
    "    def __init__(self) : \n",
    "        Counter.m_cnt += 1\n",
    "        \n",
    "    def staticPrintCount():  #객체와는 상관없이 만들어지는 함수    class의 멤버 함수가 아님\n",
    "                               #객체 수 한번만 알고 싶은데 멤버 함수라면 객체 반복할 때마다 이 함수도 돌아감. 불필요.\n",
    "                               #self 쓰지 않으면 객체별로 수행 x, 딱한번만 말들어지는 함수.\n",
    "        print(\"객체 수 :\", Counter.m_cnt)    "
   ]
  },
  {
   "cell_type": "code",
   "execution_count": null,
   "metadata": {},
   "outputs": [],
   "source": [
    "a, b, c = Counter(), Counter(), Counter()\n",
    "Counter.staticPrintCount()  # 콜론 아니고 세미콜론!!!!!!!!\n",
    "# a.staticPrintCount()  객체별로 만들어지는 함수가 아닌데..에러가 남\n",
    "# 클래스 이름이 길 경우 객체를 불러서 쓸 수 있게 하는 방법이 있다. -> class의 멤버인 것 처럼 등록을 시켜주는 것"
   ]
  },
  {
   "cell_type": "code",
   "execution_count": 61,
   "metadata": {},
   "outputs": [],
   "source": [
    "class Counter : \n",
    "    m_cnt = 0 \n",
    "    \n",
    "    def __init__(self) : \n",
    "        Counter.m_cnt += 1\n",
    "    \n",
    "    \n",
    "    @staticmethod #데코레이터. 잠식자.. 어노테이션   sPrintCount = staticmethod(staticPrintCount) 등록을 편하게 해줌\n",
    "    def staticPrintCount():  \n",
    "        print(\"객체 수 :\", Counter.m_cnt)  \n",
    "        \n",
    "    #sPrintCount = staticmethod(staticPrintCount)       #등록한 것 ->.sPrintCount() 로 출력"
   ]
  },
  {
   "cell_type": "code",
   "execution_count": 62,
   "metadata": {},
   "outputs": [
    {
     "name": "stdout",
     "output_type": "stream",
     "text": [
      "객체 수 : 3\n"
     ]
    }
   ],
   "source": [
    "a, b, c = Counter(), Counter(), Counter()\n",
    "#a.sPrintCount()\n",
    "#Counter.sPrintCount()\n",
    "#Counter.staticPrintCount()  \n",
    "a.staticPrintCount()"
   ]
  },
  {
   "cell_type": "code",
   "execution_count": null,
   "metadata": {},
   "outputs": [],
   "source": [
    "'''\n",
    "e1 = Employee(1111, \"홍길동\", 1000000, [\"여행\", \"낚시\", \"운동\"])\n",
    "e1.display()\n",
    "\n",
    "결과:\n",
    "    사번 : 1111\n",
    "    이름 : 홍길동\n",
    "    급여 : 1000000\n",
    "    취미 : 여행, 낚시, 운동\n",
    "    \n",
    "e2 = Employee(1112, \"임꺽정\", 1200000, [\"자전거\", \"볼링\"])\n",
    "e3 = Employee(1113, \"신돌석\", 1000000, [\"독서\"])\n",
    "\n",
    "total = Employee.getCount()\n",
    "print(\"총 인원수 : \", total)\n",
    "\n",
    "e3.setSalary(2500000)\n",
    "e3.appendHobby([\"피아노\", \"드론\"])\n",
    "e3.display()\n",
    "\n",
    "결과:\n",
    "    사번 : 1113\n",
    "    이름 : 신돌석\n",
    "    급여 : 2500000\n",
    "    취미 : 독서, 피아노, 드론\n",
    "'''"
   ]
  },
  {
   "cell_type": "code",
   "execution_count": null,
   "metadata": {},
   "outputs": [],
   "source": []
  },
  {
   "cell_type": "code",
   "execution_count": null,
   "metadata": {},
   "outputs": [],
   "source": [
    "#원래대로 설계된 멤버 변수외에 객체별로 별도의 멤버변수를 추가할 수 있다.\n",
    "\n",
    "\n",
    "class Test :\n",
    "    a = 0\n",
    "    \n",
    "    def show(self) :\n",
    "        print(self.a)\n",
    "        \n",
    "        \n",
    "#####################################################\n",
    "\n",
    "ob1=Test()\n",
    "ob1.show()\n",
    "\n",
    "\n",
    "ob2=Test()\n",
    "ob1.show()\n",
    "\n",
    "\n",
    "ob2.b=20                   #실제 클래스의 설계를 바꾸는 것은 아니지만 임시로 생성가능. 편의성을 위해\n",
    "print(ob2.b)\n",
    "\n",
    "ob1.b=10\n",
    "print(ob1.b)"
   ]
  },
  {
   "cell_type": "code",
   "execution_count": null,
   "metadata": {},
   "outputs": [],
   "source": [
    "# _ : 값을 무시\n",
    "\n",
    "#a,b,c =(10,20,30)\n",
    "\n",
    "#_, b, c=(10,20,30)\n",
    "\n",
    "#b,_,c=(10,20,30)\n",
    "\n",
    "#print(b,c)\n",
    "\n",
    "\n",
    "\n",
    "\n",
    "a,_,_,_,_,b=(10, 20, 30, 40, 50, 60)\n",
    "#a, *_, b =  (10, 20, 30, 40, 50, 60)\n",
    "print(a,_)\n",
    "print(id(_))\n",
    "\n",
    "\n",
    "for a, b in enumerate([\"가\", \"나\", \"다\", \"라\"]) :\n",
    "    print(a)\n",
    "    \n",
    "for a, _ in enumerate([\"가\", \"나\", \"다\", \"라\"]) : #어차피 a만 출력시 b는 변수로 할당 할 필요가 없다. _로 처리\n",
    "    print(a)\n",
    "\n",
    "    \n",
    "    \n",
    "for _ in range(10) :\n",
    "    print(\"*\", end=\"\")"
   ]
  },
  {
   "cell_type": "code",
   "execution_count": null,
   "metadata": {},
   "outputs": [],
   "source": [
    "#_,__ : 접근 권한\n",
    "\n",
    "class Test :\n",
    "    str1=\"안녕\"\n",
    "    _str2= \"홍길동입니다.\"  #파이썬은 캡슐화 보안이 안됨. _과__로 접근을 제한(강제성은 없)\n",
    "    __str3 = \"다음에 또 봐\"\n",
    "    \n",
    "    \n",
    "    def show(self):\n",
    "        print(self.__str3)\n",
    "#####################################    \n",
    "    \n",
    "dir(Test)\n",
    "\n",
    "ob1 = Test()\n",
    "ob1.str1 = \"Hi~~~~\"\n",
    "\n",
    "\n",
    "ob1._str2 = \"임꺽정입니다\"\n",
    "\n",
    "print(ob1.str1)\n",
    "print(ob1._str2)\n",
    "\n",
    "print(\"================\")\n",
    "\n",
    "ob1.show()\n",
    "print(ob1._Test__str3) #굳이굳이 접근하지 말아야할 것을 접근 하는 법\n",
    "print(ob1.__str3)   # 언더바 두개를 써서 변수 이름을 혼란 시켜 출력하지 못하도록 꼼수를 부린것 ->클래스 안에서 메소드처리를 하여 뽑아야;\n"
   ]
  },
  {
   "cell_type": "code",
   "execution_count": null,
   "metadata": {},
   "outputs": [],
   "source": []
  },
  {
   "cell_type": "markdown",
   "metadata": {},
   "source": [
    "### List Comprehension\n"
   ]
  },
  {
   "cell_type": "code",
   "execution_count": null,
   "metadata": {},
   "outputs": [],
   "source": [
    "result = []\n",
    "for i in range(10) : \n",
    "    if i % 2 ==0:\n",
    "        result.append(i)\n",
    "    \n",
    "    \n",
    "print(result)    "
   ]
  },
  {
   "cell_type": "code",
   "execution_count": null,
   "metadata": {},
   "outputs": [],
   "source": [
    "result=[i for i in range(10)]\n",
    "print(result)"
   ]
  },
  {
   "cell_type": "code",
   "execution_count": null,
   "metadata": {},
   "outputs": [],
   "source": [
    "result=[i for i in range(10) if i%2==0]\n",
    "print(result)"
   ]
  },
  {
   "cell_type": "code",
   "execution_count": null,
   "metadata": {},
   "outputs": [],
   "source": []
  },
  {
   "cell_type": "code",
   "execution_count": null,
   "metadata": {},
   "outputs": [],
   "source": [
    "word1 = \"Hello\"\n",
    "word2 = \"World\"\n",
    "\n",
    "result=[]\n",
    "\n",
    "for i in range(len(word1)) :            \n",
    "    for j in range(len(word2)) : \n",
    "        a = word1[i]+word2[j]               #i 자체가 요소값이므로 아래처럼 하는게 더 효율적\n",
    "        result.append(a)\n",
    "        \n",
    "print(result)    "
   ]
  },
  {
   "cell_type": "code",
   "execution_count": null,
   "metadata": {},
   "outputs": [],
   "source": [
    "word1 = \"Hello\"\n",
    "word2 = \"World\"\n",
    "\n",
    "result=[]\n",
    "\n",
    "for i in word1 :\n",
    "    for j in word2 : \n",
    "        \n",
    "        result.append(i+j)\n",
    "        \n",
    "print(result)    \n",
    "\n",
    "\n",
    "\n",
    "result2= [i+j for i in word1 for j in word2]\n",
    "print(result2)    "
   ]
  },
  {
   "cell_type": "code",
   "execution_count": null,
   "metadata": {},
   "outputs": [],
   "source": []
  },
  {
   "cell_type": "code",
   "execution_count": null,
   "metadata": {},
   "outputs": [],
   "source": [
    "case1 = [\"A\", \"B\", \"C\"]\n",
    "case2 = [\"D\", \"E\", \"A\"]\n",
    "\n",
    "#같은 문자는 출력 안되게\n",
    "\n",
    "\n",
    "case = [i+j for i in case1 for j in case2 if i == j continue]\n",
    "\n",
    "print(case)"
   ]
  },
  {
   "cell_type": "code",
   "execution_count": null,
   "metadata": {},
   "outputs": [],
   "source": [
    "case1 = [\"A\", \"B\", \"C\"]\n",
    "case2 = [\"D\", \"E\", \"A\"]\n",
    "\n",
    "case=[]\n",
    "\n",
    "for i in case1 :\n",
    "    for j in case2 :\n",
    "        if i == j :  continue\n",
    "        \n",
    "        else : case.append(i+j)\n",
    "        \n",
    "print(case)       "
   ]
  },
  {
   "cell_type": "code",
   "execution_count": null,
   "metadata": {},
   "outputs": [],
   "source": [
    "case1 = [\"A\", \"B\", \"C\"]\n",
    "case2 = [\"D\", \"E\", \"A\"]\n",
    "\n",
    "case= [i+j for i in case1 for j in case2 if not(i==j)]\n",
    "print(case)"
   ]
  },
  {
   "cell_type": "code",
   "execution_count": null,
   "metadata": {},
   "outputs": [],
   "source": [
    "case1 = [\"A\", \"B\", \"C\"]\n",
    "case2 = [\"D\", \"E\", \"A\"]\n",
    "\n",
    "case3= [i+j for i in case1 for j in case2 if i!=j]\n",
    "print(case3)"
   ]
  },
  {
   "cell_type": "code",
   "execution_count": null,
   "metadata": {},
   "outputs": [],
   "source": []
  },
  {
   "cell_type": "code",
   "execution_count": null,
   "metadata": {},
   "outputs": [],
   "source": [
    "words = \"The quick brown fox jump over the lazy dog\"\n",
    "\n",
    "#[[\"THE\", \"the\",3], [\"QUICK\",\"quick\",5],...]\n",
    "\n",
    "\n",
    "\n",
    "list1 = words.split(\" \")\n",
    "\n",
    "results=[]\n",
    "\n",
    "for i in list1 :\n",
    "         a = [i.upper(), i.lower(), len(i)]\n",
    "         results.append(a)\n",
    "            \n",
    "print(results)            \n"
   ]
  },
  {
   "cell_type": "code",
   "execution_count": 1,
   "metadata": {},
   "outputs": [
    {
     "name": "stdout",
     "output_type": "stream",
     "text": [
      "[['THE', 'the', 3], ['QUICK', 'quick', 5], ['BROWN', 'brown', 5], ['FOX', 'fox', 3], ['JUMP', 'jump', 4], ['OVER', 'over', 4], ['THE', 'the', 3], ['LAZY', 'lazy', 4], ['DOG', 'dog', 3]]\n"
     ]
    }
   ],
   "source": [
    "words = \"The quick brown fox jump over the lazy dog\"\n",
    "\n",
    "#[[\"THE\", \"the\",3], [\"QUICK\",\"quick\",5],...]\n",
    "\n",
    "\n",
    "\n",
    "list1 = words.split(\" \")\n",
    "\n",
    "results=[[i.upper(), i.lower(), len(i)] for i in list1]\n",
    "print(results) \n"
   ]
  },
  {
   "cell_type": "code",
   "execution_count": 2,
   "metadata": {},
   "outputs": [
    {
     "data": {
      "text/plain": [
       "'\\ne1 = Employee(1111, \"홍길동\", 1000000, [\"여행\", \"낚시\", \"운동\"])\\ne1.display()\\n\\n결과:\\n    사번 : 1111\\n    이름 : 홍길동\\n    급여 : 1000000\\n    취미 : 여행, 낚시, 운동\\n    \\ne2 = Employee(1112, \"임꺽정\", 1200000, [\"자전거\", \"볼링\"])\\ne3 = Employee(1113, \"신돌석\", 1000000, [\"독서\"])\\n\\ntotal = Employee.getCount()\\nprint(\"총 인원수 : \", total)\\n\\ne3.setSalary(2500000)\\ne3.appendHobby([\"피아노\", \"드론\"])\\ne3.display()\\n\\n결과:\\n    사번 : 1113\\n    이름 : 신돌석\\n    급여 : 2500000\\n    취미 : 독서, 피아노, 드론\\n'"
      ]
     },
     "execution_count": 2,
     "metadata": {},
     "output_type": "execute_result"
    }
   ],
   "source": [
    "'''\n",
    "e1 = Employee(1111, \"홍길동\", 1000000, [\"여행\", \"낚시\", \"운동\"])\n",
    "e1.display()\n",
    "\n",
    "결과:\n",
    "    사번 : 1111\n",
    "    이름 : 홍길동\n",
    "    급여 : 1000000\n",
    "    취미 : 여행, 낚시, 운동\n",
    "    \n",
    "e2 = Employee(1112, \"임꺽정\", 1200000, [\"자전거\", \"볼링\"])\n",
    "e3 = Employee(1113, \"신돌석\", 1000000, [\"독서\"])\n",
    "\n",
    "total = Employee.getCount()\n",
    "print(\"총 인원수 : \", total)\n",
    "\n",
    "e3.setSalary(2500000)\n",
    "e3.appendHobby([\"피아노\", \"드론\"])\n",
    "e3.display()\n",
    "\n",
    "결과:\n",
    "    사번 : 1113\n",
    "    이름 : 신돌석\n",
    "      급여 : 2500000\n",
    "    취미 : 독서, 피아노, 드론\n",
    "'''"
   ]
  },
  {
   "cell_type": "code",
   "execution_count": 63,
   "metadata": {},
   "outputs": [],
   "source": [
    "class Employee : \n",
    "    num =int()\n",
    "    name = str()\n",
    "    pay = int()\n",
    "    hobby=list()\n",
    "    tot=0\n",
    "    \n",
    "    \n",
    "    def __init__(self,num,name,pay,hobby) :\n",
    "        self.num =num\n",
    "        self.name =name\n",
    "        self.pay = pay\n",
    "        self.hobby = hobby\n",
    "        Employee.tot += 1\n",
    "    \n",
    "    def display(self) :\n",
    "        print (\"사번 : \", self.num)\n",
    "        print (\"이름 : \", self.name)\n",
    "        print (\"급여 : \", self.pay)\n",
    "        print (\"취미 : \", self.hobby)\n",
    "        \n",
    "        \n",
    "        \n",
    "    def setSalary(self, a) :\n",
    "        self.pay = a\n",
    "        \n",
    "        \n",
    "    def appendHobby(self, l) :\n",
    "        self.hobby= self.hobby + l\n",
    "        \n",
    "    def getCount() : \n",
    "        return Employee.tot"
   ]
  },
  {
   "cell_type": "code",
   "execution_count": 64,
   "metadata": {},
   "outputs": [
    {
     "name": "stdout",
     "output_type": "stream",
     "text": [
      "사번 :  1111\n",
      "이름 :  홍길동\n",
      "급여 :  1000000\n",
      "취미 :  ['여행', '낚시', '운동']\n",
      "총 인원수 :  3\n",
      "사번 :  1113\n",
      "이름 :  신돌석\n",
      "급여 :  2500000\n",
      "취미 :  ['독서', '피아노', '드론']\n"
     ]
    }
   ],
   "source": [
    "e1 = Employee(1111, \"홍길동\", 1000000, [\"여행\", \"낚시\", \"운동\"])\n",
    "e1.display()\n",
    "e2 = Employee(1112, \"임꺽정\", 1200000, [\"자전거\", \"볼링\"])\n",
    "e3 = Employee(1113, \"신돌석\", 1000000, [\"독서\"])\n",
    "\n",
    "total = Employee.getCount()\n",
    "print(\"총 인원수 : \", total)\n",
    "\n",
    "e3.setSalary(2500000)\n",
    "e3.appendHobby([\"피아노\", \"드론\"])\n",
    "e3.display()"
   ]
  },
  {
   "cell_type": "code",
   "execution_count": null,
   "metadata": {},
   "outputs": [],
   "source": []
  },
  {
   "cell_type": "markdown",
   "metadata": {},
   "source": [
    "### 상속 (확장)\n",
    "\n",
    "  - 상속 설계 시 고려할 점\n",
    "     + 부모클래스(슈퍼클래스)는 최소한의 코드로 작성\n",
    "     + 중복된 코드가 있어서는 안된다.\n",
    "     + 상속받은 자식 클래스(서브클래스)는 반드시 기능을 확장(추가) 시켜야 한다.\n",
    "    \n",
    "  - 다형성\n",
    "     + 오버라이드 (재정의, 반드시 상속와 관련) = 고쳐서 쓴다. 내껄 내가 고치는 건->수정. 부모로 부터 물려 받은 것(상속받은 것)을 고쳐쓴다.\n",
    "      ex) 한 컴퓨터로 cpu,하드,보조 등 추가하여 사용\n",
    "     + 오버로드(중복정의, 상속과 무관) = 똑같은 함수 이름으로 여러개 (기능) 만들 수 있다.\n",
    "      ex) 똑같은 컴퓨터를 용도별로 여러개 산다. 편리하지만 메모리 많이 씀\n",
    "  \n",
    "  - super() : 부모 객체에 접근하기 위한 주소를 리턴\n",
    "  \n",
    "  - 표준화\n",
    "  \n",
    "  - 다중 상속 : 여러 부모로부터 상속 받는 것     제일 하위 클래스 = 기능 매우매우 많겠지 편의성 극대화\n",
    "                                                 but,  같은 기능 여러번 겹침. 부모가 많아서 전체적인 기능이 어떻게 구성 돼있는지 파악 힘듦\n",
    "                                                      어떤기능으로 확장해야할 지 알 수 없다. 따라서 처음부터 완벽해야.\n",
    "                                                      (그냥 상속은 하나하나씩 천천히 추가하면 되는데)\n",
    "                                                      일반적인 객체지향은 다중상속을 지원x\n",
    "                                                      \n",
    "                python은 다중 상속 지원. 왜냐하면 파이썬은 사용자의 편의를 최우선. 복잡하고 큰 문법은 다른 언어가..\n",
    "                \n",
    "  - 추상 클래스 (Abstract Class)\n",
    "      : 추상 메서드를 한 개 이상 가지고 있어야.\n",
    "      : 추상 메서드란 내용이 없는 메서드를 의미 (pass 쓸수도 있지만 추상 메서드의 혜택을 못받는다)\n",
    "      : 반드시 오버라이딩. 강제\n",
    "      : (자체적으로) 객체를 생성할 수 없다\n",
    "    \n",
    "    \n",
    "    import abc\n",
    "    class 클래스명(metaclass=abc.ABCMeta):\n",
    "    \n",
    "    @abc.abstractmethod\n",
    "    def\n",
    "    \n",
    "    \n",
    "    "
   ]
  },
  {
   "cell_type": "code",
   "execution_count": 7,
   "metadata": {},
   "outputs": [
    {
     "name": "stdout",
     "output_type": "stream",
     "text": [
      "멍멍왉왉!!!!!!\n",
      "움직인다\n",
      "현재 속도는  100\n",
      "움직인다\n"
     ]
    }
   ],
   "source": [
    "class Animal : \n",
    "    def move(self) :\n",
    "        print(\"움직인다\")\n",
    "        \n",
    "class Dog(Animal) :\n",
    "    def bark(self) :\n",
    "        print (\"멍멍왉왉!!!!!!\")     #상속이없었다면 move기능을 또만들어야 함.\n",
    "        \n",
    "        \n",
    "# dog만 객체 생성(불러와도)하면  슈퍼클래스(불러오지 않아도) 객체가 생성된다.\n",
    "        \n",
    "class Horse(Animal) :\n",
    "    def speed(self,s) :\n",
    "        print(\"현재 속도는 \", s)\n",
    "        \n",
    "##################################\n",
    "\n",
    "popee =Dog()\n",
    "popee.bark()\n",
    "popee.move()        \n",
    "\n",
    "h1=Horse()\n",
    "\n",
    "h1.speed(100)\n",
    "h1.move()\n"
   ]
  },
  {
   "cell_type": "code",
   "execution_count": 40,
   "metadata": {},
   "outputs": [
    {
     "name": "stdout",
     "output_type": "stream",
     "text": [
      "30\n",
      "8\n",
      "===============\n",
      "600\n",
      "===============\n",
      "1500\n",
      "30\n",
      "===============\n",
      "7\n",
      "81\n",
      "0으로 나눌 수 없다\n"
     ]
    }
   ],
   "source": [
    "#  전자 계산기\n",
    "\n",
    "class Calculator:\n",
    "    #first=None\n",
    "    #second=None   생성자에 할당 돼있으므로 생략가능\n",
    "    \n",
    "    \n",
    "    def __init__(self, first=None, second=None):\n",
    "        self.first = first\n",
    "        self.second = second\n",
    "        \n",
    "    def setData(self, first=None, second=None):\n",
    "        self.first = first\n",
    "        self.second = second                      \n",
    "        #생성자와 같은 코드를 왜 두번 썼을까? __init__는 한번만 쓸수있음. 계산기 한번만 쓸거 아니니까 다시 쓸때 필요한 set값\n",
    "        \n",
    "    def sum(self):\n",
    "        return self.first + self.second\n",
    "    \n",
    "    def mul(self):\n",
    "        return self.first * self.second\n",
    "    \n",
    "    def div(self):\n",
    "        return self.first / self.second\n",
    "    \n",
    "    def sub(self):\n",
    "        return self.first - self.second\n",
    "    \n",
    "    \n",
    "class Calc_v1(Calculator) : \n",
    "    def pow(self) :\n",
    "        return self.first ** self.second\n",
    "    \n",
    "    \n",
    "    \n",
    "    \n",
    "    \n",
    "    def div(self) :                         #오버라이드\n",
    "        if self.second == 0 :\n",
    "            return \"0으로 나눌 수 없다\"\n",
    "        else :\n",
    "            return self.first / self.second\n",
    "    \n",
    "######################################################################\n",
    "    \n",
    "calc1 = Calculator()\n",
    "calc1.setData(10,20)\n",
    "print(calc1.sum())\n",
    "calc1=Calc_v1()\n",
    "calc1.setData(2,3)\n",
    "print(calc1.pow())\n",
    "\n",
    "print(\"===============\")\n",
    "calc2= Calculator(20,30)\n",
    "print(calc2.mul())        #처음만 이렇게 . 이후는 setData\n",
    "print(\"===============\")\n",
    "calc2= Calculator(50,30)\n",
    "print(calc2.mul())   \n",
    "calc2.setData(10,20)\n",
    "print(calc2.sum())      \n",
    "\n",
    "print(\"===============\")\n",
    "\n",
    "\n",
    "calc3=Calc_v1()\n",
    "calc3.setData(3,4)\n",
    "print(calc3.sum())\n",
    "print(calc3.pow())\n",
    "\n",
    "calc1.setData(10,0)\n",
    "print(calc1.div())          # 분모가 0일 경우 에러 -> 오버라이드! 자식 클래스에서\n"
   ]
  },
  {
   "cell_type": "code",
   "execution_count": 41,
   "metadata": {},
   "outputs": [
    {
     "ename": "TypeError",
     "evalue": "display() missing 1 required positional argument: 'b'",
     "output_type": "error",
     "traceback": [
      "\u001b[1;31m---------------------------------------------------------------------------\u001b[0m",
      "\u001b[1;31mTypeError\u001b[0m                                 Traceback (most recent call last)",
      "\u001b[1;32m<ipython-input-41-cb42141c074e>\u001b[0m in \u001b[0;36m<module>\u001b[1;34m\u001b[0m\n\u001b[0;32m     12\u001b[0m \u001b[1;33m\u001b[0m\u001b[0m\n\u001b[0;32m     13\u001b[0m \u001b[0mt1\u001b[0m\u001b[1;33m=\u001b[0m \u001b[0mTest\u001b[0m\u001b[1;33m(\u001b[0m\u001b[1;33m)\u001b[0m\u001b[1;33m\u001b[0m\u001b[1;33m\u001b[0m\u001b[0m\n\u001b[1;32m---> 14\u001b[1;33m \u001b[0mt1\u001b[0m\u001b[1;33m.\u001b[0m\u001b[0mdisplay\u001b[0m\u001b[1;33m(\u001b[0m\u001b[1;33m)\u001b[0m\u001b[1;33m\u001b[0m\u001b[1;33m\u001b[0m\u001b[0m\n\u001b[0m",
      "\u001b[1;31mTypeError\u001b[0m: display() missing 1 required positional argument: 'b'"
     ]
    }
   ],
   "source": [
    "#오버로드 : 파이썬에선 실행 안됨\n",
    "\n",
    "class Test :\n",
    "    def display() :\n",
    "        print(\"기본값 출력\")\n",
    "        \n",
    "    def display(a) :\n",
    "        print(\"a 출력 \", a)\n",
    "    def display(a,b) :\n",
    "        print(\"a,b 출력 \", a,b)\n",
    "        \n",
    "        \n",
    "t1= Test()\n",
    "t1.display()"
   ]
  },
  {
   "cell_type": "code",
   "execution_count": 38,
   "metadata": {},
   "outputs": [
    {
     "name": "stdout",
     "output_type": "stream",
     "text": [
      "기본값 출력\n",
      "10 None\n",
      "10 20\n"
     ]
    }
   ],
   "source": [
    "# 파이썬에서는 이렇게 오버로드 효과를 구현할 수 밖에\n",
    "\n",
    "\n",
    "class Test :\n",
    "    def display(self, a=None, b=None) :\n",
    "        if a == None and b == None :\n",
    "            print(\"기본값 출력\")\n",
    "        else : print(a,b)    \n",
    "            \n",
    "t1= Test()\n",
    "t1.display()\n",
    "t1.display(10)\n",
    "t1.display(10,20)"
   ]
  },
  {
   "cell_type": "code",
   "execution_count": null,
   "metadata": {},
   "outputs": [],
   "source": []
  },
  {
   "cell_type": "code",
   "execution_count": 54,
   "metadata": {},
   "outputs": [
    {
     "name": "stdout",
     "output_type": "stream",
     "text": [
      "Employee 클래스\n",
      "나이 : 20, 하고싶은 말 일하는 동물\n",
      "나이 : 30, 하고싶은 말 일하는 동물\n",
      "============\n",
      "30\n",
      "20\n",
      "일하는 동물\n",
      "난 사람이야\n"
     ]
    }
   ],
   "source": [
    "#super\n",
    "\n",
    "class Person :\n",
    "    say = \"난 사람이야\"\n",
    "    age = \"20\"\n",
    "    \n",
    "    def __init__(self, age) :\n",
    "        print(\"person 클래스\")\n",
    "        self.age = age\n",
    "        \n",
    "        \n",
    "    def info(self)  :\n",
    "        print(\"나이 : {}, 하고싶은 말 {}\".format(self.age, self.say))\n",
    "        \n",
    "class Employee(Person) :\n",
    "    say= \"일하는 동물\"\n",
    "    subject = \"근로자\"\n",
    "    \n",
    "    \n",
    "    \n",
    "    def __init__(self) :\n",
    "        \n",
    "        print(\"Employee 클래스\")\n",
    "        \n",
    "        \n",
    "    def einfo(self) : \n",
    "        print(self.age)\n",
    "        print(super().age)     # 부모의 변수에 접근할 때\n",
    "        \n",
    "        print(self.say)\n",
    "        print(super().say)\n",
    "        \n",
    "###########################\n",
    "\n",
    "\n",
    "e1= Employee()  #자식 생성 -> 부모도 생성\n",
    "e1.info()       # 부모함수 사용가능\n",
    "\n",
    "e1.age=30\n",
    "e1.info()\n",
    "\n",
    "print(\"============\")\n",
    "\n",
    "e1.einfo()"
   ]
  },
  {
   "cell_type": "code",
   "execution_count": 112,
   "metadata": {},
   "outputs": [],
   "source": [
    "# 접근 제어 _,__\n",
    "\n",
    "class Person :\n",
    "    say = \"난 사람이야\"\n",
    "    __age = \"20\"  #직접 접근 할 수 없다. 간접으로 접근 할 수 있따. 메서드로(setAge: setter메서드, getAge : getter 메서드 암묵적 룰)\n",
    "    \n",
    "    def __init__(self, age) :\n",
    "        print(\"person 클래스\")\n",
    "        self.__age = age\n",
    "        \n",
    "        \n",
    "    def info(self)  :\n",
    "        print(\"나이 : {}, 하고싶은 말 {}\".format(self.__age, self.say))\n",
    "        \n",
    " #---------------------------------------------------------------------    \n",
    "        \n",
    "    def getAge(self) :\n",
    "        #검증 코드\n",
    "        return self.__age\n",
    "        \n",
    "        \n",
    "    def setAge(self, age) :\n",
    "        #검증 코드\n",
    "        self.__age =age\n",
    "        \n",
    "        \n",
    "#---------------------------------------------------------------------        \n",
    "            \n",
    "        \n",
    "class Employee(Person) :\n",
    "    say= \"일하는 동물\"\n",
    "    subject = \"근로자\"\n",
    "    \n",
    "    \n",
    "    \n",
    "    def __init__(self) :\n",
    "        \n",
    "        print(\"Employee 클래스\")\n",
    "        \n",
    "        \n",
    "    def einfo(self) : \n",
    "        #print(self.__age)\n",
    "       # print(super().__age)     # 부모의 변수에 접근할 때\n",
    "        \n",
    "        #print(self.say)\n",
    "        #print(super().say)\n",
    "        \n",
    "        pass"
   ]
  },
  {
   "cell_type": "code",
   "execution_count": 114,
   "metadata": {},
   "outputs": [
    {
     "name": "stdout",
     "output_type": "stream",
     "text": [
      "Employee 클래스\n",
      "나이 : 20, 하고싶은 말 일하는 동물\n",
      "-----------\n",
      "나이 : 30, 하고싶은 말 일하는 동물\n"
     ]
    }
   ],
   "source": [
    "\n",
    "e1= Employee()  #자식 생성 -> 부모도 생성\n",
    "e1.info()\n",
    "\n",
    "\n",
    "#e1.__age=30       # 물려받은걸 쓴게 아니라 자식클래스에서 그냥 추가한것. 오류안남\n",
    "\n",
    "e1.einfo()    #부모에서 __썼다는 건 이름을 바꿨다는 의미 따라서 자식클래스에서  self.__age쓸 수 없다\n",
    "\n",
    "\n",
    "#굳이 쓰려면 print(self.__Person__~~) 바람직하지 않다\n",
    "print(\"-----------\")\n",
    "\n",
    "e1.setAge(30)\n",
    "\n",
    "e1.info()"
   ]
  },
  {
   "cell_type": "code",
   "execution_count": null,
   "metadata": {},
   "outputs": [],
   "source": []
  },
  {
   "cell_type": "code",
   "execution_count": 116,
   "metadata": {},
   "outputs": [],
   "source": [
    "#표준화\n",
    "\n",
    "class Volume:\n",
    "    vol = 0\n",
    "    def volumeUp(self, vol):\n",
    "        self.vol += vol\n",
    "        print(\"볼륨의 크기는 %d만큼 증가하여 현재 볼륨은 %d 입니다.\"% (vol, self.vol))\n",
    "        \n",
    "    def volumeDown(self, vol):\n",
    "        self.vol -= vol\n",
    "        print(\"볼륨의 크기는 %d만큼 감소하여 현재 볼륨은 %d 입니다.\"% (vol, self.vol))\n",
    "        \n",
    "############################################\n",
    "\n",
    "class TV(Volume):\n",
    "    def volumeUp(self, vol):\n",
    "        self.vol += vol\n",
    "        print(\"TV 볼륨의 크기는 %d만큼 증가하여 현재 볼륨은 %d 입니다.\"% (vol, self.vol))\n",
    "        \n",
    "    def volumeDown(self, vol):\n",
    "        self.vol -= vol\n",
    "        print(\"TV 볼륨의 크기는 %d만큼 감소하여 현재 볼륨은 %d 입니다.\"% (vol, self.vol))\n",
    "\n",
    "############################################\n",
    "\n",
    "class Radio(Volume):\n",
    "    def volumeUp(self, vol):\n",
    "        self.vol += vol\n",
    "        print(\"Radio 볼륨의 크기는 %d만큼 증가하여 현재 볼륨은 %d 입니다.\"% (vol, self.vol))\n",
    "        \n",
    "    def volumeDown(self, vol):\n",
    "        self.vol -= vol\n",
    "        print(\"Radio 볼륨의 크기는 %d만큼 감소하여 현재 볼륨은 %d 입니다.\"% (vol, self.vol))\n",
    "\n",
    "############################################\n",
    "\n",
    "class Speaker(Volume):\n",
    "    def volumeUp(self, vol):\n",
    "        self.vol += vol\n",
    "        print(\"Speaker 볼륨의 크기는 %d만큼 증가하여 현재 볼륨은 %d 입니다.\"% (vol, self.vol))\n",
    "        \n",
    "    def volumeDown(self, vol):\n",
    "        self.vol -= vol\n",
    "        print(\"Speaker 볼륨의 크기는 %d만큼 감소하여 현재 볼륨은 %d 입니다.\"% (vol, self.vol))\n",
    "\n",
    "#############################################"
   ]
  },
  {
   "cell_type": "code",
   "execution_count": 119,
   "metadata": {},
   "outputs": [
    {
     "name": "stdout",
     "output_type": "stream",
     "text": [
      "TV 볼륨의 크기는 10만큼 증가하여 현재 볼륨은 10 입니다.\n",
      "TV 볼륨의 크기는 3만큼 감소하여 현재 볼륨은 7 입니다.\n"
     ]
    }
   ],
   "source": [
    "tv= TV()\n",
    "radio=Radio()\n",
    "speaker=Speaker()\n",
    "\n",
    "\n",
    "tv.volumeUp(10)\n",
    "tv.volumeDown(3)"
   ]
  },
  {
   "cell_type": "code",
   "execution_count": null,
   "metadata": {},
   "outputs": [],
   "source": []
  },
  {
   "cell_type": "code",
   "execution_count": 123,
   "metadata": {},
   "outputs": [
    {
     "name": "stdout",
     "output_type": "stream",
     "text": [
      "통화 기능\n",
      "촬영 기능\n"
     ]
    }
   ],
   "source": [
    "# 다중 상속\n",
    "\n",
    "class Phone :\n",
    "    def call(self):\n",
    "        print(\"통화 기능\")\n",
    "        \n",
    "        \n",
    "class Camera :\n",
    "    def picture(self):\n",
    "        print(\"촬영 기능\")\n",
    "        \n",
    "        \n",
    "        \n",
    "class Phonecamera(Phone, Camera) :\n",
    "    pass\n",
    "\n",
    "\n",
    "\n",
    "#########################################################\n",
    "\n",
    "cp = Phonecamera()\n",
    "cp.call()\n",
    "cp.picture()"
   ]
  },
  {
   "cell_type": "code",
   "execution_count": null,
   "metadata": {},
   "outputs": [],
   "source": [
    "\"\"\"\n",
    "class Power:\n",
    "    def  powerOn(), powerOff()\n",
    "\n",
    "\n",
    "class Volume:\n",
    "    vol = 0\n",
    "    def volumeUp(self, vol):\n",
    "        self.vol += vol\n",
    "        print(\"볼륨의 크기는 %d만큼 증가하여 현재 볼륨은 %d 입니다.\"% (vol, self.vol))\n",
    "        \n",
    "    def volumeDown(self, vol):\n",
    "        self.vol -= vol\n",
    "        print(\"볼륨의 크기는 %d만큼 감소하여 현재 볼륨은 %d 입니다.\"% (vol, self.vol))\n",
    "        \n",
    "############################################\n",
    "\n",
    "class TV(Volume):\n",
    "    def volumeUp(self, vol):\n",
    "        self.vol += vol\n",
    "        print(\"TV 볼륨의 크기는 %d만큼 증가하여 현재 볼륨은 %d 입니다.\"% (vol, self.vol))\n",
    "        \n",
    "    def volumeDown(self, vol):\n",
    "        self.vol -= vol\n",
    "        print(\"TV 볼륨의 크기는 %d만큼 감소하여 현재 볼륨은 %d 입니다.\"% (vol, self.vol))\n",
    "\n",
    "############################################\n",
    "\n",
    "class Radio(Volume):\n",
    "    def volumeUp(self, vol):\n",
    "        self.vol += vol\n",
    "        print(\"Radio 볼륨의 크기는 %d만큼 증가하여 현재 볼륨은 %d 입니다.\"% (vol, self.vol))\n",
    "        \n",
    "    def volumeDown(self, vol):\n",
    "        self.vol -= vol\n",
    "        print(\"Radio 볼륨의 크기는 %d만큼 감소하여 현재 볼륨은 %d 입니다.\"% (vol, self.vol))\n",
    "\n",
    "############################################\n",
    "\n",
    "class Speaker(Volume):\n",
    "    def volumeUp(self, vol):\n",
    "        self.vol += vol\n",
    "        print(\"Speaker 볼륨의 크기는 %d만큼 증가하여 현재 볼륨은 %d 입니다.\"% (vol, self.vol))\n",
    "        \n",
    "    def volumeDown(self, vol):\n",
    "        self.vol -= vol\n",
    "        print(\"Speaker 볼륨의 크기는 %d만큼 감소하여 현재 볼륨은 %d 입니다.\"% (vol, self.vol))\n",
    "\n",
    "#############################################\n",
    "\n",
    "\n",
    "위에 작성된 Volume, Tv, Radio, Speaker클래스를 기반으로 확장\n",
    "\n",
    "1. 부모클래스로 Power를 추가한다. : 다중 상속 구현\n",
    "    - poweron(), powerOff()\n",
    "    \n",
    "2. 전원을 켰을때만 볼륨 조정을 할 수 있도록 한다.\n",
    "\n",
    "3. 볼륨 조정은 max값을 100으로 하고 min값을 0으로 한다.\n",
    "--------------------------------------------------------\n",
    "결과 예시:\n",
    "\n",
    "1. TV\n",
    "2. RADIO\n",
    "3. SPEAKER\n",
    "4. 종료\n",
    "메뉴 : 1(엔터)\n",
    "\n",
    "1. 전원 On\n",
    "2. 볼륨 조절\n",
    "3. 나가기           \n",
    "메뉴 : 1(엔터)\n",
    "현재 레벨 :0\n",
    "볼륨조절: ()\n",
    "\n",
    "메뉴 :  2\n",
    "전원 켜져있으면 \n",
    "현재 레벨 :0\n",
    "볼륨조절: ()\n",
    "\n",
    "전원 안켜져있으면\n",
    "-> 전원을 확인하세요\n",
    "\n",
    "레벨 입력 : 10 \n",
    "현재 TV의 볼륨은 ~~이다.\n",
    "...\n",
    "\n",
    "파이참. 파이썬 파일로\n",
    "\"\"\""
   ]
  },
  {
   "cell_type": "code",
   "execution_count": 137,
   "metadata": {},
   "outputs": [
    {
     "name": "stdout",
     "output_type": "stream",
     "text": [
      "TV 볼륨의 크기는 10만큼 증가하여 현재 볼륨은 10 입니다.\n",
      "TV 볼륨의 크기는 3만큼 감소하여 현재 볼륨은 7 입니다.\n"
     ]
    },
    {
     "ename": "TypeError",
     "evalue": "Can't instantiate abstract class Volume with abstract methods volumeDown, volumeUp",
     "output_type": "error",
     "traceback": [
      "\u001b[1;31m---------------------------------------------------------------------------\u001b[0m",
      "\u001b[1;31mTypeError\u001b[0m                                 Traceback (most recent call last)",
      "\u001b[1;32m<ipython-input-137-bf3ba5d715f1>\u001b[0m in \u001b[0;36m<module>\u001b[1;34m\u001b[0m\n\u001b[0;32m     36\u001b[0m \u001b[0mtv\u001b[0m\u001b[1;33m.\u001b[0m\u001b[0mvolumeDown\u001b[0m\u001b[1;33m(\u001b[0m\u001b[1;36m3\u001b[0m\u001b[1;33m)\u001b[0m\u001b[1;33m\u001b[0m\u001b[1;33m\u001b[0m\u001b[0m\n\u001b[0;32m     37\u001b[0m \u001b[1;33m\u001b[0m\u001b[0m\n\u001b[1;32m---> 38\u001b[1;33m \u001b[0mv1\u001b[0m \u001b[1;33m=\u001b[0m\u001b[0mVolume\u001b[0m\u001b[1;33m(\u001b[0m\u001b[1;33m)\u001b[0m\u001b[1;33m\u001b[0m\u001b[1;33m\u001b[0m\u001b[0m\n\u001b[0m\u001b[0;32m     39\u001b[0m \u001b[0mv1\u001b[0m\u001b[1;33m.\u001b[0m\u001b[0mvol\u001b[0m\u001b[1;33m=\u001b[0m\u001b[1;36m10\u001b[0m\u001b[1;33m\u001b[0m\u001b[1;33m\u001b[0m\u001b[0m\n",
      "\u001b[1;31mTypeError\u001b[0m: Can't instantiate abstract class Volume with abstract methods volumeDown, volumeUp"
     ]
    }
   ],
   "source": [
    "# 추상 클래스와 추상 메서드 \n",
    "# 나중에 오버라이드 안했을 때 에러나게 만드는 혜택과 나중에 자식 클래스에서 고쳐쓸것이라는 것을 눈에 띄게 알려주는 기능\n",
    "\n",
    "import abc\n",
    "\n",
    "class Volume(metaclass=abc.ABCMeta):\n",
    "    \n",
    "    vol = 0\n",
    "    \n",
    "    \n",
    "    @abc.abstractmethod\n",
    "    def volumeUp(self, vol):\n",
    "        pass\n",
    "    \n",
    "    \n",
    "    @abc.abstractmethod\n",
    "    def volumeDown(self, vol):\n",
    "        pass\n",
    "        \n",
    "############################################\n",
    "\n",
    "class TV(Volume):\n",
    "    def volumeUp(self, vol):\n",
    "        self.vol += vol\n",
    "        print(\"TV 볼륨의 크기는 %d만큼 증가하여 현재 볼륨은 %d 입니다.\"% (vol, self.vol))\n",
    "        \n",
    "    def volumeDown(self, vol):\n",
    "        self.vol -= vol\n",
    "        print(\"TV 볼륨의 크기는 %d만큼 감소하여 현재 볼륨은 %d 입니다.\"% (vol, self.vol))\n",
    "\n",
    "        \n",
    "tv= TV()\n",
    "\n",
    "\n",
    "\n",
    "tv.volumeUp(10)\n",
    "tv.volumeDown(3)   \n",
    "\n",
    "#v1 =Volume()             추상클래스는 그 자체로 객체를 생성할 수 없다!!!!!!!!!\n",
    "#v1.vol=10"
   ]
  },
  {
   "cell_type": "code",
   "execution_count": 141,
   "metadata": {
    "scrolled": false
   },
   "outputs": [
    {
     "name": "stdout",
     "output_type": "stream",
     "text": [
      "<class 'int'>\n"
     ]
    },
    {
     "data": {
      "text/plain": [
       "['__abstractmethods__',\n",
       " '__class__',\n",
       " '__delattr__',\n",
       " '__dict__',\n",
       " '__dir__',\n",
       " '__doc__',\n",
       " '__eq__',\n",
       " '__format__',\n",
       " '__ge__',\n",
       " '__getattribute__',\n",
       " '__gt__',\n",
       " '__hash__',\n",
       " '__init__',\n",
       " '__init_subclass__',\n",
       " '__le__',\n",
       " '__lt__',\n",
       " '__module__',\n",
       " '__ne__',\n",
       " '__new__',\n",
       " '__reduce__',\n",
       " '__reduce_ex__',\n",
       " '__repr__',\n",
       " '__setattr__',\n",
       " '__sizeof__',\n",
       " '__str__',\n",
       " '__subclasshook__',\n",
       " '__weakref__',\n",
       " '_abc_impl',\n",
       " 'vol',\n",
       " 'volumeDown',\n",
       " 'volumeUp']"
      ]
     },
     "execution_count": 141,
     "metadata": {},
     "output_type": "execute_result"
    }
   ],
   "source": [
    "#object\n",
    "dir(object)\n",
    "\n",
    "\n",
    "a=int()\n",
    "print(type(a))\n",
    "dir(a)\n",
    "\n",
    "\n",
    "dir(tv) # 눈에 보이지는 않지만 object로 부터 내려오면서 계속 상속받음"
   ]
  },
  {
   "cell_type": "code",
   "execution_count": 151,
   "metadata": {},
   "outputs": [
    {
     "name": "stdout",
     "output_type": "stream",
     "text": [
      "파이썬 클래스\n",
      "파이썬 클래스\n",
      "파이썬 클래스\n",
      "------------------------------\n",
      "------------------------------\n",
      "데이터변경3\n",
      "데이터변경3\n",
      "데이터변경3\n"
     ]
    }
   ],
   "source": [
    "# object의 __class__ 사용해보기 :static\n",
    "\n",
    "class Test :\n",
    "    data = \"파이썬 클래스\"\n",
    "    \n",
    "#######################################    \n",
    "\n",
    "\n",
    "ob1=Test()\n",
    "ob2=Test()\n",
    "\n",
    "print(ob1.data)\n",
    "print(ob2.data)\n",
    "print(Test.data)\n",
    "\n",
    "\n",
    "print('------------------------------')\n",
    "#ob1.data = \"데이터 변경\"\n",
    "# Test.data =\"데이터 변경2\"\n",
    "\n",
    "# print(ob1.data)      \n",
    "# print(ob2.data)        #먼저 참조된 주소(test)가 있으면 참조된 것으로 따름\n",
    "# print(Test.data)\n",
    "\n",
    "print('------------------------------')\n",
    "\n",
    "ob1.__class__.data =\"데이터변경3\"   # 하나의 값을 공동으로 사용하고자 했을 때만.\n",
    "\n",
    "print(ob1.data)      \n",
    "print(ob2.data)        #먼저 참조된 주소(test)가 있으면 참조된 것으로 따름\n",
    "print(Test.data)"
   ]
  },
  {
   "cell_type": "code",
   "execution_count": 159,
   "metadata": {},
   "outputs": [
    {
     "name": "stdout",
     "output_type": "stream",
     "text": [
      "멍멍이 10\n",
      "야옹이 11\n",
      "---------------------------------------------\n"
     ]
    },
    {
     "ename": "AttributeError",
     "evalue": "'Animal' object has no attribute 'etc'",
     "output_type": "error",
     "traceback": [
      "\u001b[1;31m---------------------------------------------------------------------------\u001b[0m",
      "\u001b[1;31mAttributeError\u001b[0m                            Traceback (most recent call last)",
      "\u001b[1;32m<ipython-input-159-b15ff5373bdd>\u001b[0m in \u001b[0;36m<module>\u001b[1;34m\u001b[0m\n\u001b[0;32m     29\u001b[0m \u001b[0mprint\u001b[0m\u001b[1;33m(\u001b[0m\u001b[1;34m\"---------------------------------------------\"\u001b[0m\u001b[1;33m)\u001b[0m\u001b[1;33m\u001b[0m\u001b[1;33m\u001b[0m\u001b[0m\n\u001b[0;32m     30\u001b[0m \u001b[1;33m\u001b[0m\u001b[0m\n\u001b[1;32m---> 31\u001b[1;33m \u001b[0mdog\u001b[0m\u001b[1;33m.\u001b[0m\u001b[0metc\u001b[0m \u001b[1;33m=\u001b[0m \u001b[1;34m\"예방접종을 받았음\"\u001b[0m\u001b[1;33m\u001b[0m\u001b[1;33m\u001b[0m\u001b[0m\n\u001b[0m\u001b[0;32m     32\u001b[0m \u001b[0mprint\u001b[0m\u001b[1;33m(\u001b[0m\u001b[0mdog\u001b[0m\u001b[1;33m.\u001b[0m\u001b[0metc\u001b[0m\u001b[1;33m)\u001b[0m          \u001b[1;31m#객체별로 변수 추가 함. 남발하면 안됨. 따라서 __slots__\u001b[0m\u001b[1;33m\u001b[0m\u001b[1;33m\u001b[0m\u001b[0m\n\u001b[0;32m     33\u001b[0m \u001b[1;33m\u001b[0m\u001b[0m\n",
      "\u001b[1;31mAttributeError\u001b[0m: 'Animal' object has no attribute 'etc'"
     ]
    }
   ],
   "source": [
    "#__slots__: 객체별로 변수 추가 금지\n",
    "\n",
    "\n",
    "class Animal : \n",
    "    #name = \"동물\"\n",
    "    #age = 0\n",
    "    __slots__=[\"name\", \"age\"]\n",
    "    \n",
    "    def display(self) :\n",
    "        print(self.name, self.age)\n",
    "        \n",
    "        \n",
    "        \n",
    "##########################\n",
    "\n",
    "dog = Animal()\n",
    "cat = Animal()\n",
    "\n",
    "\n",
    "\n",
    "dog.name=\"멍멍이\"\n",
    "dog.age = 10\n",
    "cat.name=\"야옹이\"\n",
    "cat.age = 11\n",
    "\n",
    "dog.display()\n",
    "cat.display()\n",
    "\n",
    "print(\"---------------------------------------------\")\n",
    "\n",
    "dog.etc = \"예방접종을 받았음\"\n",
    "print(dog.etc)          #객체별로 변수 추가 함. 남발하면 안됨. 따라서 __slots__\n",
    "\n",
    "\n",
    "print(\"---------------------------------------------\")\n",
    "\n",
    "\n",
    "\n"
   ]
  },
  {
   "cell_type": "code",
   "execution_count": null,
   "metadata": {},
   "outputs": [],
   "source": []
  }
 ],
 "metadata": {
  "kernelspec": {
   "display_name": "Python 3",
   "language": "python",
   "name": "python3"
  },
  "language_info": {
   "codemirror_mode": {
    "name": "ipython",
    "version": 3
   },
   "file_extension": ".py",
   "mimetype": "text/x-python",
   "name": "python",
   "nbconvert_exporter": "python",
   "pygments_lexer": "ipython3",
   "version": "3.7.6"
  }
 },
 "nbformat": 4,
 "nbformat_minor": 4
}
