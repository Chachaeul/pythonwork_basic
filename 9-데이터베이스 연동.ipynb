{
 "cells": [
  {
   "cell_type": "markdown",
   "metadata": {},
   "source": [
    "## 1. 파이썬과 MySQL 활용\n",
    "\n",
    "### 모듈\n",
    "    \n",
    "            1) mysqlclient, PyMySQL\n",
    "            2) pip install mysqlclient, pip install PyMySQL\n",
    "            "
   ]
  },
  {
   "cell_type": "markdown",
   "metadata": {},
   "source": [
    "### mysqlclient 모듈 사용"
   ]
  },
  {
   "cell_type": "code",
   "execution_count": null,
   "metadata": {},
   "outputs": [],
   "source": [
    "import MySQLdb"
   ]
  },
  {
   "cell_type": "code",
   "execution_count": null,
   "metadata": {},
   "outputs": [],
   "source": [
    "# mysql 서버에 접속\n",
    "conn=MySQLdb.connect(host=\"127.0.0.1\", user=\"root\", password=\"1111\",database=\"testdb\")\n",
    "print(conn)\n",
    "conn.close()"
   ]
  },
  {
   "cell_type": "code",
   "execution_count": null,
   "metadata": {},
   "outputs": [],
   "source": [
    "config={\"host\":\"127.0.0.1\", \"user\":\"root\", \"password\":\"1111\",\"database\":\"testdb\"}\n",
    "\n",
    "\n",
    "conn=MySQLdb.connect(**config)\n",
    "print(conn)\n",
    "conn.close()"
   ]
  },
  {
   "cell_type": "code",
   "execution_count": null,
   "metadata": {},
   "outputs": [],
   "source": [
    "# SELECT\n",
    "\n",
    "conn = MySQLdb.connect(**config)\n",
    "\n",
    "sql = \"SELECT empno, ename, sal, job, deptno FROM emp\"\n",
    "cur = conn.cursor()\n",
    "cur.execute(sql)\n",
    "#print(cur)\n",
    "\n",
    "#print(type(cur))\n",
    "\n",
    "#for data in cur :\n",
    "    #print(data)      #튜플로 묶어서 저장하고 있다. 이후 디비필요 없음. 가져온 데이터로 파이썬 작업 하면됨.\n",
    " #   print(\"%d, %s, %d, %s, %d\"%data)\n",
    "  \n",
    "for empno, ename, sal, job, deptno in cur:\n",
    "    print(empno, ename, sal, job, deptno)\n",
    "    \n",
    "conn.close()"
   ]
  },
  {
   "cell_type": "code",
   "execution_count": null,
   "metadata": {},
   "outputs": [],
   "source": [
    "# INSERT\n",
    "conn = MySQLdb.connect(**config)\n",
    "cur = conn.cursor()\n",
    "\n",
    "sql=\"\"\"INSERT INTO emp(empno, ename, sal, job, mgr, deptno, hiredate) VALUES(1, 'tom', 700, 'clerk',7788,20,now())\"\"\"\n",
    "\n",
    "cur.execute(sql)\n",
    "conn.commit()\n",
    "\n",
    "conn.close()\n"
   ]
  },
  {
   "cell_type": "code",
   "execution_count": null,
   "metadata": {},
   "outputs": [],
   "source": [
    "conn = MySQLdb.connect(**config)\n",
    "cur = conn.cursor()\n",
    "\n",
    "v_empno = 5\n",
    "v_ename ='Johnson'\n",
    "v_sal = 1500\n",
    "\n",
    "sql = \"INSERT INTO emp(empno, ename, sal,hiredate) VALUES(\" + str(v_empno) + \",'\" + v_ename  + \"',\"+ str(v_sal)+\", now())\"\n",
    "print(sql)\n",
    "\n",
    "cur.execute(sql)\n",
    "conn.commit()\n",
    "\n",
    "conn.close()\n"
   ]
  },
  {
   "cell_type": "code",
   "execution_count": null,
   "metadata": {},
   "outputs": [],
   "source": [
    "conn = MySQLdb.connect(**config)\n",
    "cur = conn.cursor()\n",
    "\n",
    "v_empno = 10\n",
    "v_ename ='Jane'\n",
    "v_sal = 2000\n",
    "\n",
    "sql = \"INSERT INTO emp(empno, ename, sal,hiredate) VALUES(%s, %s, %s, now())\"\n",
    "sql_data =(str(v_empno),v_ename,str(v_sal))\n",
    "\n",
    "\n",
    "cur.execute(sql, sql_data)\n",
    "conn.commit()\n",
    "\n",
    "conn.close()\n"
   ]
  },
  {
   "cell_type": "code",
   "execution_count": null,
   "metadata": {},
   "outputs": [],
   "source": [
    "# DELETE\n",
    "conn = MySQLdb.connect(**config)\n",
    "cur = conn.cursor()\n",
    "sql = \"DELETE FROM emp WHERE empno BETWEEN 1 AND 10\"\n",
    "\n",
    "cur.execute(sql)\n",
    "conn.commit()\n",
    "\n",
    "conn.close()\n"
   ]
  },
  {
   "cell_type": "code",
   "execution_count": null,
   "metadata": {},
   "outputs": [],
   "source": []
  },
  {
   "cell_type": "markdown",
   "metadata": {},
   "source": [
    "## PyMySQL 모듈 사용"
   ]
  },
  {
   "cell_type": "code",
   "execution_count": null,
   "metadata": {},
   "outputs": [],
   "source": [
    "import pymysql\n"
   ]
  },
  {
   "cell_type": "code",
   "execution_count": null,
   "metadata": {},
   "outputs": [],
   "source": [
    "conn=pymysql.connect(host=\"127.0.0.1\", user=\"root\", password=\"1111\",database=\"testdb\")\n",
    "print(conn)"
   ]
  },
  {
   "cell_type": "code",
   "execution_count": null,
   "metadata": {},
   "outputs": [],
   "source": [
    "conn = pymysql.connect(host='127.0.0.1', user = 'root', password = '1111', \n",
    "                       database = 'testdb', port = 3306, charset = 'utf8')\n",
    "\n",
    "print(conn)\n",
    "conn.close()"
   ]
  },
  {
   "cell_type": "code",
   "execution_count": null,
   "metadata": {},
   "outputs": [],
   "source": [
    "config = {'host' : '127.0.0.1', 'user' : 'root', 'password' : '1111', \n",
    "          'database' : 'testdb', 'port' : 3306, 'charset' : 'utf8'}\n",
    "\n",
    "conn = pymysql.connect(**config)\n",
    "print(conn)\n",
    "conn.close()"
   ]
  },
  {
   "cell_type": "code",
   "execution_count": null,
   "metadata": {},
   "outputs": [],
   "source": [
    "conn = pymysql.connect(**config)\n",
    "cur = conn.cursor()\n",
    "\n",
    "sql = \"\"\"\n",
    "CREATE TABLE IF NOT EXISTS pythonTable(\n",
    "id int unsigned not null auto_increment,\n",
    "name varchar(20) not null,\n",
    "regdate datetime,\n",
    "primary key(id)\n",
    ");\n",
    "\"\"\"\n",
    "cur.execute(sql)\n",
    "cur.execute(\"show tables\")\n",
    "\n",
    "for i in cur :\n",
    "    print (i)\n",
    "\n",
    "conn.commit()\n",
    "conn.close()"
   ]
  },
  {
   "cell_type": "code",
   "execution_count": null,
   "metadata": {},
   "outputs": [],
   "source": [
    "conn = pymysql.connect(**config)\n",
    "try:\n",
    "    cur = conn.cursor()\n",
    "\n",
    "    sql = \"\"\"\n",
    "    CREATE TABLE IF NOT EXISTS pythonTable(\n",
    "    id int unsigned not null auto_increment,\n",
    "    name varchar(20) not null,\n",
    "    regdate datetime,\n",
    "    primary key(id)\n",
    "    );\n",
    "    \"\"\"\n",
    "    cur.execute(sql)\n",
    "    conn.commit()\n",
    "    \n",
    "    \n",
    "    \n",
    "finally :\n",
    "    conn.close()\n",
    "    \n",
    "\n",
    "\n",
    "\n"
   ]
  },
  {
   "cell_type": "code",
   "execution_count": null,
   "metadata": {},
   "outputs": [],
   "source": [
    "conn = pymysql.connect(**config)\n",
    "try:\n",
    "    cur = conn.cursor()\n",
    "\n",
    "    sql = \"INSERT INTO pythontable(name,regdate) VALUES('tom',now());\"\n",
    "    \n",
    "    for num in range(10):\n",
    "        cur.execute(sql)\n",
    "    \n",
    "    \n",
    "    conn.commit()\n",
    "    \n",
    "    \n",
    "    \n",
    "finally :\n",
    "    conn.close()\n",
    "    \n",
    "\n"
   ]
  },
  {
   "cell_type": "code",
   "execution_count": null,
   "metadata": {},
   "outputs": [],
   "source": [
    "#csv 파일을 DB에 저장하기\n",
    "\n",
    "\"\"\"\n",
    "CREATE TABLE IF NOT EXISTS suppliers(\n",
    "    Supplier_Name    varchar(20),\n",
    "    Invoice_Number   varchar(20),\n",
    "    Part_Number      varchar(20),\n",
    "    Cost             float,\n",
    "    Purchase_Date    date\n",
    ");\n",
    "\"\"\"\n",
    "\n",
    "import csv\n",
    "from datetime import datetime\n",
    "\n",
    "conn = pymysql.connect(**config)\n",
    "try:\n",
    "    cur=conn.cursor()\n",
    "    \n",
    "    sql=\"delete from suppliers\"\n",
    "    cur.execute(sql)\n",
    "    conn.commit()\n",
    "    \n",
    "    file= csv.reader(open(\"data/input.csv\"))\n",
    "    #print(file)\n",
    "    header = next(file)\n",
    "    \n",
    "    for row in file:\n",
    "           cur.execute(\"INSERT INTO suppliers VALUES(%s,%s,%s,%s,%s)\", row)     \n",
    "\n",
    "    \n",
    "    \n",
    "   # for row in file:\n",
    "   #     data = []\n",
    "   #     for col in range(len(header)):\n",
    "   #         if col==4:\n",
    "   #             tmp = datetime.strptime(row[col], \"%Y-%m-%d\")\n",
    "   #             data.append(tmp)\n",
    "   #         else:\n",
    "   #             data.append(row[col])\n",
    "                \n",
    "   #     cur.execute(\"INSERT INTO suppliers VALUES(%s,%s,%s,%s,%s)\", data)\n",
    "        \n",
    "    conn.commit()\n",
    "    \n",
    "finally:\n",
    "    conn.close()\n"
   ]
  },
  {
   "cell_type": "code",
   "execution_count": null,
   "metadata": {},
   "outputs": [],
   "source": [
    "#DB에서 가져온 데이터를 CSV 형식 파일로 저장\n",
    "\n",
    "conn = pymysql.connect(**config)\n",
    "try:\n",
    "    cur=conn.cursor()\n",
    "    \n",
    "    cur.execute(\"SELECT * FROM suppliers WHERE cost>500000\")\n",
    "    \n",
    "    #for i in cur : print(i)\n",
    "    \n",
    "    file = csv.writer(open(\"data/output.csv\",\"w\"), delimiter=\",\")\n",
    "    \n",
    "    header = [\"Supplier Name\", \"Invoice Name\", \"Part Number\", \"Cost\" , \"Purchase Date\"]\n",
    "    file.writerow(header)\n",
    "    \n",
    "    \n",
    "    for row in cur : \n",
    "        file.writerow(row)\n",
    "    \n",
    "finally:\n",
    "   \n",
    "    conn.close()\n",
    "    \n",
    "    "
   ]
  },
  {
   "cell_type": "code",
   "execution_count": null,
   "metadata": {},
   "outputs": [],
   "source": []
  },
  {
   "cell_type": "markdown",
   "metadata": {},
   "source": [
    "# 2. 파이썬과 SQLite\n",
    "\n",
    "       1. 로컬 DB로 사용할 수 있는 제품들\n",
    "              - Access\n",
    "              - SQLite\n",
    "              - Microsoft SQL Server Compact Edition\n",
    "              - Firebird Emdeded Server\n",
    "              - H2\n",
    "              - HSQL\n",
    "              - Apache Derby\n",
    "              ...\n",
    "              \n",
    "       2. 특징\n",
    "           1) 파일기반의 DBMS, 저메모리, 빠른 처리속도\n",
    "           2) 오픈소스 \n",
    "           3) 별도의 DB서버가 없어도 쉽고 편리하게 사용할 수 있는 Embeded SQL DB엔진\n",
    "           4) 안드로이드, 아이폰 등의 스마트폰에 기본 내장된 DB\n",
    "           5) 표준 SQL. 지원\n",
    "           6) 파이썬에 내장\n",
    "           -------------------------------------\n",
    "           7) 컬럼을 삭제하거나 변경하는 것 등이 제한\n",
    "           8) Left Outer Join만 지원( INNER는 기본 \n",
    "           9) 읽기전용 뷰만 제공\n",
    "           \n",
    "       3. 공식사이트\n",
    "           http://sqlite.org\n",
    "           \n",
    "       4. 클라이언트 툴\n",
    "           - http://www.sqliteexpert.com\n",
    "           \n",
    "           "
   ]
  },
  {
   "cell_type": "code",
   "execution_count": null,
   "metadata": {},
   "outputs": [],
   "source": [
    "# sqliteexpert 를 이용해서 db생성 : mysqlite.db\n",
    "\n",
    "\"\"\"\n",
    "CREATE TABLE tblmember(\n",
    "    id int,\n",
    "    name varchar(10),\n",
    "    regdate datetime);\n",
    "\"\"\"\n",
    "\"\"\"\n",
    "INSERT INTO tblmember VALUES(1,'홍길동','2020-5-5');\n",
    "INSERT INTO tblmember VALUES(2,'임꺽정',date('now'));    \n",
    "\"\"\""
   ]
  },
  {
   "cell_type": "code",
   "execution_count": null,
   "metadata": {},
   "outputs": [],
   "source": [
    "import sqlite3\n",
    "\n",
    "print(sqlite3.version)"
   ]
  },
  {
   "cell_type": "code",
   "execution_count": null,
   "metadata": {},
   "outputs": [],
   "source": [
    "sqlite3.connect(\"data/mysqlite.db\")\n",
    "print(conn)\n",
    "cur = conn.cursor()\n",
    "print(cur)\n",
    "conn.close()"
   ]
  },
  {
   "cell_type": "code",
   "execution_count": null,
   "metadata": {},
   "outputs": [],
   "source": [
    "#SELECT\n",
    "\n",
    "\n",
    "conn =sqlite3.connect(\"data/mysqlite.db\")\n",
    "\n",
    "\n",
    "cur = conn.cursor()\n",
    "\n",
    "\n",
    "\n",
    "cur.execute(\"SELECT * FROM tblmember\")\n",
    "\n",
    "\n",
    "for row in cur:\n",
    "    print(row)\n",
    "conn.close()"
   ]
  },
  {
   "cell_type": "code",
   "execution_count": null,
   "metadata": {},
   "outputs": [],
   "source": [
    "# INSERT\n",
    "\n",
    "conn =sqlite3.connect(\"data/mysqlite.db\")\n",
    "cur = conn.cursor()\n",
    "\n",
    "\n",
    "\n",
    "cur.execute(\"INSERT INTO tblmember VALUES(3,'홍경래',date('now'))\")\n",
    "\n",
    "conn.commit()\n",
    "conn.close()\n"
   ]
  },
  {
   "cell_type": "code",
   "execution_count": null,
   "metadata": {},
   "outputs": [],
   "source": [
    "#CVS 파일을 읽어서 DB에 저장\n",
    "\n",
    "import csv\n",
    "\n",
    "file = csv.reader(open('data/input.csv','r'),delimiter=',')\n",
    "header = next(file)\n",
    "\n",
    "conn = sqlite3.connect('data/mysqlite.db')\n",
    "cur = conn.cursor()\n",
    "\n",
    "for row in file :\n",
    "    cur.execute(\"INSERT INTO suppliers VALUES(?,?,?,?,?)\", row)\n",
    "    \n",
    "conn.commit()\n",
    "conn.close()    \n"
   ]
  },
  {
   "cell_type": "code",
   "execution_count": null,
   "metadata": {},
   "outputs": [],
   "source": [
    "\"\"\"\n",
    "1) mysql의 emp테이블을 emp.csv로 저장\n",
    "\n",
    "2) emp테이블을 이용해서 아래와 같은 프로그램\n",
    "예시)\n",
    "        1. mysql\n",
    "        2. sqlite\n",
    "        연결할 db의 종류 :\n",
    "        \n",
    "        연결할 주소와 계정을 입력: (mysql일 경우)\n",
    "        주소 : xxx.xxx.xxx.xxx\n",
    "        아이디 : xxx\n",
    "        패스워드 : xxx\n",
    "        \n",
    "        메뉴 선택\n",
    "        1. 조회\n",
    "        2. 입력\n",
    "        3. 수정\n",
    "        4. 삭제\n",
    "        메뉴 : \n",
    "    \n",
    "\"\"\""
   ]
  },
  {
   "cell_type": "code",
   "execution_count": null,
   "metadata": {},
   "outputs": [],
   "source": [
    "#메모리 DB   : 파일에 저장하는 것보다 속도가 빠름. 그러나 휘발함.\n",
    "\n",
    "conn = sqlite3.connect(\":memory:\")\n",
    "cur = conn.cursor()\n",
    "print(cur)\n",
    "\n",
    "cur.execute(\"CREATE TABLE phonebook(name text, phonenum varchar(20));\")\n",
    "cur.execute(\"INSERT INTO phonebook VALUES(?,?);\",(\"Tom\",\"010-111-1111\"))"
   ]
  },
  {
   "cell_type": "code",
   "execution_count": null,
   "metadata": {},
   "outputs": [],
   "source": [
    "cur.execute(\"select * from phonebook\")\n",
    "for i in cur:\n",
    "    print(i)"
   ]
  },
  {
   "cell_type": "code",
   "execution_count": null,
   "metadata": {},
   "outputs": [],
   "source": [
    "#입력 데이터 인자를 변수명 처리\n",
    "\n",
    "sql = \"INSERT INTO phonebook VALUES(:vName, :vPhone)\"\n",
    "cur.execute(sql, {\"vPhone\" : \"010-222-2222\",\"vName\":\"Johnson\"})"
   ]
  },
  {
   "cell_type": "code",
   "execution_count": null,
   "metadata": {},
   "outputs": [],
   "source": [
    "#여러 개의 데이터를 한번에 처리 executemany\n",
    "datalist= (('jane','010-3333-3333'), ('paul','010-4444-4444'),('chris','010-5555-5555'))\n",
    "\n",
    "cur.executemany(\"INSERT INTO phonebook VALUES(?,?);\",datalist)"
   ]
  },
  {
   "cell_type": "code",
   "execution_count": null,
   "metadata": {},
   "outputs": [],
   "source": [
    "#작업한 내용을 스크립트로 저장\n",
    "f = open(\"data/dump.sql\",\"w\")\n",
    "\n",
    "for line in conn.iterdump() : \n",
    "   # print(line)\n",
    "    f.write(\"{}\\n\".format(line))\n",
    "    \n",
    "f.close()\n",
    "conn.close()"
   ]
  },
  {
   "cell_type": "code",
   "execution_count": null,
   "metadata": {},
   "outputs": [],
   "source": [
    "\n",
    "conn = sqlite3.connect(\":memory:\")\n",
    "cur = conn.cursor()\n",
    "\n",
    "\n",
    "#스크립트 불러오기\n",
    "\n",
    "f = open(\"data/dump.sql\")\n",
    "script = f.read()\n",
    "\n",
    "\n",
    "cur.executescript(script)\n",
    "\n",
    "cur.execute(\"select * from phonebook\")\n",
    "for i in cur.fetchmany(3):\n",
    "    print(i)\n",
    "    \n",
    "    \n",
    "f.close()\n",
    "conn.close()\n"
   ]
  },
  {
   "cell_type": "markdown",
   "metadata": {},
   "source": [
    "# 3. MongoDB와 연동\n",
    "\n",
    "        pip install pymongo"
   ]
  },
  {
   "cell_type": "code",
   "execution_count": 23,
   "metadata": {},
   "outputs": [],
   "source": [
    "#import pymongo\n",
    "\n",
    "from pymongo import MongoClient"
   ]
  },
  {
   "cell_type": "code",
   "execution_count": 24,
   "metadata": {},
   "outputs": [
    {
     "name": "stdout",
     "output_type": "stream",
     "text": [
      "MongoClient(host=['127.0.0.1:27017'], document_class=dict, tz_aware=False, connect=True)\n"
     ]
    }
   ],
   "source": [
    "#conn = pymongo.MongoClient(\"127.0.0.1\", 27017)\n",
    "\n",
    "conn = MongoClient(\"mongodb://127.0.0.1:27017\")\n",
    "print(conn)\n",
    "conn.close()"
   ]
  },
  {
   "cell_type": "code",
   "execution_count": 25,
   "metadata": {},
   "outputs": [
    {
     "name": "stdout",
     "output_type": "stream",
     "text": [
      "Database(MongoClient(host=['127.0.0.1:27017'], document_class=dict, tz_aware=False, connect=True), 'test')\n"
     ]
    }
   ],
   "source": [
    "#DB연결\n",
    "conn = MongoClient(\"mongodb://127.0.0.1:27017\")\n",
    "\n",
    "db = conn.test\n",
    "print(db)\n",
    "\n",
    "conn.close()"
   ]
  },
  {
   "cell_type": "code",
   "execution_count": 26,
   "metadata": {},
   "outputs": [
    {
     "name": "stdout",
     "output_type": "stream",
     "text": [
      "Collection(Database(MongoClient(host=['127.0.0.1:27017'], document_class=dict, tz_aware=False, connect=True), 'test'), 'articles')\n"
     ]
    }
   ],
   "source": [
    "# Collection과 연결\n",
    "conn = MongoClient('mongodb://127.0.0.1:27017')\n",
    "db = conn['test']\n",
    "#coll = db.articles\n",
    "#coll = db['articles']\n",
    "coll = db.get_collection('articles')\n",
    "print(coll)\n",
    "\n",
    "\n",
    "conn.close()"
   ]
  },
  {
   "cell_type": "code",
   "execution_count": 27,
   "metadata": {},
   "outputs": [
    {
     "name": "stdout",
     "output_type": "stream",
     "text": [
      "5\n"
     ]
    },
    {
     "name": "stderr",
     "output_type": "stream",
     "text": [
      "C:\\Users\\user\\anaconda3\\lib\\site-packages\\ipykernel_launcher.py:9: DeprecationWarning: count is deprecated. Use estimated_document_count or count_documents instead. Please note that $where must be replaced by $expr, $near must be replaced by $geoWithin with $center, and $nearSphere must be replaced by $geoWithin with $centerSphere\n",
      "  if __name__ == '__main__':\n"
     ]
    }
   ],
   "source": [
    "# 데이터 한 개 입력\n",
    "\n",
    "        \n",
    "conn = MongoClient(\"mongodb://127.0.0.1:27017\")\n",
    "\n",
    "db = conn[\"test\"]\n",
    "coll = db.people\n",
    "\n",
    "print(coll.count())\n",
    "\n",
    "data = {\"author\" : \"Mike\", \"text\" : \"My first blog post!\", \"tag\":[\"mongodb\", \"python\"]}\n",
    "coll.insert_one(data)\n",
    "\n",
    "conn.close()"
   ]
  },
  {
   "cell_type": "code",
   "execution_count": 28,
   "metadata": {},
   "outputs": [
    {
     "name": "stdout",
     "output_type": "stream",
     "text": [
      "6\n"
     ]
    },
    {
     "name": "stderr",
     "output_type": "stream",
     "text": [
      "C:\\Users\\user\\anaconda3\\lib\\site-packages\\ipykernel_launcher.py:9: DeprecationWarning: count is deprecated. Use estimated_document_count or count_documents instead. Please note that $where must be replaced by $expr, $near must be replaced by $geoWithin with $center, and $nearSphere must be replaced by $geoWithin with $centerSphere\n",
      "  if __name__ == '__main__':\n"
     ]
    }
   ],
   "source": [
    "# 데이터 한 개 입력\n",
    "\n",
    "        \n",
    "conn = MongoClient(\"mongodb://127.0.0.1:27017\")\n",
    "\n",
    "db = conn[\"test\"]\n",
    "coll = db.people\n",
    "\n",
    "print(coll.count())\n",
    "\n",
    "data = {\"author\" : \"Mike\", \"text\" : \"My second blog post!\", \"tag\":[\"mongodb\", \"python\"]}\n",
    "coll.insert_one(data).inserted_id\n",
    "\n",
    "conn.close()"
   ]
  },
  {
   "cell_type": "code",
   "execution_count": 13,
   "metadata": {},
   "outputs": [
    {
     "name": "stdout",
     "output_type": "stream",
     "text": [
      "7\n",
      "17\n"
     ]
    },
    {
     "name": "stderr",
     "output_type": "stream",
     "text": [
      "C:\\Users\\user\\anaconda3\\lib\\site-packages\\ipykernel_launcher.py:6: DeprecationWarning: count is deprecated. Use estimated_document_count or count_documents instead. Please note that $where must be replaced by $expr, $near must be replaced by $geoWithin with $center, and $nearSphere must be replaced by $geoWithin with $centerSphere\n",
      "  \n",
      "C:\\Users\\user\\anaconda3\\lib\\site-packages\\ipykernel_launcher.py:17: DeprecationWarning: count is deprecated. Use estimated_document_count or count_documents instead. Please note that $where must be replaced by $expr, $near must be replaced by $geoWithin with $center, and $nearSphere must be replaced by $geoWithin with $centerSphere\n"
     ]
    }
   ],
   "source": [
    "# 데이터 여러 개 입력\n",
    "conn = MongoClient(\"mongodb://127.0.0.1:27017\")\n",
    "db = conn[\"test\"]\n",
    "coll = db.people\n",
    "\n",
    "print(coll.count())\n",
    "\n",
    "# coll.insert_many( [ {\"number\" : i } for i in range(10) ] )\n",
    "\n",
    "data = []\n",
    "for i in range(10):\n",
    "    temp = {\"number\" : i}\n",
    "    data.append(temp)\n",
    "\n",
    "coll.insert_many(data)\n",
    "\n",
    "print(coll.count())\n",
    "\n",
    "conn.close()"
   ]
  },
  {
   "cell_type": "code",
   "execution_count": 34,
   "metadata": {
    "scrolled": true
   },
   "outputs": [
    {
     "name": "stdout",
     "output_type": "stream",
     "text": [
      "{'_id': ObjectId('5ed0c00ac634c498178f95bc'), 'author': 'Mike', 'text': 'My first blog post!', 'tag': ['mongodb', 'python']}\n"
     ]
    }
   ],
   "source": [
    "#조회\n",
    "conn = MongoClient(\"mongodb://127.0.0.1:27017\")\n",
    "db = conn[\"test\"]\n",
    "coll = db.people\n",
    "\n",
    "#전체조회\n",
    "#for i in coll.find():\n",
    "#    print(i)\n",
    "\n",
    "\n",
    "\n",
    "#조건주기, AGE가 20살인 DOCUMENT 조회\n",
    "#for i in coll.find({\"age\":20}):\n",
    "#    print(i)\n",
    "    \n",
    "    \n",
    "#조건주기, AGE가 20살 이상인 DOCUMENT 조회\n",
    "#for i in coll.find({\"age\":{\"$gte\":20}}):\n",
    " #   print(i)\n",
    "\n",
    "print(coll.find_one({\"author\":\"Mike\"}) )\n",
    "    \n",
    "conn.close()"
   ]
  },
  {
   "cell_type": "code",
   "execution_count": 35,
   "metadata": {},
   "outputs": [
    {
     "name": "stdout",
     "output_type": "stream",
     "text": [
      "{'_id': ObjectId('5ed0c00ac634c498178f95bc'), 'author': 'Mike', 'text': 'my third blog post!', 'tag': ['mongodb', 'python']}\n"
     ]
    }
   ],
   "source": [
    "#데이터 수정\n",
    "conn = MongoClient(\"mongodb://127.0.0.1:27017\")\n",
    "db = conn[\"test\"]\n",
    "coll = db.people\n",
    "\n",
    "\n",
    "coll.update_one({\"author\":\"Mike\"},{\"$set\":{\"text\":\"my third blog post!\"}})\n",
    "\n",
    "print(coll.find_one({\"author\":\"Mike\"}) )\n",
    "\n",
    "conn.close()"
   ]
  },
  {
   "cell_type": "code",
   "execution_count": null,
   "metadata": {},
   "outputs": [],
   "source": []
  }
 ],
 "metadata": {
  "kernelspec": {
   "display_name": "Python 3",
   "language": "python",
   "name": "python3"
  },
  "language_info": {
   "codemirror_mode": {
    "name": "ipython",
    "version": 3
   },
   "file_extension": ".py",
   "mimetype": "text/x-python",
   "name": "python",
   "nbconvert_exporter": "python",
   "pygments_lexer": "ipython3",
   "version": "3.7.6"
  }
 },
 "nbformat": 4,
 "nbformat_minor": 4
}
