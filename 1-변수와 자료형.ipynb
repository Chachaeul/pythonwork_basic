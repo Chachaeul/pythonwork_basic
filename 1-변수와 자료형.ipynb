{
 "cells": [
  {
   "cell_type": "markdown",
   "metadata": {},
   "source": [
    "## 1. 변수(Variable)\n",
    "   + 임시 기억(저장) 공간\n",
    "   + 별도의 절차없이(선언없이) 사용가능\n",
    "   + DataType을 가리지 않는다.\n",
    "   + 값을 수정할 수 없다. - 이전에 가리켰던 변수값는 쓰레기가 됨. 다시 그 값을 지정한다면 다시 주소가 그 값으로 이동, id 확인\n",
    "   + 객체를 가리키는 것. (=자료형)"
   ]
  },
  {
   "cell_type": "code",
   "execution_count": 1,
   "metadata": {},
   "outputs": [],
   "source": [
    "a = 10"
   ]
  },
  {
   "cell_type": "code",
   "execution_count": 2,
   "metadata": {},
   "outputs": [
    {
     "data": {
      "text/plain": [
       "10"
      ]
     },
     "execution_count": 2,
     "metadata": {},
     "output_type": "execute_result"
    }
   ],
   "source": [
    "a"
   ]
  },
  {
   "cell_type": "code",
   "execution_count": 3,
   "metadata": {},
   "outputs": [
    {
     "data": {
      "text/plain": [
       "20"
      ]
     },
     "execution_count": 3,
     "metadata": {},
     "output_type": "execute_result"
    }
   ],
   "source": [
    "a = 20\n",
    "a"
   ]
  },
  {
   "cell_type": "code",
   "execution_count": 4,
   "metadata": {},
   "outputs": [],
   "source": [
    "var1 = 30\n",
    "a = 3.14"
   ]
  },
  {
   "cell_type": "code",
   "execution_count": 5,
   "metadata": {},
   "outputs": [
    {
     "data": {
      "text/plain": [
       "3.14"
      ]
     },
     "execution_count": 5,
     "metadata": {},
     "output_type": "execute_result"
    }
   ],
   "source": [
    "var1\n",
    "a"
   ]
  },
  {
   "cell_type": "code",
   "execution_count": 6,
   "metadata": {},
   "outputs": [
    {
     "data": {
      "text/plain": [
       "30"
      ]
     },
     "execution_count": 6,
     "metadata": {},
     "output_type": "execute_result"
    }
   ],
   "source": [
    "var1"
   ]
  },
  {
   "cell_type": "code",
   "execution_count": 7,
   "metadata": {},
   "outputs": [
    {
     "data": {
      "text/plain": [
       "3.14"
      ]
     },
     "execution_count": 7,
     "metadata": {},
     "output_type": "execute_result"
    }
   ],
   "source": [
    "var1\n",
    "a"
   ]
  },
  {
   "cell_type": "code",
   "execution_count": 8,
   "metadata": {},
   "outputs": [
    {
     "data": {
      "text/plain": [
       "30"
      ]
     },
     "execution_count": 8,
     "metadata": {},
     "output_type": "execute_result"
    }
   ],
   "source": [
    "a\n",
    "var1"
   ]
  },
  {
   "cell_type": "code",
   "execution_count": 9,
   "metadata": {},
   "outputs": [],
   "source": [
    "a = \"파이썬\""
   ]
  },
  {
   "cell_type": "code",
   "execution_count": 10,
   "metadata": {},
   "outputs": [
    {
     "data": {
      "text/plain": [
       "'파이썬'"
      ]
     },
     "execution_count": 10,
     "metadata": {},
     "output_type": "execute_result"
    }
   ],
   "source": [
    "a"
   ]
  },
  {
   "cell_type": "code",
   "execution_count": 11,
   "metadata": {},
   "outputs": [],
   "source": [
    "a = '파이썬'"
   ]
  },
  {
   "cell_type": "code",
   "execution_count": 12,
   "metadata": {},
   "outputs": [
    {
     "data": {
      "text/plain": [
       "'파이썬'"
      ]
     },
     "execution_count": 12,
     "metadata": {},
     "output_type": "execute_result"
    }
   ],
   "source": [
    "a"
   ]
  },
  {
   "cell_type": "code",
   "execution_count": 13,
   "metadata": {},
   "outputs": [
    {
     "name": "stdout",
     "output_type": "stream",
     "text": [
      "10\n"
     ]
    }
   ],
   "source": [
    "a = 10\n",
    "print(a)"
   ]
  },
  {
   "cell_type": "code",
   "execution_count": 14,
   "metadata": {},
   "outputs": [
    {
     "name": "stdout",
     "output_type": "stream",
     "text": [
      "<class 'int'>\n"
     ]
    }
   ],
   "source": [
    "print(type(a))"
   ]
  },
  {
   "cell_type": "code",
   "execution_count": 15,
   "metadata": {},
   "outputs": [
    {
     "name": "stdout",
     "output_type": "stream",
     "text": [
      "10\n",
      "30\n"
     ]
    }
   ],
   "source": [
    "print(a)\n",
    "print(var1)"
   ]
  },
  {
   "cell_type": "code",
   "execution_count": 16,
   "metadata": {},
   "outputs": [
    {
     "name": "stdout",
     "output_type": "stream",
     "text": [
      "<class 'int'>\n"
     ]
    }
   ],
   "source": [
    "print(type(var1))"
   ]
  },
  {
   "cell_type": "code",
   "execution_count": 17,
   "metadata": {},
   "outputs": [],
   "source": [
    "a=3.14"
   ]
  },
  {
   "cell_type": "code",
   "execution_count": 18,
   "metadata": {},
   "outputs": [
    {
     "data": {
      "text/plain": [
       "3.14"
      ]
     },
     "execution_count": 18,
     "metadata": {},
     "output_type": "execute_result"
    }
   ],
   "source": [
    "a"
   ]
  },
  {
   "cell_type": "code",
   "execution_count": 19,
   "metadata": {},
   "outputs": [
    {
     "name": "stdout",
     "output_type": "stream",
     "text": [
      "<class 'float'>\n"
     ]
    }
   ],
   "source": [
    "print(type(a))"
   ]
  },
  {
   "cell_type": "code",
   "execution_count": 20,
   "metadata": {},
   "outputs": [
    {
     "data": {
      "text/plain": [
       "float"
      ]
     },
     "execution_count": 20,
     "metadata": {},
     "output_type": "execute_result"
    }
   ],
   "source": [
    "type(a)"
   ]
  },
  {
   "cell_type": "code",
   "execution_count": 21,
   "metadata": {},
   "outputs": [
    {
     "name": "stdout",
     "output_type": "stream",
     "text": [
      "3.14\n"
     ]
    }
   ],
   "source": [
    "#type을 가리지 않는다\n",
    "print(a)"
   ]
  },
  {
   "cell_type": "code",
   "execution_count": 29,
   "metadata": {},
   "outputs": [
    {
     "name": "stdout",
     "output_type": "stream",
     "text": [
      "10\n",
      "140710542942896\n",
      "11\n",
      "140710542942928\n",
      "10\n",
      "140710542942896\n"
     ]
    }
   ],
   "source": [
    "#값을 수정할 수 없다\n",
    "a = 10\n",
    "print(a)\n",
    "print(id(a))\n",
    "\n",
    "a = 11\n",
    "print(a)\n",
    "print(id(a))\n",
    "# a의 값이 바뀐 것이 아닌, 지정하는 '주소'가 바뀐 것. 10은 쓰레기가 됨.\n",
    "\n",
    "a = 10\n",
    "print(a)\n",
    "print(id(a))\n",
    "# 다시 데이터값 10을 찾아가는 것"
   ]
  },
  {
   "cell_type": "code",
   "execution_count": 26,
   "metadata": {},
   "outputs": [
    {
     "name": "stdout",
     "output_type": "stream",
     "text": [
      "<class 'str'>\n"
     ]
    }
   ],
   "source": [
    "a = \"홍길동\"\n",
    "print(type(a))"
   ]
  },
  {
   "cell_type": "markdown",
   "metadata": {},
   "source": [
    "## 자료형(Data Type)\n",
    " - 종류\n",
    "   + 기본 자료형 : 데이터를 하나씩만 저장할 수 있는 형태 \n",
    "    - Number : int, float\n",
    "    - 문자형 : str\n",
    "    - 논리형 : bool\n",
    "    - 그 외 : complex, function\n",
    "    - 단일 데이터를 저장\n",
    "    \n",
    "    \n",
    "   + 집합(iter) 자료형 :  여러개의 (자료형이 달라도) 데이터를 갯수에 상관없이 묶어 표현할 수 있다.\n",
    "      - list\n",
    "      - tuple\n",
    "      - dict\n",
    "      - set\n",
    "    "
   ]
  },
  {
   "cell_type": "code",
   "execution_count": 6,
   "metadata": {},
   "outputs": [
    {
     "name": "stdout",
     "output_type": "stream",
     "text": [
      "4\n",
      "2\n"
     ]
    }
   ],
   "source": [
    "print(14//3) \n",
    "print(14 % 3)"
   ]
  },
  {
   "cell_type": "code",
   "execution_count": 22,
   "metadata": {},
   "outputs": [
    {
     "name": "stdout",
     "output_type": "stream",
     "text": [
      "몫 4\n",
      "나머지 2\n",
      "몫 4, 나머지 2\n"
     ]
    }
   ],
   "source": [
    "print(\"몫 \" + str(14//3))\n",
    "print(\"나머지 \" + str(14%3))\n",
    "print(\"몫 \" + str(14//3) + \", 나머지 \" + str(14%3))"
   ]
  },
  {
   "cell_type": "code",
   "execution_count": 7,
   "metadata": {},
   "outputs": [
    {
     "data": {
      "text/plain": [
       "'ab'"
      ]
     },
     "execution_count": 7,
     "metadata": {},
     "output_type": "execute_result"
    }
   ],
   "source": [
    "#문자열\n",
    "\n",
    "a = \"ab\"\n",
    "\n",
    "a"
   ]
  },
  {
   "cell_type": "code",
   "execution_count": 8,
   "metadata": {},
   "outputs": [
    {
     "ename": "TypeError",
     "evalue": "can only concatenate str (not \"int\") to str",
     "output_type": "error",
     "traceback": [
      "\u001b[1;31m---------------------------------------------------------------------------\u001b[0m",
      "\u001b[1;31mTypeError\u001b[0m                                 Traceback (most recent call last)",
      "\u001b[1;32m<ipython-input-8-282365db8e07>\u001b[0m in \u001b[0;36m<module>\u001b[1;34m\u001b[0m\n\u001b[1;32m----> 1\u001b[1;33m \u001b[0ma\u001b[0m \u001b[1;33m=\u001b[0m \u001b[1;34m\"a\"\u001b[0m \u001b[1;33m+\u001b[0m \u001b[1;36m10\u001b[0m\u001b[1;33m\u001b[0m\u001b[1;33m\u001b[0m\u001b[0m\n\u001b[0m",
      "\u001b[1;31mTypeError\u001b[0m: can only concatenate str (not \"int\") to str"
     ]
    }
   ],
   "source": [
    "# 서로 다른 형식은 + 불가\n",
    "a = \"a\" + 10"
   ]
  },
  {
   "cell_type": "code",
   "execution_count": 10,
   "metadata": {},
   "outputs": [
    {
     "data": {
      "text/plain": [
       "'ab'"
      ]
     },
     "execution_count": 10,
     "metadata": {},
     "output_type": "execute_result"
    }
   ],
   "source": [
    "# 문자끼리 + 는 문자 연결 기능\n",
    "a = \"a\" + \"b\"\n",
    "a"
   ]
  },
  {
   "cell_type": "code",
   "execution_count": 11,
   "metadata": {},
   "outputs": [
    {
     "data": {
      "text/plain": [
       "'a10'"
      ]
     },
     "execution_count": 11,
     "metadata": {},
     "output_type": "execute_result"
    }
   ],
   "source": [
    "a = \"a\" + \"10\"\n",
    "a"
   ]
  },
  {
   "cell_type": "code",
   "execution_count": 12,
   "metadata": {},
   "outputs": [
    {
     "data": {
      "text/plain": [
       "'a10'"
      ]
     },
     "execution_count": 12,
     "metadata": {},
     "output_type": "execute_result"
    }
   ],
   "source": [
    "# 10이 문자일 지 숫자일 지 모를 때\n",
    "a = \"a\" + str(10)\n",
    "a"
   ]
  },
  {
   "cell_type": "code",
   "execution_count": 15,
   "metadata": {},
   "outputs": [
    {
     "name": "stdout",
     "output_type": "stream",
     "text": [
      "------------------------------------------------------------\n"
     ]
    }
   ],
   "source": [
    "print(\"-\" * 60)"
   ]
  },
  {
   "cell_type": "code",
   "execution_count": 23,
   "metadata": {},
   "outputs": [
    {
     "name": "stdout",
     "output_type": "stream",
     "text": [
      "asfdjkhfddjfhjs\n"
     ]
    }
   ],
   "source": [
    "# 문자열 잇기\n",
    "a = \"asfdjkhfd\"\n",
    "a = a + \"djfhjs\"\n",
    "print(a)"
   ]
  },
  {
   "cell_type": "code",
   "execution_count": null,
   "metadata": {},
   "outputs": [],
   "source": []
  },
  {
   "cell_type": "code",
   "execution_count": 47,
   "metadata": {},
   "outputs": [
    {
     "name": "stdout",
     "output_type": "stream",
     "text": [
      "dlkjsjf\n",
      "lkdfjkld\n",
      "dlkjfkldsj\n",
      "-----------------------------------------------------\n",
      "안녕하세요 반갑슴다\n",
      "안녕하세요\n",
      "반갑슴다\n",
      "안녕하세요\t반갑습니다\n",
      "\t는 탭키의 기능입니다.\n",
      "\\t는 탭키의 기능입니다.\n",
      "\"\\n은 엔터키의 기능입니다.\"\n",
      "\"\\n 은 ~\"\n"
     ]
    }
   ],
   "source": [
    "# 여러줄로 작성하고 싶을 때\n",
    " # 따옴표 3개 안에 쓰기\n",
    "    \n",
    "b = \"\"\"dlkjsjf\n",
    "lkdfjkld\n",
    "dlkjfkldsj\"\"\"\n",
    "\n",
    "print(b)\n",
    "\n",
    "print(\"-----------------------------------------------------\")\n",
    "\n",
    "# 특수문자 (제어 문자) : 그대로 화면에 보여지지 않고 '어떻게' 보여질 것인지를 제어해주는 문자 _ \\문자 형태\n",
    "\n",
    "\n",
    "a = \"안녕하세요 반갑슴다\"\n",
    "print(a)\n",
    "\n",
    "# 줄바꿈 문자 \\n\n",
    "a = \"안녕하세요\\n반갑슴다\"\n",
    "print(a)\n",
    "\n",
    "# tab 문자 \\t\n",
    "\n",
    "b = \"안녕하세요\\t반갑습니다\"\n",
    "print(b)\n",
    "\n",
    "# 이스케이프 문자 : \\\n",
    "\n",
    "c = \"\\t는 탭키의 기능입니다.\"\n",
    "print(c)\n",
    "\n",
    "c = \"\\\\t는 탭키의 기능입니다.\"\n",
    "print(c)\n",
    "\n",
    "d = \"\\\"\\\\n은 엔터키의 기능입니다.\\\"\"\n",
    "print(d)\n",
    "\n",
    "e = '\"\\\\n 은 ~\"'\n",
    "print(e)"
   ]
  },
  {
   "cell_type": "code",
   "execution_count": 115,
   "metadata": {},
   "outputs": [
    {
     "name": "stdout",
     "output_type": "stream",
     "text": [
      "o\n",
      "L\n",
      "L\n",
      "n\n",
      "t o o\n",
      "too\n",
      "-----------------------------------------------------------------------------\n",
      "too\n",
      "Life is \n",
      "too short, You need Python\n",
      "ho\n"
     ]
    }
   ],
   "source": [
    "#인덱싱 : 내가 원하는 문자를 찾아가는 것\n",
    "\n",
    "a = \"Life is too short, You need Python\"\n",
    "print(a[10])\n",
    "print(a[0])\n",
    "print(a[-0])\n",
    "print(a[-1])\n",
    "print(a[8], a[9], a[10])\n",
    "print(a[8] + a[9] + a[10])\n",
    "\n",
    "print(\"-----------------------------------------------------------------------------\")\n",
    "\n",
    "#슬라이싱 a[b:c] = b 포함 c 미포함\n",
    "print(a[8:11])\n",
    "print(a[:8])\n",
    "print(a[8:])\n",
    "print(a[-3:-1])\n",
    "\n"
   ]
  },
  {
   "cell_type": "code",
   "execution_count": 73,
   "metadata": {},
   "outputs": [
    {
     "name": "stdout",
     "output_type": "stream",
     "text": [
      "i\n"
     ]
    },
    {
     "ename": "TypeError",
     "evalue": "'type' object does not support item assignment",
     "output_type": "error",
     "traceback": [
      "\u001b[1;31m---------------------------------------------------------------------------\u001b[0m",
      "\u001b[1;31mTypeError\u001b[0m                                 Traceback (most recent call last)",
      "\u001b[1;32m<ipython-input-73-10309a25edaf>\u001b[0m in \u001b[0;36m<module>\u001b[1;34m\u001b[0m\n\u001b[0;32m      1\u001b[0m \u001b[0mstr1\u001b[0m \u001b[1;33m=\u001b[0m \u001b[1;34m\"pithon\"\u001b[0m\u001b[1;33m\u001b[0m\u001b[1;33m\u001b[0m\u001b[0m\n\u001b[0;32m      2\u001b[0m \u001b[0mprint\u001b[0m\u001b[1;33m(\u001b[0m\u001b[0mstr1\u001b[0m\u001b[1;33m[\u001b[0m\u001b[1;36m1\u001b[0m\u001b[1;33m]\u001b[0m\u001b[1;33m)\u001b[0m\u001b[1;33m\u001b[0m\u001b[1;33m\u001b[0m\u001b[0m\n\u001b[1;32m----> 3\u001b[1;33m \u001b[0mstr\u001b[0m\u001b[1;33m[\u001b[0m\u001b[1;36m1\u001b[0m\u001b[1;33m]\u001b[0m \u001b[1;33m=\u001b[0m \u001b[1;34m\"y\"\u001b[0m\u001b[1;33m\u001b[0m\u001b[1;33m\u001b[0m\u001b[0m\n\u001b[0m\u001b[0;32m      4\u001b[0m \u001b[1;33m\u001b[0m\u001b[0m\n\u001b[0;32m      5\u001b[0m \u001b[1;31m# 오류가 난다 , 요솟값 수정 안된다. 따라서 틀린글자 앞뒤로 슬라이싱 + 수정 값 을 이용한다.\u001b[0m\u001b[1;33m\u001b[0m\u001b[1;33m\u001b[0m\u001b[1;33m\u001b[0m\u001b[0m\n",
      "\u001b[1;31mTypeError\u001b[0m: 'type' object does not support item assignment"
     ]
    }
   ],
   "source": [
    "str1 = \"pithon\"\n",
    "print(str1[1])\n",
    "str[1] = \"y\"\n",
    "\n",
    "# 오류가 난다 , 요솟값 수정 안된다. 따라서 틀린글자 앞뒤로 슬라이싱 + 수정 값 을 이용한다.\n"
   ]
  },
  {
   "cell_type": "code",
   "execution_count": 109,
   "metadata": {},
   "outputs": [
    {
     "name": "stdout",
     "output_type": "stream",
     "text": [
      "python\n",
      "python\n"
     ]
    }
   ],
   "source": [
    "str1 = \"pithon\"\n",
    "print(str1[0] +\"y\" + str1[2:])\n",
    "\n",
    "#replace\n",
    "print(str1.replace(\"i\", \"y\"))"
   ]
  },
  {
   "cell_type": "code",
   "execution_count": 114,
   "metadata": {},
   "outputs": [
    {
     "name": "stdout",
     "output_type": "stream",
     "text": [
      "34\n",
      "33\n",
      "n\n",
      "-----------------------------------------------------------------------------\n",
      "5\n",
      "6\n",
      "0\n",
      "-----------------------------------------------------------------------------\n",
      "6\n",
      "-1\n",
      "6\n"
     ]
    },
    {
     "ename": "ValueError",
     "evalue": "substring not found",
     "output_type": "error",
     "traceback": [
      "\u001b[1;31m---------------------------------------------------------------------------\u001b[0m",
      "\u001b[1;31mValueError\u001b[0m                                Traceback (most recent call last)",
      "\u001b[1;32m<ipython-input-114-fcd16937434f>\u001b[0m in \u001b[0;36m<module>\u001b[1;34m\u001b[0m\n\u001b[0;32m     24\u001b[0m \u001b[0mprint\u001b[0m\u001b[1;33m(\u001b[0m\u001b[0ma\u001b[0m\u001b[1;33m.\u001b[0m\u001b[0mfind\u001b[0m\u001b[1;33m(\u001b[0m\u001b[1;34m'a'\u001b[0m\u001b[1;33m)\u001b[0m\u001b[1;33m)\u001b[0m\u001b[1;33m\u001b[0m\u001b[1;33m\u001b[0m\u001b[0m\n\u001b[0;32m     25\u001b[0m \u001b[0mprint\u001b[0m\u001b[1;33m(\u001b[0m\u001b[0ma\u001b[0m\u001b[1;33m.\u001b[0m\u001b[0mindex\u001b[0m\u001b[1;33m(\u001b[0m\u001b[1;34m's'\u001b[0m\u001b[1;33m)\u001b[0m\u001b[1;33m)\u001b[0m\u001b[1;33m\u001b[0m\u001b[1;33m\u001b[0m\u001b[0m\n\u001b[1;32m---> 26\u001b[1;33m \u001b[0mprint\u001b[0m\u001b[1;33m(\u001b[0m\u001b[0ma\u001b[0m\u001b[1;33m.\u001b[0m\u001b[0mindex\u001b[0m\u001b[1;33m(\u001b[0m\u001b[1;34m'a'\u001b[0m\u001b[1;33m)\u001b[0m\u001b[1;33m)\u001b[0m\u001b[1;33m\u001b[0m\u001b[1;33m\u001b[0m\u001b[0m\n\u001b[0m",
      "\u001b[1;31mValueError\u001b[0m: substring not found"
     ]
    }
   ],
   "source": [
    "#len() :  여러가지 형 사용 가능.\n",
    "#count(), find(), join(), split(), ... : 문자열만! = 문자열 내장 함수. 변수명.함수() 사용\n",
    "\n",
    "a = \"Life is too short, You need Python\"\n",
    "\n",
    "# len = 전체 갯수 세어주는 기능\n",
    "print(len(a))\n",
    "print(len(a)-1)\n",
    "print(a[len(a)-1])\n",
    "\n",
    "print(\"-----------------------------------------------------------------------------\")\n",
    "\n",
    "# 변수.count('문자') = '특정문자(공백도 가능)의' 갯수를 세어주는 기능\n",
    "print(a.count('o'))\n",
    "print(a.count(' '))\n",
    "print(a.count('a'))\n",
    "\n",
    "print(\"-----------------------------------------------------------------------------\")\n",
    "\n",
    "# find, index = 내가 찾고자 하는 문자가 언제 처음으로 나오는지 위치를 알려줌. \n",
    "# 차이점 = 없는 문자를 찾을 때,  find는 -1 반환, index 오류 반환\n",
    "\n",
    "print(a.find('s'))\n",
    "print(a.find('a'))\n",
    "print(a.index('s'))\n",
    "print(a.index('a'))\n"
   ]
  },
  {
   "cell_type": "code",
   "execution_count": 98,
   "metadata": {},
   "outputs": [
    {
     "name": "stdout",
     "output_type": "stream",
     "text": [
      "28\n"
     ]
    }
   ],
   "source": [
    "a = \"Life is too short, You need Python\"\n",
    "print(a.find('Python'))"
   ]
  },
  {
   "cell_type": "code",
   "execution_count": 141,
   "metadata": {},
   "outputs": [
    {
     "name": "stdout",
     "output_type": "stream",
     "text": [
      "a,b c\n",
      "a,b,c,d,e, ,f,g\n",
      "['abcde', 'fg']\n",
      "['abcde', 'fg']\n",
      "['홍길동', '임꺽정', '신돌석', '유비', '관우']\n",
      "-----------------------------------------------------------------------------\n",
      "apy  thona\n",
      "apy  thon a\n",
      "a  py  thona\n",
      "yt\n",
      "py\n",
      "pyt\n",
      "pyt\n",
      "-----------------------------------------------------------------------------\n",
      "Hello, World!\n",
      "World is fantasy\n",
      "Hello, Python!\n",
      "Python is fantasy\n",
      "123사5육칠팔구\n",
      "일이삼사오육칠팔구\n",
      "13사오육칠팔구\n"
     ]
    }
   ],
   "source": [
    "#구분자.join(문자열) : 삽입기능     문자열.sprit(기준_공백,기호 ':'...) : 분할 기능\n",
    "\n",
    "str1 = \"abcde fg\"\n",
    "\n",
    "print(str1[0] +',' + str1[1], str1[2])\n",
    "print(\",\".join(str1))\n",
    "print(str1.split())\n",
    "\n",
    "str2 = \"abcde:fg\"\n",
    "print(str2.split(':'))\n",
    "\n",
    "\n",
    "str3 = \"홍길동 임꺽정 신돌석 유비 관우\"\n",
    "print(str3.split()) # 하나의 문자열을 여러개의 문자열로 나눔\n",
    "\n",
    "print(\"-----------------------------------------------------------------------------\")\n",
    "\n",
    "# 공백제거 strip : 양쪽 지정문자 0지우기 (전체아님) , lstrip, rstrip -> 중간은 제거 할 수 없다!\n",
    "str4 = \"  py  thon \"\n",
    "print(\"a\" + str4.strip() + \"a\")\n",
    "print(\"a\" + str4.lstrip() + \"a\")\n",
    "print(\"a\" + str4.rstrip() + \"a\")\n",
    "\n",
    "str5 = \"pyt\"\n",
    "print(str5.lstrip(\"p\"))\n",
    "print(str5.rstrip(\"t\"))\n",
    "print(str5.strip(\"a\"))\n",
    "print(str5.lstrip(\"a\"))\n",
    "\n",
    "print(\"-----------------------------------------------------------------------------\")\n",
    "\n",
    "#바꾸기\n",
    "#replace : 특정 단어를 찾아 바꿔줌\n",
    "\n",
    "str1 = \"\"\"Hello, World!\n",
    "World is fantasy\"\"\"\n",
    "print(str1)\n",
    "\n",
    "str2 = str1.replace(\"World\", \"Python\")\n",
    "print(str2)\n",
    "\n",
    "#문자열.translte(문자열.maketrans(\" \",\"\" )) : 모든 글자 하나하나를 매칭해 번역하겠다\n",
    "\n",
    "str3 = \"일이삼사오육칠팔구\"\n",
    "print(str3.translate(str3.maketrans(\"일이삼오\" , \"1235\" )))\n",
    "print(str3. replace(\"일삼\" , \"13\" ))\n",
    "print(str3. replace(\"일이삼\" , \"13\" ))"
   ]
  },
  {
   "cell_type": "code",
   "execution_count": 151,
   "metadata": {},
   "outputs": [
    {
     "name": "stdout",
     "output_type": "stream",
     "text": [
      "덧셈 결과 : 3 + 4 = 7\n",
      "덧셈 결과 : 3 + 4 = 7\n",
      "덧셈 결과 : 4 + 4 = 7\n",
      "I ate 10 apples. so I was sick for 3 days\n",
      "I ate 10 apples. so I was sick for 3 days\n",
      "-----------------------------------------------------------------------------\n",
      "덧셈 결과 : 3 + 4 = 7\n"
     ]
    }
   ],
   "source": [
    "# 포맷팅, %\n",
    "\n",
    "print(\"덧셈 결과 : 3 + 4 = 7\") # 3,4 가 바뀐다면 결과 값도 바뀐다. 매번 수작업으로 print할 수는 없음 -> 자동화 필요\n",
    "\n",
    "#num1 = 3\n",
    "#num2 = 4 를 한 줄로 변수 선정 가능\n",
    "num1, num2 = 3, 4\n",
    "\n",
    "print(\"덧셈 결과 : {0} + {1} = {2}\".format(num1,num2,num1+num2)) # 순서가 동일할 때는 굳이 0,1,2 인덱스 안써도 된다.\n",
    "print(\"덧셈 결과 : {1} + {1} = {2}\".format(num1,num2,num1+num2))\n",
    "\n",
    "# 이름으로 포맷팅 하기\n",
    "print( \"I ate {number} apples. so I was sick for {day} days\".format(number=10, day=3)) \n",
    "\n",
    "# 인덱스와 이름 혼용 가능\n",
    "print( \"I ate {} apples. so I was sick for {day} days\".format(10, day=3))\n",
    "\n",
    "print(\"-----------------------------------------------------------------------------\")\n",
    "\n",
    "# %d : 숫자 포맷팅\n",
    "\n",
    "print(\"덧셈 결과 : %d + %d = %d\" %(num1,num2,num1+num2))\n",
    "\n"
   ]
  },
  {
   "cell_type": "markdown",
   "metadata": {},
   "source": [
    "---------------------------------------------------------------------------------------------------------------------"
   ]
  },
  {
   "cell_type": "markdown",
   "metadata": {},
   "source": [
    "## Tip : jupyter  테마 변경하기\n",
    " - 파이썬에 없는 기능을 설치할 때 이용하는 명령어 pip  이용\n",
    "  + pip install jupyterthemes  (dos창에 입력)\n",
    " - upgrade to latest version\n",
    "  + pip install --upgrade jupyterthemes\n",
    " - 다른 테마 지정 -t, 이전 테마 -r\n",
    " - jt  [-h] [-l] [-t THEME] [-f MONOFONT] [-fs MONOSIZE] [-nf NBFONT]\n",
    "    [-nfs NBFONTSIZE] [-tf TCFONT] [-tfs TCFONTSIZE] [-dfs DFFONTSIZE]\n",
    "    [-m MARGINS] [-cursw CURSORWIDTH] [-cursc CURSORCOLOR] [-vim]\n",
    "    [-cellw CELLWIDTH] [-lineh LINEHEIGHT] [-altp] [-altmd] [-altout]\n",
    "    [-P] [-T] [-N] [-r] [-dfonts]\n",
    "    \n",
    " -----------------------------------------------------------------------------------------"
   ]
  },
  {
   "cell_type": "markdown",
   "metadata": {},
   "source": [
    "### list\n",
    " - 임의의 객체를순차적으로 저장하는 집합적 자료형\n",
    " - 값에 대하여 인덱스가 부여됨\n",
    " - 데이터 수정이 가능하다.\n",
    " - []를 사용\n",
    " - 어떠한 자료형도 포함 가능하다.\n",
    "\n"
   ]
  },
  {
   "cell_type": "code",
   "execution_count": 9,
   "metadata": {},
   "outputs": [
    {
     "name": "stdout",
     "output_type": "stream",
     "text": [
      "<class 'int'>\n",
      "<class 'list'>\n",
      "1 2 3\n"
     ]
    }
   ],
   "source": [
    "# 값에 대하여 인덱스가 부여됨, [] 사용\n",
    "n1, n2, n3 = 1, 2, 3\n",
    "n = [1, 2, 3, 4, 5]\n",
    "\n",
    "print(type(n1))\n",
    "print(type(n))\n",
    "print(n[0], n[1], n[2])\n",
    "\n"
   ]
  },
  {
   "cell_type": "code",
   "execution_count": 10,
   "metadata": {},
   "outputs": [
    {
     "name": "stdout",
     "output_type": "stream",
     "text": [
      "[10, 20, 3.14, True, False, '홍길동']\n"
     ]
    }
   ],
   "source": [
    "# 어떠한 자료형도 포함 가능하다.\n",
    "a = [10, 20, 3.14, True, False, \"홍길동\"]\n",
    "print(a)"
   ]
  },
  {
   "cell_type": "code",
   "execution_count": 11,
   "metadata": {},
   "outputs": [
    {
     "name": "stdout",
     "output_type": "stream",
     "text": [
      "[10, 200, 3.14, True, False, '홍길동']\n"
     ]
    }
   ],
   "source": [
    "# 데이터 수정이 가능하다.\n",
    "a[1] =200\n",
    "print(a)"
   ]
  },
  {
   "cell_type": "code",
   "execution_count": 24,
   "metadata": {},
   "outputs": [
    {
     "name": "stdout",
     "output_type": "stream",
     "text": [
      "[10, 20, 3.14, True, False, '홍길동']\n",
      "10 20\n",
      "10 ['a', 'b', 'c']\n",
      "b\n",
      "[20, 3.14, True, False]\n",
      "3.14\n",
      "['b', 'c']\n"
     ]
    }
   ],
   "source": [
    "# indexing : 특정 위치의 데이터에 접근하기 위한 방법\n",
    "a = [10, 20, 3.14, True, False, \"홍길동\"]\n",
    "print(a)\n",
    " # 데이터는 연속적으로 저장되어있기 때문에 첫 주소(a)만 알면 0번째, 1번째...로 찾아갈 수 있다.\n",
    "print(a[0],a[1])  \n",
    "\n",
    "b = [10, 20, 30, ['a', 'b', 'c']]\n",
    "print(b[0],b[3])\n",
    "print(b[3][1])\n",
    "\n",
    "#slicing\n",
    "print(a[1:5])\n",
    "print(a[1:5][1])\n",
    "\n",
    "#b 데이터 중 'b', 'c' 꺼내서 출력\n",
    "print(b[3][1:])"
   ]
  },
  {
   "cell_type": "code",
   "execution_count": 31,
   "metadata": {},
   "outputs": [
    {
     "name": "stdout",
     "output_type": "stream",
     "text": [
      "[1, 2, 3, 4, 5, 6]\n",
      "[1, 2, 3, 3]\n",
      "[4, 5, 6, 4, 5, 6]\n"
     ]
    }
   ],
   "source": [
    "# 리스트 연산\n",
    "#  사칙연산이 아님. 따라서 길이가 다르거나 자료형이 달라도 상관없다.\n",
    "\n",
    "a = [1, 2, 3]\n",
    "b = [4, 5, 6]\n",
    "print(a + b)\n",
    "\n",
    "print(a + [3])\n",
    "print(b * 2)"
   ]
  },
  {
   "cell_type": "code",
   "execution_count": 42,
   "metadata": {},
   "outputs": [
    {
     "name": "stdout",
     "output_type": "stream",
     "text": [
      "[1, 200, 3, 4, 5]\n",
      "-----------------------------------------------------------------------------\n",
      "[1, 200, 3, 4, 5]\n",
      "[1, 200, 3, 4, 5]\n",
      "[1, 200, 3, 500, 5]\n",
      "[1, 200, 40, 4, 5]\n",
      "[1, 200, 3, 500, 5]\n"
     ]
    }
   ],
   "source": [
    "# 복사(얕은 복사, 깊은 복사)\n",
    "a = [1, 2, 3, 4, 5]\n",
    "b = a \n",
    "# b는 데이터를 받은 것이 아니라 a의 주소를 공유한 것\n",
    "\n",
    "b[1]=200\n",
    "\n",
    "print(a)\n",
    "print(\"-----------------------------------------------------------------------------\")\n",
    "\n",
    "# 깊은 복사\n",
    "c = a[:] # 주소를 복사 한 것이 아니라 데이터를 복사한 것\n",
    "\n",
    "print(c)\n",
    "\n",
    "c[3]=500\n",
    "print(a) #a 주소에 있는 1,200,3,4,5 는 그대로\n",
    "print(c) #c만 바뀜\n",
    "\n",
    "a[2]=40\n",
    "print(a)\n",
    "print(c)\n"
   ]
  },
  {
   "cell_type": "code",
   "execution_count": 51,
   "metadata": {},
   "outputs": [
    {
     "name": "stdout",
     "output_type": "stream",
     "text": [
      "<class 'list'>\n",
      "<class 'list'>\n",
      "<class 'list'>\n",
      "[0, 1, 2, 3, 4, 5, 6, 7, 8, 9]\n",
      "[5, 7, 9]\n"
     ]
    }
   ],
   "source": [
    "# 리스트 만들기\n",
    "a = [1, 2, 3, 4]\n",
    "print(type(a))\n",
    "\n",
    "# 형태만 만들고 나중에 추가 할 수 있다\n",
    "\n",
    "b = []\n",
    "print(type(b))\n",
    "\n",
    "c = list()\n",
    "print(type(c))\n",
    "\n",
    "a = list(range(10)) #range(갯수) : 순차적으로 데이터 자동 생성 , []에서는 안됨.\n",
    "print(a)\n",
    "\n",
    "b = list(range(5,11,2))\n",
    "print(b)"
   ]
  },
  {
   "cell_type": "code",
   "execution_count": 48,
   "metadata": {},
   "outputs": [
    {
     "name": "stdout",
     "output_type": "stream",
     "text": [
      "range(0, 20)\n"
     ]
    }
   ],
   "source": [
    "print(range(20))"
   ]
  },
  {
   "cell_type": "code",
   "execution_count": 70,
   "metadata": {},
   "outputs": [
    {
     "name": "stdout",
     "output_type": "stream",
     "text": [
      "[10, 20, 3]\n",
      "[5, 10, 20, 3]\n",
      "[5, 10, 15, 20, 3]\n",
      "[5, 10, 15, 20, 3, [31, 'E', 33]]\n",
      "[5, 10, [16, 17], 15, 20, 3, [31, 'E', 33]]\n",
      "[5, 10, [16, 17], 15, 20, 3, [31, 'E', 33], 34, 35, 36]\n",
      "[5, 10, [16, 17], 15, 20, 3, [31, 'E', 33], 34, 35, 36, 37, 38]\n",
      "[5, 10, 3, [16, 17], 15, 20, 3, [31, 'E', 33], 34, 35, 36]\n",
      "[5, 10, [16, 17], 15, 20, 3, [31, 'E', 33], 34, 35, 36]\n",
      "[5, 10, [16, 17], 15, 20, [31, 'E', 33], 34, 35, 36]\n"
     ]
    }
   ],
   "source": [
    "# 삽입, 추가 : insert(), append(), extend()\n",
    "\n",
    "# append() :덧붙이다. 무조건 맨 뒤에 추가 됨.\n",
    "a = []\n",
    "a.append(10)\n",
    "a.append(20)\n",
    "a.append(3)\n",
    "\n",
    "print(a)\n",
    "\n",
    "# insert(주소, 추가 할 값) : 원하는 위치의 주소에 데이터 추가\n",
    "a.insert(0,5)\n",
    "print(a)\n",
    "\n",
    "a.insert(2, 15)\n",
    "print(a)\n",
    "\n",
    "# 여러개 추가 -  리스트로 추가. 중첩된 리스트가 됨.\n",
    "a.append([31, 'E', 33])\n",
    "print(a)\n",
    "\n",
    "a.insert(2,[16,17])\n",
    "print(a)\n",
    "\n",
    "#extend : + 연산자와 동일\n",
    "\n",
    "a.extend([34, 35, 36])\n",
    "print(a)\n",
    "\n",
    "print(a+[37, 38])\n",
    "\n",
    "a.insert(2,3)\n",
    "print(a)\n",
    "\n",
    "# 제거 : remove\n",
    "a.remove(3)\n",
    "print(a) #맨 처음 3이 나오는 것만 지움. 다 지우고 싶으면 여러면 수행하기\n",
    "a.remove(3)\n",
    "print(a)\n",
    "\n"
   ]
  },
  {
   "cell_type": "code",
   "execution_count": 73,
   "metadata": {},
   "outputs": [
    {
     "name": "stdout",
     "output_type": "stream",
     "text": [
      "[1, 2, 3, 4, 5]\n",
      "[1, 2, 3, 4, 5, 6, 7]\n"
     ]
    }
   ],
   "source": [
    "# 복합연산자\n",
    "\n",
    "a = [1, 2]\n",
    "\n",
    "a = a + [3, 4, 5]\n",
    "print(a)\n",
    "\n",
    "a += [6,7] # +=  띄어쓰면 안된다!\n",
    "print(a)\n",
    "\n"
   ]
  },
  {
   "cell_type": "code",
   "execution_count": 86,
   "metadata": {},
   "outputs": [
    {
     "name": "stdout",
     "output_type": "stream",
     "text": [
      "[1, 2, 3, 4]\n",
      "[4, 5, 2]\n",
      "[5, 4, 2]\n",
      "-----------------------------------------------------------------------------\n",
      "[1, 4, 5, 6]\n",
      "[1, 2, 1, 2, 3]\n",
      "[1, 2, 1, 2]\n",
      "[1, 2, 3, 2, 3]\n",
      "[]\n"
     ]
    },
    {
     "ename": "NameError",
     "evalue": "name 'a' is not defined",
     "output_type": "error",
     "traceback": [
      "\u001b[1;31m---------------------------------------------------------------------------\u001b[0m",
      "\u001b[1;31mNameError\u001b[0m                                 Traceback (most recent call last)",
      "\u001b[1;32m<ipython-input-86-25db53926cf9>\u001b[0m in \u001b[0;36m<module>\u001b[1;34m\u001b[0m\n\u001b[0;32m     45\u001b[0m \u001b[0ma\u001b[0m \u001b[1;33m=\u001b[0m \u001b[1;33m[\u001b[0m\u001b[1;36m1\u001b[0m\u001b[1;33m,\u001b[0m \u001b[1;36m2\u001b[0m\u001b[1;33m,\u001b[0m \u001b[1;36m3\u001b[0m\u001b[1;33m,\u001b[0m \u001b[1;36m1\u001b[0m\u001b[1;33m,\u001b[0m \u001b[1;36m2\u001b[0m\u001b[1;33m,\u001b[0m \u001b[1;36m3\u001b[0m\u001b[1;33m]\u001b[0m\u001b[1;33m\u001b[0m\u001b[1;33m\u001b[0m\u001b[0m\n\u001b[0;32m     46\u001b[0m \u001b[1;32mdel\u001b[0m \u001b[0ma\u001b[0m\u001b[1;33m\u001b[0m\u001b[1;33m\u001b[0m\u001b[0m\n\u001b[1;32m---> 47\u001b[1;33m \u001b[0mprint\u001b[0m\u001b[1;33m(\u001b[0m\u001b[0ma\u001b[0m\u001b[1;33m)\u001b[0m \u001b[1;31m# a라는 메모리 자체를 지웠기 때문에 더이상  a가 없으므로 에러남.\u001b[0m\u001b[1;33m\u001b[0m\u001b[1;33m\u001b[0m\u001b[0m\n\u001b[0m",
      "\u001b[1;31mNameError\u001b[0m: name 'a' is not defined"
     ]
    }
   ],
   "source": [
    "# 정렬 = sort ()로 오름차순만 가능. 내림차순은  sort한 뒤 reverse 로 뒤집어야 함\n",
    "a = [1, 2, 4, 3]\n",
    "a.sort()\n",
    "print(a)\n",
    "\n",
    "b = [2, 5, 4]\n",
    "b.reverse()\n",
    "print(b) # 역순 안됨\n",
    "\n",
    "b.sort()\n",
    "b.reverse()\n",
    "print(b)\n",
    "\n",
    "\n",
    "print(\"-----------------------------------------------------------------------------\")\n",
    "# 삭제\n",
    "\n",
    "# 인덱스 이용\n",
    "a = [1, 2, 3, 4, 5, 6]\n",
    "a[1:3] = []\n",
    "print(a)\n",
    "\n",
    "\n",
    "# remove 이용\n",
    "a = [1, 2, 3, 1, 2, 3]\n",
    "\n",
    "a.remove(3)\n",
    "print(a) #맨 처음 3이 나오는 것만 지움. 다 지우고 싶으면 여러면 수행하기\n",
    "\n",
    "a.remove(3)\n",
    "print(a)\n",
    "\n",
    "a = [1, 2, 3, 1, 2, 3]\n",
    "\n",
    "# del 이용 : 완전히 메모리를 지워버림\n",
    "\n",
    "del a[3]\n",
    "print(a)\n",
    "\n",
    "# 전체 데이터를 삭제 해보자. remove는 하나하나 - 힘들다\n",
    "a = [1, 2, 3, 1, 2, 3]\n",
    "a[:] = []\n",
    "print(a)\n",
    "\n",
    "a = [1, 2, 3, 1, 2, 3]\n",
    "del a \n",
    "print(a) # a라는 메모리 자체를 지웠기 때문에 더이상  a가 없으므로 에러남."
   ]
  },
  {
   "cell_type": "code",
   "execution_count": 91,
   "metadata": {},
   "outputs": [
    {
     "name": "stdout",
     "output_type": "stream",
     "text": [
      "[1, 3]\n"
     ]
    },
    {
     "data": {
      "text/plain": [
       "3"
      ]
     },
     "execution_count": 91,
     "metadata": {},
     "output_type": "execute_result"
    }
   ],
   "source": [
    "# pop() : stack 메모리에서 이용되는 개념, 삭제된 데이터를 끄집어 내어 쓸 수 있게 함 lifo 구조\n",
    "\n",
    "a =[1, 2, 3]\n",
    "a.pop(1)\n",
    "print(a)\n",
    "\n",
    "a =[1, 2, 3]\n",
    "a.pop()"
   ]
  },
  {
   "cell_type": "code",
   "execution_count": 94,
   "metadata": {},
   "outputs": [
    {
     "name": "stdout",
     "output_type": "stream",
     "text": [
      "True\n",
      "False\n"
     ]
    }
   ],
   "source": [
    "# 검색기능 : 내가 찾고자하는 데이터가 있는지 없는지 in\n",
    "a = [1, 2, 3, 4, 5]\n",
    "print(2 in a)\n",
    "print(6 in a)"
   ]
  },
  {
   "cell_type": "markdown",
   "metadata": {},
   "source": [
    "### tuple\n",
    " + list와 거의 동일\n",
    " + () 사용\n",
    " + 수정이 불가 (연산은 가능)\n",
    " 따라서 수정을 해야하는 데이터는 list로, 수정하면 안되는 데이터는 tuple로!"
   ]
  },
  {
   "cell_type": "code",
   "execution_count": 98,
   "metadata": {},
   "outputs": [
    {
     "name": "stdout",
     "output_type": "stream",
     "text": [
      "('a', 'b', 'c', 'd')\n",
      "<class 'tuple'>\n"
     ]
    },
    {
     "ename": "TypeError",
     "evalue": "'tuple' object does not support item assignment",
     "output_type": "error",
     "traceback": [
      "\u001b[1;31m---------------------------------------------------------------------------\u001b[0m",
      "\u001b[1;31mTypeError\u001b[0m                                 Traceback (most recent call last)",
      "\u001b[1;32m<ipython-input-98-7684ffc58660>\u001b[0m in \u001b[0;36m<module>\u001b[1;34m\u001b[0m\n\u001b[0;32m      3\u001b[0m \u001b[0mprint\u001b[0m\u001b[1;33m(\u001b[0m\u001b[0mtype\u001b[0m\u001b[1;33m(\u001b[0m\u001b[0ma\u001b[0m\u001b[1;33m)\u001b[0m\u001b[1;33m)\u001b[0m\u001b[1;33m\u001b[0m\u001b[1;33m\u001b[0m\u001b[0m\n\u001b[0;32m      4\u001b[0m \u001b[1;33m\u001b[0m\u001b[0m\n\u001b[1;32m----> 5\u001b[1;33m \u001b[0ma\u001b[0m\u001b[1;33m[\u001b[0m\u001b[1;36m0\u001b[0m\u001b[1;33m]\u001b[0m \u001b[1;33m=\u001b[0m \u001b[1;34m'A'\u001b[0m\u001b[1;33m\u001b[0m\u001b[1;33m\u001b[0m\u001b[0m\n\u001b[0m\u001b[0;32m      6\u001b[0m \u001b[0mprint\u001b[0m\u001b[1;33m(\u001b[0m\u001b[0ma\u001b[0m\u001b[1;33m)\u001b[0m  \u001b[1;31m#수정불가\u001b[0m\u001b[1;33m\u001b[0m\u001b[1;33m\u001b[0m\u001b[0m\n",
      "\u001b[1;31mTypeError\u001b[0m: 'tuple' object does not support item assignment"
     ]
    }
   ],
   "source": [
    "a = ('a', 'b', 'c', 'd')\n",
    "print(a)\n",
    "print(type(a))\n",
    "\n",
    "a[0] = 'A'\n",
    "print(a)  #수정불가"
   ]
  },
  {
   "cell_type": "code",
   "execution_count": 103,
   "metadata": {
    "scrolled": true
   },
   "outputs": [
    {
     "name": "stdout",
     "output_type": "stream",
     "text": [
      "<class 'tuple'>\n",
      "<class 'list'>\n",
      "<class 'tuple'>\n"
     ]
    }
   ],
   "source": [
    "# 형 변환\n",
    "a = ('a', 'b', 'c', 'd')\n",
    "print(type(a))\n",
    "\n",
    "b = list(a)\n",
    "print(type(b))\n",
    "\n",
    "c = tuple(b)\n",
    "print(type(c))\n",
    "\n",
    "# string(숫자형) : 숫자를 문자열로 바꾸어 주는 함수 등등 자료형은 자신의 이름을 가진 함수가 있다.\n"
   ]
  },
  {
   "cell_type": "code",
   "execution_count": 111,
   "metadata": {},
   "outputs": [
    {
     "name": "stdout",
     "output_type": "stream",
     "text": [
      "True True False True False False False\n"
     ]
    }
   ],
   "source": [
    "print(bool(\"hello\"), bool(10), bool([]),bool([1,2]), bool(\"\"), bool(()), bool(None))"
   ]
  },
  {
   "cell_type": "code",
   "execution_count": 126,
   "metadata": {},
   "outputs": [
    {
     "name": "stdout",
     "output_type": "stream",
     "text": [
      "[10, 20, 40]\n",
      "10 20 30\n"
     ]
    }
   ],
   "source": [
    "#packing, unpacking\n",
    "a, b, c = 10, 20, 30\n",
    "\n",
    "a = 10, 20, 30\n",
    "a # 튜플로 패킹이 됨\n",
    "\n",
    "type(a)\n",
    "\n",
    "b = list(a)\n",
    "type(b)\n",
    "\n",
    "b[2] =40\n",
    "print(b)\n",
    "\n",
    "#unpacking\n",
    "a1, a2, a3 = a\n",
    "print(a1, a2, a3)"
   ]
  },
  {
   "cell_type": "markdown",
   "metadata": {},
   "source": [
    "### dict\n",
    " - 거의 데이터 검색의 용도 (좀 더 빠르고, 전문적으로 검색하기 위해 쓸 뿐, 다른 용도로는 거의 안 씀)\n",
    " - 인덱스가 없다.= 순서가 없다. 대신 key로 대응(=해시)함.\n",
    " - { 키:데이터, 키:데이터, ...} 사용\n",
    " "
   ]
  },
  {
   "cell_type": "code",
   "execution_count": 128,
   "metadata": {},
   "outputs": [
    {
     "name": "stdout",
     "output_type": "stream",
     "text": [
      "<class 'dict'>\n"
     ]
    },
    {
     "ename": "KeyError",
     "evalue": "0",
     "output_type": "error",
     "traceback": [
      "\u001b[1;31m---------------------------------------------------------------------------\u001b[0m",
      "\u001b[1;31mKeyError\u001b[0m                                  Traceback (most recent call last)",
      "\u001b[1;32m<ipython-input-128-8332f8061ebb>\u001b[0m in \u001b[0;36m<module>\u001b[1;34m\u001b[0m\n\u001b[0;32m      2\u001b[0m \u001b[0mprint\u001b[0m\u001b[1;33m(\u001b[0m\u001b[0mtype\u001b[0m\u001b[1;33m(\u001b[0m\u001b[0ma\u001b[0m\u001b[1;33m)\u001b[0m\u001b[1;33m)\u001b[0m\u001b[1;33m\u001b[0m\u001b[1;33m\u001b[0m\u001b[0m\n\u001b[0;32m      3\u001b[0m \u001b[1;33m\u001b[0m\u001b[0m\n\u001b[1;32m----> 4\u001b[1;33m \u001b[0mprint\u001b[0m\u001b[1;33m(\u001b[0m\u001b[0ma\u001b[0m\u001b[1;33m[\u001b[0m\u001b[1;36m0\u001b[0m\u001b[1;33m]\u001b[0m\u001b[1;33m)\u001b[0m\u001b[1;33m\u001b[0m\u001b[1;33m\u001b[0m\u001b[0m\n\u001b[0m",
      "\u001b[1;31mKeyError\u001b[0m: 0"
     ]
    }
   ],
   "source": [
    "a = {\"이름\" : \"홍길동\", \"phone\" : \"111-1111\", \"age\" : 25}\n",
    "print(type(a))\n",
    "\n",
    "print(a[0]) #인덱스를 쓰면 에러가 남!"
   ]
  },
  {
   "cell_type": "code",
   "execution_count": 143,
   "metadata": {},
   "outputs": [
    {
     "name": "stdout",
     "output_type": "stream",
     "text": [
      "홍길동\n",
      "a\n",
      "홍길동\n",
      "None\n"
     ]
    },
    {
     "ename": "NameError",
     "evalue": "name 'add' is not defined",
     "output_type": "error",
     "traceback": [
      "\u001b[1;31m---------------------------------------------------------------------------\u001b[0m",
      "\u001b[1;31mNameError\u001b[0m                                 Traceback (most recent call last)",
      "\u001b[1;32m<ipython-input-143-aa5a8fb06db2>\u001b[0m in \u001b[0;36m<module>\u001b[1;34m\u001b[0m\n\u001b[0;32m      9\u001b[0m \u001b[1;31m#차이점\u001b[0m\u001b[1;33m\u001b[0m\u001b[1;33m\u001b[0m\u001b[1;33m\u001b[0m\u001b[0m\n\u001b[0;32m     10\u001b[0m \u001b[0mprint\u001b[0m\u001b[1;33m(\u001b[0m\u001b[0ma\u001b[0m\u001b[1;33m.\u001b[0m\u001b[0mget\u001b[0m\u001b[1;33m(\u001b[0m\u001b[1;34m\"add\"\u001b[0m\u001b[1;33m)\u001b[0m\u001b[1;33m)\u001b[0m\u001b[1;33m\u001b[0m\u001b[1;33m\u001b[0m\u001b[0m\n\u001b[1;32m---> 11\u001b[1;33m \u001b[0mprint\u001b[0m\u001b[1;33m(\u001b[0m\u001b[0ma\u001b[0m\u001b[1;33m[\u001b[0m\u001b[0madd\u001b[0m\u001b[1;33m]\u001b[0m\u001b[1;33m)\u001b[0m\u001b[1;33m\u001b[0m\u001b[1;33m\u001b[0m\u001b[0m\n\u001b[0m",
      "\u001b[1;31mNameError\u001b[0m: name 'add' is not defined"
     ]
    }
   ],
   "source": [
    "a = {\"name\" : \"홍길동\", \"phone\" : \"111-1111\", \"age\" : 25}\n",
    "print(a[\"name\"])\n",
    "\n",
    "a = {\"name\" : \"홍길동\", \"phone\" : \"111-1111\", \"age\" : 25, 1 : \"a\"}\n",
    "print(a[1])\n",
    "\n",
    "print(a.get(\"name\"))\n",
    "\n",
    "#차이점\n",
    "print(a.get(\"add\"))\n",
    "print(a[add])\n"
   ]
  },
  {
   "cell_type": "code",
   "execution_count": 149,
   "metadata": {},
   "outputs": [
    {
     "name": "stdout",
     "output_type": "stream",
     "text": [
      "dict_keys(['name', 'phone', 'age', 1])\n",
      "dict_values(['홍길동', '111-1111', 25, 'a'])\n",
      "dict_items([('name', '홍길동'), ('phone', '111-1111'), ('age', 25), (1, 'a')])\n"
     ]
    }
   ],
   "source": [
    "print(a.keys())\n",
    "print(a.values())\n",
    "print(a.items()) #각각을 튜플로 묶어 리스트로 반환해줌"
   ]
  },
  {
   "cell_type": "code",
   "execution_count": 170,
   "metadata": {},
   "outputs": [
    {
     "name": "stdout",
     "output_type": "stream",
     "text": [
      "<class 'dict_items'>\n",
      "<class 'list'>\n",
      "-----------------------------------------------------------------------------\n",
      "{'name': '임꺽정', 'add': '서울시 강남구'}\n",
      "{'name': '임꺽정', 'add': '서울시 강남구'}\n",
      "{'name': '홍길동', 'age': 25, 'add': '서울시 강남구'}\n"
     ]
    }
   ],
   "source": [
    "print(type(a.items())) #새로운 자료형. 따라서 값 수정 하고 싶으면 list로 바꾸면 됨\n",
    "print(type(list(a.items())))\n",
    "\n",
    "print(\"-----------------------------------------------------------------------------\")\n",
    "\n",
    "#수정 가능\n",
    "a[\"name\"] = \"임꺽정\"\n",
    "print(a)\n",
    "\n",
    "a[\"add\"] = \"서울시 강남구\"\n",
    "print(a)\n",
    "\n",
    "a= dict(name=\"홍길동\", age=25, add=\"서울시 강남구\")\n",
    "print(a)\n"
   ]
  },
  {
   "cell_type": "markdown",
   "metadata": {},
   "source": [
    "### set\n",
    "\n",
    " - {값, ... } 사용\n",
    " - 순서가 없다. (인덱스가 없다 - 찾아갈 수가 없다 따라서 리스트나 튜플로 바꾸어 써야한다\n",
    " - 중복을 허용하지 않는다 (핵심 기능) -> 자연어 처리에서 요긴하게 사용될 것\n",
    " "
   ]
  },
  {
   "cell_type": "code",
   "execution_count": 171,
   "metadata": {},
   "outputs": [
    {
     "name": "stdout",
     "output_type": "stream",
     "text": [
      "{'H', 'l', 'o', 'e'}\n"
     ]
    }
   ],
   "source": [
    "a = set(\"Hello\")\n",
    "print(a)\n",
    "#순서 없음, 중복없음"
   ]
  },
  {
   "cell_type": "code",
   "execution_count": 173,
   "metadata": {},
   "outputs": [
    {
     "name": "stdout",
     "output_type": "stream",
     "text": [
      "{1, 2, 3, 4}\n"
     ]
    },
    {
     "ename": "TypeError",
     "evalue": "'set' object is not subscriptable",
     "output_type": "error",
     "traceback": [
      "\u001b[1;31m---------------------------------------------------------------------------\u001b[0m",
      "\u001b[1;31mTypeError\u001b[0m                                 Traceback (most recent call last)",
      "\u001b[1;32m<ipython-input-173-251e9febea7d>\u001b[0m in \u001b[0;36m<module>\u001b[1;34m\u001b[0m\n\u001b[0;32m      2\u001b[0m \u001b[0mprint\u001b[0m\u001b[1;33m(\u001b[0m\u001b[0ma\u001b[0m\u001b[1;33m)\u001b[0m\u001b[1;33m\u001b[0m\u001b[1;33m\u001b[0m\u001b[0m\n\u001b[0;32m      3\u001b[0m \u001b[1;33m\u001b[0m\u001b[0m\n\u001b[1;32m----> 4\u001b[1;33m \u001b[0mprint\u001b[0m\u001b[1;33m(\u001b[0m\u001b[0ma\u001b[0m\u001b[1;33m[\u001b[0m\u001b[1;36m0\u001b[0m\u001b[1;33m]\u001b[0m\u001b[1;33m)\u001b[0m \u001b[1;31m# 인덱스 없으므로 에러\u001b[0m\u001b[1;33m\u001b[0m\u001b[1;33m\u001b[0m\u001b[0m\n\u001b[0m",
      "\u001b[1;31mTypeError\u001b[0m: 'set' object is not subscriptable"
     ]
    }
   ],
   "source": [
    "a = {1, 2, 3, 4, 3, 2, 4}\n",
    "print(a)\n",
    "\n",
    "print(a[0]) # 인덱스 없으므로 에러"
   ]
  },
  {
   "cell_type": "code",
   "execution_count": 175,
   "metadata": {},
   "outputs": [
    {
     "name": "stdout",
     "output_type": "stream",
     "text": [
      "1\n"
     ]
    }
   ],
   "source": [
    "b = list(a)\n",
    "\n",
    "print(b[0])"
   ]
  },
  {
   "cell_type": "code",
   "execution_count": 177,
   "metadata": {},
   "outputs": [
    {
     "name": "stdout",
     "output_type": "stream",
     "text": [
      "{1, 2, 3, 4, 5, 6, 7, 8, 9}\n",
      "{4, 5, 6}\n",
      "{1, 2, 3}\n",
      "{1, 2, 3, 4, 5, 6, 7, 8, 9}\n",
      "{4, 5, 6}\n",
      "{1, 2, 3}\n"
     ]
    }
   ],
   "source": [
    "s1 = {1, 2, 3, 4, 5, 6}\n",
    "s2 = {4, 5, 6, 7, 8, 9}\n",
    "\n",
    "#합집합 union 교집합 intersection 차집합 difference -> 함수가 길 때는 몇글자 치고 tab키 누르면 목록 나옴.\n",
    "print (s1.union(s2))\n",
    "print (s1.intersection(s2))\n",
    "print (s1.difference(s2))\n",
    "\n",
    "print(s1|s2)\n",
    "print(s1&s2)\n",
    "print(s1-s2)"
   ]
  },
  {
   "cell_type": "code",
   "execution_count": 178,
   "metadata": {},
   "outputs": [
    {
     "name": "stdout",
     "output_type": "stream",
     "text": [
      "{1, 2, 3, 4, 5, 6, 7, 8}\n",
      "{4, 5, 6, 7, 8, 9, 10}\n"
     ]
    }
   ],
   "source": [
    "# 데이터 여러개 추가 : update\n",
    "s1.update({7,8})\n",
    "print(s1)\n",
    "\n",
    "# 데이터 한개 추가 : add\n",
    "s2.add(10)\n",
    "print(s2)"
   ]
  },
  {
   "cell_type": "code",
   "execution_count": 179,
   "metadata": {},
   "outputs": [
    {
     "name": "stdout",
     "output_type": "stream",
     "text": [
      "{1, 2, 3, 4, 5, 6, 7}\n"
     ]
    }
   ],
   "source": [
    "#삭제\n",
    "s1.remove(8)\n",
    "print(s1)"
   ]
  },
  {
   "cell_type": "code",
   "execution_count": null,
   "metadata": {},
   "outputs": [],
   "source": [
    "#정리해보기\n",
    "#수정 가능 : list, dict, set / 수정 불가능 : 그 외 나머지 모두 수정 불가능\n",
    "#순서(인덱스)가 있는 자료형 : string, list , tuple / 없는 자료형 : 그 외 모두"
   ]
  },
  {
   "cell_type": "markdown",
   "metadata": {},
   "source": [
    "## 연산자(Operater)\n",
    "\n",
    "   1) 산술 연산자\n",
    "     *  /(몫)  +  -  %(나머지)  //(나누기, 몫 정수)  **\n",
    "  \n",
    "   2) 비교 연산자\n",
    "     >, <, >=, <=, ==, !=\n",
    "     \n",
    "   3) 논리 연산자 (단락 회로)\n",
    "       이항 연산자              :  and(모두가 T일 때 T = 회로의 직렬연결 생각) , or(하나라도 T일 때 T = 회로의 병렬연결 생각), \n",
    "       단항 연산자(토글 연산자) :  not (참은 거짓으로 거짓은 참으로)\n",
    "     \n",
    "     a  b    a and b   a or b    not a\n",
    "     ----------------------------------\n",
    "     T  T       T        T         F\n",
    "     T  F       F        T         F\n",
    "     F  T       F        T         T\n",
    "     F  F       F        F         T\n",
    "     \n",
    "   4) 대입(치환, 할당) 연산자\n",
    "      =  +=(복합 연산자)  *=  %= ...\n",
    "      \n",
    "      \n",
    "  ##### 연산자 우선순위 \n",
    "  1 -> 2 -> 3 -> 4 (산비논대)\n",
    "  \n",
    "  --------------------------------------------------------------------------------------\n",
    "  \n",
    "   5) 포함 여부 연산자\n",
    "     in     not in\n",
    "     \n",
    "   6) 비트 연산자\n",
    "     &(둘다 1이어야 1)  |(하나만 1이면 1)  ^(xor, exclusive 연산자 : 데이터 암호화, 복호화 시 사용) (같으면 0, 다르면 1)  ~  <<  >>  ...\n",
    "     \n",
    "     a   b   a^b\n",
    "     --------------\n",
    "     T   T    F\n",
    "     T   F    T\n",
    "     F   T    T\n",
    "     F   F    F\n",
    "   "
   ]
  },
  {
   "cell_type": "code",
   "execution_count": 20,
   "metadata": {},
   "outputs": [
    {
     "name": "stdout",
     "output_type": "stream",
     "text": [
      "3.3333333333333335\n",
      "1\n",
      "3\n",
      "1024\n",
      "------------------------------------------------------------------------\n",
      "False\n",
      "True\n",
      "------------------------------------------------------------------------\n",
      "3\n",
      "6\n"
     ]
    }
   ],
   "source": [
    "print(10/3) # 컴퓨터는 원래 실수 연산을 못함. 마지막 결과 5는 오차값, 따라서 몇자리까지 계산 할 것인지 정의를 해야 정확한 계산 가능하다\n",
    "print(10%3)\n",
    "print(10//3)\n",
    "print(2**10)\n",
    "\n",
    "print(\"------------------------------------------------------------------------\")\n",
    "\n",
    "print(100 > 200)\n",
    "print(100 != 200)\n",
    "\n",
    "print(\"------------------------------------------------------------------------\")\n",
    "\n",
    "a = 1\n",
    "a = 2\n",
    "a = 3\n",
    "print(a)\n",
    "\n",
    "b = 1\n",
    "b += 2 # b= b + 2 저장 \n",
    "b += 3 # b= b + 3 저장 \n",
    "print(b)"
   ]
  },
  {
   "cell_type": "code",
   "execution_count": 34,
   "metadata": {},
   "outputs": [
    {
     "name": "stdout",
     "output_type": "stream",
     "text": [
      "False\n",
      "True\n",
      "True\n",
      "False\n",
      "4\n",
      "14\n",
      "10\n"
     ]
    }
   ],
   "source": [
    "print( 6 != 12 and 6 == 12)\n",
    "print( 6 < 12 and 3 <= 12)\n",
    "print( 6 != 12 or 6 == 12)\n",
    "\n",
    "print( 6 != 12 & 6 == 12) # 비트 연산자와 논리연산자 같은 의미로 사용됨.\n",
    "\n",
    "\n",
    "print( 6 & 12)\n",
    "print( 6 | 12)\n",
    "print( 6 ^ 12)"
   ]
  },
  {
   "cell_type": "code",
   "execution_count": 37,
   "metadata": {},
   "outputs": [
    {
     "name": "stdout",
     "output_type": "stream",
     "text": [
      "35494142\n",
      "648723\n"
     ]
    }
   ],
   "source": [
    "password = 648723 \n",
    "key = 34897645\n",
    "\n",
    "encode = password ^ key\n",
    "print(encode)\n",
    "\n",
    "decode =encode ^ key\n",
    "print(decode)"
   ]
  },
  {
   "cell_type": "markdown",
   "metadata": {},
   "source": [
    "# 연습문제\n",
    "\n",
    "1. 두개의 double변수를 이용해서 각각 갤런과 리터값을 저장하고 갤런값을 해당하는 리터값으로 바꿔보자.(1갤런은 3.7584리터이다)\n",
    "\n",
    "2. 달의 중력은 지구 중력의 17% 정도이다. 달에서의 당신의 체중을 계산하는 프로그램을 작성하라.\n",
    "\n",
    "3. 번개가 얼마나 먼 곳에서 발생했나?\n",
    "(번개 소리를 들은 사람이 번개가 치는 곳에서부터 몇 피트 정도 떨어져 있는가를 계산하라. 소리는 공기 중을 약 1,100 피트/초의 속도로 진행한다. - 번개를 본 시각과 천둥소리를 들은 시각 사이의 시간을 알면 거리를 계산할 수 있다. 여기서는 7.2초로 가정하자)\n",
    "\n",
    "4. 동전 교환 프로그램\n",
    "==================\n",
    "교환할 돈은 얼마입니까? 2763 (엔터키)\n",
    "\n",
    "결과:\n",
    "오백원짜리 ===> 5개\n",
    "백원짜리 ===> 2개\n",
    "오십원짜리 ===> 1개\n",
    "십원짜리 ===> 1개\n",
    "나머지 바꾸지 못한 잔돈 ===> 3원"
   ]
  },
  {
   "cell_type": "code",
   "execution_count": null,
   "metadata": {},
   "outputs": [],
   "source": []
  },
  {
   "cell_type": "code",
   "execution_count": null,
   "metadata": {},
   "outputs": [],
   "source": []
  },
  {
   "cell_type": "code",
   "execution_count": null,
   "metadata": {},
   "outputs": [],
   "source": []
  },
  {
   "cell_type": "code",
   "execution_count": null,
   "metadata": {},
   "outputs": [],
   "source": []
  },
  {
   "cell_type": "code",
   "execution_count": null,
   "metadata": {},
   "outputs": [],
   "source": []
  },
  {
   "cell_type": "markdown",
   "metadata": {},
   "source": [
    "## 입력 기능"
   ]
  },
  {
   "cell_type": "code",
   "execution_count": null,
   "metadata": {},
   "outputs": [],
   "source": [
    "num1 = int(input(\"첫번째 숫자?\"))\n",
    "num2 = int(input(\"두번째 숫자?\"))\n",
    "\n",
    "print(\"두 수의 합 : \", num1 + num2)\n"
   ]
  },
  {
   "cell_type": "code",
   "execution_count": null,
   "metadata": {},
   "outputs": [],
   "source": []
  },
  {
   "cell_type": "code",
   "execution_count": null,
   "metadata": {},
   "outputs": [],
   "source": []
  },
  {
   "cell_type": "code",
   "execution_count": 5,
   "metadata": {},
   "outputs": [
    {
     "name": "stdout",
     "output_type": "stream",
     "text": [
      "[1, 2, 3, 4, 5, 6, 7]\n"
     ]
    }
   ],
   "source": [
    "a = [1,1,2,3,4,4,5,5,6,7]\n",
    "aSet=set(a)\n",
    "b = list(aSet)\n",
    "print(b)"
   ]
  },
  {
   "cell_type": "code",
   "execution_count": null,
   "metadata": {},
   "outputs": [],
   "source": []
  }
 ],
 "metadata": {
  "kernelspec": {
   "display_name": "Python 3",
   "language": "python",
   "name": "python3"
  },
  "language_info": {
   "codemirror_mode": {
    "name": "ipython",
    "version": 3
   },
   "file_extension": ".py",
   "mimetype": "text/x-python",
   "name": "python",
   "nbconvert_exporter": "python",
   "pygments_lexer": "ipython3",
   "version": "3.7.6"
  }
 },
 "nbformat": 4,
 "nbformat_minor": 4
}
