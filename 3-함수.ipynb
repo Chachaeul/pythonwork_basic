{
 "cells": [
  {
   "cell_type": "markdown",
   "metadata": {},
   "source": [
    "### 1. 함수의 정의\n",
    "\n",
    "    일정한 작업을 수행하는 코드 블럭\n",
    "    \n",
    "### 2. 함수의 장점\n",
    "    \n",
    "   + 반복적인 코드를 없애주어 코드의 길이를 짧게 만들어준다.\n",
    "   + 프로그램의 유지보수를 쉽게 해준다.\n",
    "   \n",
    "### 3. 함수 정의\n",
    "    \n",
    "     def 함수이름(...) :\n",
    "          코드 정의\n",
    "          ...\n",
    "          [return...]\n",
    "          \n",
    "### 4. 함수 호출 유형 (방식)\n",
    " \n",
    "   + 인자(인수)가 없는 방식\n",
    "   + 인자가 있는 방식\n",
    "   + 반환값(return)이 있는 방식\n",
    "       - return\n",
    "           * 값을 반환 (1개만 반환)\n",
    "           * 함수를 강제 종료\n",
    "           \n",
    "### 5. 함수의 설계\n",
    "   \n",
    "   + 재사용성\n",
    "   + 단일 기능\n",
    "          \n",
    "### 6. 함수의 종류\n",
    "   \n",
    "   + 내장함수 (Built-in) (API = 프로그램을 짤 때 도움을 주는 것들)\n",
    "   + 외장함수 -> pip로 설치하거나 설치가 돼있는 것은 import로 불러와서  사용. (아나콘다가 기본으로 갖고있는 라이브러리 많다)\n",
    "   + 사용자 정의 함수"
   ]
  },
  {
   "cell_type": "code",
   "execution_count": null,
   "metadata": {},
   "outputs": [],
   "source": []
  },
  {
   "cell_type": "code",
   "execution_count": 14,
   "metadata": {},
   "outputs": [],
   "source": [
    "def line(cnt, type) : \n",
    "    for v in range(cnt) :\n",
    "         print(type, end=\"\")\n",
    "            \n",
    "    print()       \n",
    "    "
   ]
  },
  {
   "cell_type": "code",
   "execution_count": 15,
   "metadata": {},
   "outputs": [
    {
     "name": "stdout",
     "output_type": "stream",
     "text": [
      "****************************************\n",
      "     친구 관리 프로그램      \n",
      "--------------------\n",
      "1. 친구 목록 출력\n",
      "2. 친구 추가\n",
      "3. 친구 삭제\n",
      "4. 이름 변경\n",
      "9. 종료\n",
      "////////////////////////////////////////\n"
     ]
    }
   ],
   "source": [
    "line(40,\"*\")\n",
    "print(\"     친구 관리 프로그램      \")\n",
    "line(20, \"-\")\n",
    "print( \"\"\"1. 친구 목록 출력\n",
    "2. 친구 추가\n",
    "3. 친구 삭제\n",
    "4. 이름 변경\n",
    "9. 종료\"\"\")\n",
    "line(40, \"/\")"
   ]
  },
  {
   "cell_type": "code",
   "execution_count": 38,
   "metadata": {},
   "outputs": [],
   "source": [
    "#sub\n",
    "\n",
    "def swap(num1, num2) :\n",
    "    a = num1    \n",
    "    \n",
    "    if num1 == 0 :\n",
    "        return\n",
    "    \n",
    "    num1 = num2\n",
    "    num2=a\n",
    "\n",
    "    return num1,num2 #값 2개가 아닌 num1,num2 한 세트 (튜플)로 패키징하여 1개 값으로 출력\n",
    "\n",
    "# print(num1, num2) 가 sub에 있는지 main에 있는지에 따라 결과값다르다. sub와 main 메모리 자체가 다르기 때문 따라서 리턴 사용"
   ]
  },
  {
   "cell_type": "code",
   "execution_count": 45,
   "metadata": {},
   "outputs": [
    {
     "name": "stdout",
     "output_type": "stream",
     "text": [
      "두 수의 교환\n",
      "(5, 10)\n"
     ]
    }
   ],
   "source": [
    "\n",
    "#main\n",
    "\n",
    "num1 = 10\n",
    "num2 = 5\n",
    "\n",
    "print(\"두 수의 교환\")\n",
    "\n",
    "print(swap(num1,num2))\n",
    "\n",
    "#n1,n2 = swap(num1,num2)  # swap(num1,num2) = return이 가져온 num1,num2 인 것.\n",
    "\n",
    "#print(n1, n2)\n",
    "\n"
   ]
  },
  {
   "cell_type": "markdown",
   "metadata": {},
   "source": [
    "### 파이썬에서 함수를 지원하기 위한 문법"
   ]
  },
  {
   "cell_type": "code",
   "execution_count": 1,
   "metadata": {},
   "outputs": [
    {
     "name": "stdout",
     "output_type": "stream",
     "text": [
      "전국 대표\n",
      "지역대표 홍길동\n",
      "지역대표\n"
     ]
    }
   ],
   "source": [
    "# 변수의 유효(생존)범위 : 지역 변수\n",
    "\n",
    "player = \"전국 대표\" # 함수 내외 모두 사용가능한 변수\n",
    "\n",
    "def funcSoccer() :\n",
    "    global player\n",
    "    name =\"홍길동\"\n",
    "    player = \"지역대표\" \n",
    "    # 지역변수를 만들때 변수 이름이 바깥 변수랑 같으면 함수 내에서는 지역변수로만 사용됨. 따라서 지역변수명 생성 시 주의하기\n",
    "    print(player, name)\n",
    "    \n",
    "#################################################\n",
    "\n",
    "print(player)\n",
    "\n",
    "funcSoccer()\n",
    "\n",
    "print(player)\n",
    "#print (name) -> 에러남. name은 함수 내에서만 사용되는 지역변수"
   ]
  },
  {
   "cell_type": "code",
   "execution_count": 3,
   "metadata": {},
   "outputs": [
    {
     "name": "stdout",
     "output_type": "stream",
     "text": [
      "전국 대표\n",
      "지역대표 홍길동\n",
      "지역대표\n"
     ]
    }
   ],
   "source": [
    "# 변수의 유효(생존)범위 : 지역 변수\n",
    "\n",
    "player = \"전국 대표\" # 함수 내외 모두 사용가능한 변수 : 전역변수\n",
    "\n",
    "def funcSoccer() :\n",
    "     \n",
    "    global player #전역 변수를 가져다 쓰겠다고 선언한것\n",
    "    \n",
    "    name =\"홍길동\"\n",
    "    player = \"지역대표\"  # 전역변수가 다시 정의됨. 앞으로 이게 전역변수가 됨\n",
    "    \n",
    "    print(player, name)\n",
    "    \n",
    "#################################################\n",
    "\n",
    "print(player)\n",
    "\n",
    "funcSoccer()\n",
    "\n",
    "print(player)\n",
    "#print (name) -> 에러남. name은 함수 내에서만 사용되는 지역변수"
   ]
  },
  {
   "cell_type": "code",
   "execution_count": 61,
   "metadata": {},
   "outputs": [
    {
     "name": "stdout",
     "output_type": "stream",
     "text": [
      "xxxxxxxxxxxxxxxxxxxxxxxxxxxxxx\n",
      "안녕하세요~ 서울에 사는 홍길동님 ... 당신의 나이는 40입니다.\n"
     ]
    }
   ],
   "source": [
    "# default 인수\n",
    "# defaul 인수는 뒤에서 부터 차근차근 채워준다 def line(cnt=30, type) 이면 에러가 남\n",
    "\n",
    "def line(type, cnt=30) : \n",
    "    for v in range(cnt) :\n",
    "         print(\"x\", end=\"\")\n",
    "            \n",
    "    print() \n",
    "\n",
    "def hello(name,addr,age=40) :\n",
    "    print(\"안녕하세요~ {}에 사는 {}님 ... 당신의 나이는 {}입니다.\".format(addr,name, age))\n",
    "    \n",
    "##########################\n",
    "\n",
    "#defalt를 지정해 주었기 때문에 값을 넣지 않으면 기본 값으로 수행 됨\n",
    "line(\"*\",)\n",
    "\n",
    "hello(\"홍길동\",\"서울\")"
   ]
  },
  {
   "cell_type": "code",
   "execution_count": 68,
   "metadata": {},
   "outputs": [],
   "source": [
    "def hello(addr,age,name=None) :\n",
    "    if name == None : \n",
    "        print(\" 이름을 입력하세요. \")\n",
    "        return\n",
    "    print(\"안녕하세요~ {}에 사는 {}님 ... 당신의 나이는 {}입니다.\".format(addr,name, age))"
   ]
  },
  {
   "cell_type": "code",
   "execution_count": 69,
   "metadata": {},
   "outputs": [
    {
     "name": "stdout",
     "output_type": "stream",
     "text": [
      " 이름을 입력하세요. \n",
      "안녕하세요~ 마산에 사는 노을맘님 ... 당신의 나이는 40입니다.\n"
     ]
    }
   ],
   "source": [
    "hello(\"서울\",30)\n",
    "hello(age=40,name=\"노을맘\",addr=\"마산\")"
   ]
  },
  {
   "cell_type": "code",
   "execution_count": 91,
   "metadata": {},
   "outputs": [
    {
     "name": "stdout",
     "output_type": "stream",
     "text": [
      "('홍길동', '임꺽정')\n",
      "<class 'tuple'>\n",
      "홍길동\n",
      "홍\n",
      "======================\n",
      "(['홍길동', '임꺽정', '노을'],)\n",
      "<class 'tuple'>\n",
      "['홍길동', '임꺽정', '노을']\n",
      "홍길동\n",
      "======================\n",
      "홍길동 님 환영합니다. 170 60\n",
      "======================\n",
      "1 2 3 4 5\n"
     ]
    }
   ],
   "source": [
    "# 가변 인수 :  변수 앞 기호 * (튜플로 packing, 함수 내에서 사용하면 unpacking) - 맨뒤에서 부터!\n",
    "#확실히 인자를 몇개 받겠다라는 확신이 없을 때. 즉 갯수와 상관없이 알아서 매개변수의 갯수가 변함..\n",
    "# * : packing, unpacking\n",
    "# ** :\n",
    "\n",
    "\n",
    "def greeting(*name) :         #packing\n",
    "    print(name)\n",
    "    print(type(name))\n",
    "    print(name[0])\n",
    "    print(name[0][0])\n",
    "    print(\"======================\")\n",
    "    \n",
    "def greeting2(height, weight, *name ) : \n",
    "    for n in name :\n",
    "        print(n,\"님 환영합니다.\",height, weight )\n",
    "        \n",
    "def as_test(a,b) : \n",
    "    print(a,*b)             #unpacking\n",
    "    \n",
    "##################################\n",
    "\n",
    "greeting(\"홍길동\",\"임꺽정\")\n",
    "greeting([\"홍길동\",\"임꺽정\",\"노을\"])\n",
    "\n",
    "greeting2(170, 60,\"홍길동\")\n",
    "print(\"======================\")\n",
    "\n",
    "as_test(1,(2,3,4,5))"
   ]
  },
  {
   "cell_type": "code",
   "execution_count": 85,
   "metadata": {},
   "outputs": [
    {
     "name": "stdout",
     "output_type": "stream",
     "text": [
      "30 20 ('홍', '임')\n"
     ]
    }
   ],
   "source": [
    "def gr(height, weight, *name ) : \n",
    "    print(height, weight, name )\n",
    "    \n",
    "    \n",
    "gr(30,20,\"홍\",\"임\")    "
   ]
  },
  {
   "cell_type": "code",
   "execution_count": 98,
   "metadata": {},
   "outputs": [
    {
     "name": "stdout",
     "output_type": "stream",
     "text": [
      "80 170\n",
      "{'name': '홍길동', 'age': 20, 'addr': '서울'}\n"
     ]
    }
   ],
   "source": [
    "def as_test2(weight, height, **other) : #*하나라면 other이라는 변수 없으므로 에러.\n",
    "    print(weight, height)\n",
    "    print(other)\n",
    "    \n",
    "##################################\n",
    "\n",
    "as_test2(80, 170, name=\"홍길동\", age=20,addr=\"서울\")\n"
   ]
  },
  {
   "cell_type": "code",
   "execution_count": 100,
   "metadata": {},
   "outputs": [
    {
     "name": "stdout",
     "output_type": "stream",
     "text": [
      "10 2 3 4\n"
     ]
    }
   ],
   "source": [
    "def as_test3(a,b,c,d) :\n",
    "    print(a,b,c,d)\n",
    "\n",
    "    \n",
    "data = {\"c\":3, \"b\":2,\"d\":4}\n",
    "as_test3(10, **data)         #** 전달할때 써서 dict 형식으로 전달 가능.\n"
   ]
  },
  {
   "cell_type": "markdown",
   "metadata": {},
   "source": [
    "### 내장 함수"
   ]
  },
  {
   "cell_type": "code",
   "execution_count": 109,
   "metadata": {},
   "outputs": [
    {
     "name": "stdout",
     "output_type": "stream",
     "text": [
      "True\n",
      "False\n",
      "True\n",
      "================================\n",
      "True\n",
      "True\n"
     ]
    }
   ],
   "source": [
    "# all(), any() _ and 와 or 연산자를 함수로 만든 것.\n",
    "\n",
    "print(all([1,2,3,-1,-2]))\n",
    "print(all([1,2,0,-1,-2]))\n",
    "print(all([1,2,'a',-1,-2]))\n",
    "print(\"================================\")\n",
    "print(any([1,2,3,-1,-2]))\n",
    "print(any([1,2,0,-1,-2]))"
   ]
  },
  {
   "cell_type": "code",
   "execution_count": 112,
   "metadata": {},
   "outputs": [
    {
     "name": "stdout",
     "output_type": "stream",
     "text": [
      "(0, '홍길동')\n",
      "(1, '임꺽정')\n",
      "(2, 3.14)\n",
      "(3, 1000)\n",
      "(4, True)\n"
     ]
    }
   ],
   "source": [
    "#enumerate(iterator) : 순서 있는 자료형(튜플, 리스트, str)을 입력받아 인덱스 값을 포함해서 리턴\n",
    "\n",
    "enum1 = enumerate([\"홍길동\", \"임꺽정\", 3.14, 1000, True])\n",
    "\n",
    "for a in enum1 : \n",
    "    print(a)\n"
   ]
  },
  {
   "cell_type": "code",
   "execution_count": 113,
   "metadata": {},
   "outputs": [
    {
     "name": "stdout",
     "output_type": "stream",
     "text": [
      "0\n",
      "홍길동\n",
      "1\n",
      "임꺽정\n",
      "2\n",
      "3.14\n",
      "3\n",
      "1000\n",
      "4\n",
      "True\n"
     ]
    }
   ],
   "source": [
    "enum1 = enumerate([\"홍길동\", \"임꺽정\", 3.14, 1000, True])\n",
    "\n",
    "for a,b in enum1 : \n",
    "    print(a)\n",
    "    print(b)"
   ]
  },
  {
   "cell_type": "code",
   "execution_count": 4,
   "metadata": {},
   "outputs": [
    {
     "name": "stdout",
     "output_type": "stream",
     "text": [
      "3+4\n",
      "7\n",
      "True\n"
     ]
    }
   ],
   "source": [
    "#eval(expressin) : 표현식을 파이썬에서 실행가능하게 만들어주는 역할\n",
    "\n",
    "print(\"3+4\")\n",
    "print(eval(\"3+4\"))\n",
    "\n",
    "print(eval(\"all([1,2,3,-1,-2])\"))"
   ]
  },
  {
   "cell_type": "code",
   "execution_count": 13,
   "metadata": {},
   "outputs": [
    {
     "name": "stdout",
     "output_type": "stream",
     "text": [
      "12\n",
      "[12, 22, 32, 42, 52]\n",
      "------------------\n",
      "<map object at 0x000001F9105DA408>\n",
      "[12, 22, 32, 42, 52]\n"
     ]
    }
   ],
   "source": [
    "#map(function,iterator ) : 집합의 각 요소가 함수에 의해 수행된 결과를 묶어서 리턴\n",
    "\n",
    "def calc(x) :\n",
    "    return x+2\n",
    "\n",
    "a = calc(10)\n",
    "print(a)\n",
    "\n",
    "data = [10, 20, 30, 40, 50]\n",
    "\n",
    "#-------------------------------\n",
    "\n",
    "result =[]\n",
    "\n",
    "for i in data :\n",
    "    \n",
    "    a = calc(i)\n",
    "    result.append(a)\n",
    "    \n",
    "print(result)    \n",
    "\n",
    "\n",
    "print(\"------------------\")\n",
    "\n",
    "print(map(calc, data)) # 파이썬 3 - > 데이터가 저장된 주소만 나온다\n",
    "\n",
    "print(list(map(calc, data))) \n",
    "# 함수() - > 지금 바로 호출 , 괄호없는 함수 -> 나중에 호출할 것이다. 함수의 주소만.\n",
    "# map이라는 함수가 calc함수를 호출한것 따라서 data 만큼 함수를 호출해서 차곡차곡 함수 진행, 리스트에 저장함.\n",
    "print(\"------------------\")\n",
    "\n",
    "#lambda 매개변수1, 매개변수2,...: 표현식\n",
    "\n",
    "print(map(lambda x : x+2, data))\n"
   ]
  },
  {
   "cell_type": "code",
   "execution_count": 20,
   "metadata": {},
   "outputs": [
    {
     "name": "stdout",
     "output_type": "stream",
     "text": [
      "[12, 22, 32, 42, 52]\n"
     ]
    }
   ],
   "source": [
    "data = [10, 20, 30, 40, 50]\n",
    "\n",
    "print(list(map(lambda x : x+2, data)))\n"
   ]
  },
  {
   "cell_type": "code",
   "execution_count": 23,
   "metadata": {},
   "outputs": [
    {
     "name": "stdout",
     "output_type": "stream",
     "text": [
      "[('a1', 'b1'), ('a2', 'b2'), ('a3', 'b3')]\n",
      "[('a1', 'b1', 'c1'), ('a2', 'b2', 'c2'), ('a3', 'b3', 'c3')]\n",
      "[('a1', 'd1'), ('a2', 'd2'), ('a3', 'd3')]\n"
     ]
    }
   ],
   "source": [
    "# zip(iterator) : 동일한 갯수로 이루어진 자료형을 묶어주는 역할\n",
    "\n",
    "a = [\"a1\", \"a2\", \"a3\"]\n",
    "b = [\"b1\", \"b2\", \"b3\"]\n",
    "c = [\"c1\", \"c2\", \"c3\"]\n",
    "d = [\"d1\", \"d2\", \"d3\",\"d4\"]\n",
    "\n",
    "\n",
    "print(list(zip(a,b)))\n",
    "print(list(zip(a,b,c)))\n",
    "print(list(zip(a,d)))"
   ]
  },
  {
   "cell_type": "code",
   "execution_count": 24,
   "metadata": {},
   "outputs": [
    {
     "name": "stdout",
     "output_type": "stream",
     "text": [
      "0 a1 b1 c1\n",
      "1 a2 b2 c2\n",
      "2 a3 b3 c3\n"
     ]
    }
   ],
   "source": [
    "for num, (a,b,c) in enumerate(zip(a,b,c)) : \n",
    "    print(num,a,b,c)"
   ]
  },
  {
   "cell_type": "code",
   "execution_count": 26,
   "metadata": {},
   "outputs": [
    {
     "name": "stdout",
     "output_type": "stream",
     "text": [
      "[(0, ('a', 'b', 'c')), (1, ('3', '3', '3'))]\n"
     ]
    }
   ],
   "source": [
    "print(list(enumerate(zip(a,b,c))))"
   ]
  },
  {
   "cell_type": "code",
   "execution_count": null,
   "metadata": {},
   "outputs": [],
   "source": []
  },
  {
   "cell_type": "code",
   "execution_count": null,
   "metadata": {},
   "outputs": [],
   "source": []
  },
  {
   "cell_type": "markdown",
   "metadata": {},
   "source": [
    "### 외장함수\n",
    "\n",
    "    +  pip,conda 함수의 설치를 도와줌\n",
    "    +  import 설치가 돼있는 함수를 불러옴"
   ]
  },
  {
   "cell_type": "code",
   "execution_count": 3,
   "metadata": {},
   "outputs": [
    {
     "data": {
      "text/plain": [
       "2.0"
      ]
     },
     "execution_count": 3,
     "metadata": {},
     "output_type": "execute_result"
    }
   ],
   "source": [
    "#pip list : 어떤 함수들이 있는지 리스트를 보여줌 -> 도스창에 입력\n",
    "\n",
    "import math\n",
    "dir(math)\n",
    "\n",
    "math.sqrt(4)  #-> 외장 함수를 쓸 때는 \"외장함수패키지 제목.함수()\"\""
   ]
  },
  {
   "cell_type": "code",
   "execution_count": 23,
   "metadata": {},
   "outputs": [
    {
     "name": "stdout",
     "output_type": "stream",
     "text": [
      "2020-05-13\n",
      "2020\n",
      "2020-05-13 10:42:26.597955\n",
      "1 day, 0:00:00\n",
      "2020-05-14\n",
      "2020-05-13 02:42:26.597955\n",
      "<class 'datetime.date'>\n",
      "05/13/20\n",
      "<class 'str'>\n",
      "<class 'datetime.datetime'>\n",
      "2020-05-13 10:42:26\n",
      "<class 'str'>\n"
     ]
    }
   ],
   "source": [
    "import datetime\n",
    "dir(datetime)\n",
    "\n",
    "#오늘 날짜\n",
    "to = datetime.date.today()\n",
    "print(to)\n",
    "print(to.year) #뒤에 ()없다. 함수가 아니라 속성\n",
    "\n",
    "#현재 시간\n",
    "c = datetime.datetime.today()\n",
    "print(c)\n",
    "\n",
    "#날짜와 시간 연산\n",
    "var1 = datetime.timedelta(days=1)\n",
    "print(var1)\n",
    "print(to+var1)\n",
    "\n",
    "var2 =datetime.timedelta(hours = -8)\n",
    "print(c+var2)\n",
    "\n",
    "#날짜 형식\n",
    "print(type(to))\n",
    "print(to.strftime(\"%m/%d/%y\"))\n",
    "print(type(to.strftime(\"%m/%d/%y\")))\n",
    "\n",
    "#날짜 형식의 변환 : strftime() : 날짜를 문자 형식으로 변환\n",
    "print(type(c))\n",
    "print(c.strftime(\"%Y-%m-%d %H:%M:%S\"))\n",
    "\n",
    "strdate = \"2020-05-13 10:35:08\"\n",
    "print(type(strdate))\n",
    "dstr = datetime.datetime.strptime(strdate,\"%Y-%m-%d %H:%M:%S\")"
   ]
  },
  {
   "cell_type": "markdown",
   "metadata": {},
   "source": [
    "### 명령행 인자 (Command Line Argument0\n"
   ]
  },
  {
   "cell_type": "code",
   "execution_count": 28,
   "metadata": {},
   "outputs": [
    {
     "name": "stdout",
     "output_type": "stream",
     "text": [
      "['C:\\\\Users\\\\user\\\\noeul\\\\pythonwork\\\\basic', 'C:\\\\Users\\\\user\\\\anaconda3\\\\python37.zip', 'C:\\\\Users\\\\user\\\\anaconda3\\\\DLLs', 'C:\\\\Users\\\\user\\\\anaconda3\\\\lib', 'C:\\\\Users\\\\user\\\\anaconda3', '', 'C:\\\\Users\\\\user\\\\anaconda3\\\\lib\\\\site-packages', 'C:\\\\Users\\\\user\\\\anaconda3\\\\lib\\\\site-packages\\\\win32', 'C:\\\\Users\\\\user\\\\anaconda3\\\\lib\\\\site-packages\\\\win32\\\\lib', 'C:\\\\Users\\\\user\\\\anaconda3\\\\lib\\\\site-packages\\\\Pythonwin', 'C:\\\\Users\\\\user\\\\anaconda3\\\\lib\\\\site-packages\\\\IPython\\\\extensions', 'C:\\\\Users\\\\user\\\\.ipython']\n",
      "win32\n",
      "3.7.6 (default, Jan  8 2020, 20:23:39) [MSC v.1916 64 bit (AMD64)]\n"
     ]
    }
   ],
   "source": [
    "import sys\n",
    "print(sys.path)\n",
    "print(sys.platform)\n",
    "print(sys.version)\n",
    "\n",
    "#sys.exit() 프로그램 종료 시 사용"
   ]
  },
  {
   "cell_type": "code",
   "execution_count": null,
   "metadata": {},
   "outputs": [],
   "source": []
  },
  {
   "cell_type": "code",
   "execution_count": null,
   "metadata": {},
   "outputs": [],
   "source": []
  },
  {
   "cell_type": "code",
   "execution_count": null,
   "metadata": {},
   "outputs": [],
   "source": []
  },
  {
   "cell_type": "markdown",
   "metadata": {},
   "source": [
    "\"\"\"\n",
    "PhoneBook.py \n",
    "---------------\n",
    "데이터는 임의로 준비\n",
    "    홍길동, 010-111-1111, 서울시 강남구\n",
    "    임꺽정, 010-222-2222, 서울시 강북구\n",
    "    신돌석, 010-333-3333, 서울시 강동구\n",
    "    홍경래, 010-444-4444, 서울시 강서구\n",
    "\n",
    "프로그램 실행 결과 \n",
    "------------------\n",
    "python PhoneBook.py 신돌석\n",
    "\n",
    "이름 : 신돌석\n",
    "전화 : 010-333-3333\n",
    "주소 : 서울시 강동구\n",
    "\"\"\""
   ]
  },
  {
   "cell_type": "code",
   "execution_count": null,
   "metadata": {},
   "outputs": [],
   "source": []
  },
  {
   "cell_type": "code",
   "execution_count": null,
   "metadata": {},
   "outputs": [],
   "source": []
  },
  {
   "cell_type": "markdown",
   "metadata": {},
   "source": [
    "### 파일 처리 함수\n",
    "\n",
    "   + open(파일명(경로포함), 모드 : 파일을 로드 (load) \n",
    "    데이터는 보조기억장치에 저장됨\n",
    "    명령을 수행하는 곳은 cpu , cpu는 ram 메모리에서만 작용. 따라서 보조기억장치에서 주기억장치로 옮기는 것 \n",
    "    모드 : 읽기용인지 쓰기용인지 \n",
    "     r, w(= 기존내용 버리고 쓰기), a (=append 추가해서 쓰기), rb(=읽기. binary 이진수로. 속도 빠름), wb, ab \n",
    "     \n",
    "   + close() : 파일을 언로드\n",
    "   \n",
    "   + 읽어올 때 : readline() : 한줄씩 읽겠다, readlines() : 전체라인을 한줄씩 다 읽어서 리스트로 쌓아감,                        read() : 한번에 읽어서 하나의 문자열로 묶음\n",
    "   + 저장할 때 : write()  : write(   + \",\")가능\n",
    "   \n",
    " ---------------\n",
    " \n",
    "   1) 순차 처리 방식(원칙적)\n",
    "   2) 임의로 접근할 수 있는 함수 제공 : seek(), tell()\n",
    "   "
   ]
  },
  {
   "cell_type": "code",
   "execution_count": 37,
   "metadata": {},
   "outputs": [
    {
     "name": "stdout",
     "output_type": "stream",
     "text": [
      "슬아 : 남자\n"
     ]
    }
   ],
   "source": [
    "a = {1:'노을', 2: '슬아'}\n",
    "b = {1:'여자', 2: '남자'}\n",
    "print(a[2],\":\",b[2])"
   ]
  },
  {
   "cell_type": "code",
   "execution_count": 39,
   "metadata": {},
   "outputs": [
    {
     "name": "stdout",
     "output_type": "stream",
     "text": [
      "<_io.TextIOWrapper name='C:\\\\Users\\\\user\\\\noeul\\\\pythonwork\\\\filetest.txt' mode='r' encoding='cp949'>\n"
     ]
    }
   ],
   "source": [
    "f =open(\"C:\\\\Users\\\\user\\\\noeul\\\\pythonwork\\\\filetest.txt\",\"r\") # \\ 특수문자로 인식하므로 두번\n",
    "print(f)"
   ]
  },
  {
   "cell_type": "code",
   "execution_count": 1,
   "metadata": {},
   "outputs": [
    {
     "name": "stdout",
     "output_type": "stream",
     "text": [
      "<_io.TextIOWrapper name='..\\\\filetest.txt' mode='r' encoding='cp949'>\n",
      "abcdefg\n",
      "\n",
      "hijklmn\n",
      "\n",
      "opqrstu\n",
      "\n"
     ]
    }
   ],
   "source": [
    "f =open(\"..\\\\filetest.txt\",\"r\") # 경로 복잡. .. 이상 으로 상위폴더 표현가능 \n",
    "print(f)\n",
    "print(f.readline())\n",
    "print(f.readline())\n",
    "print(f.readline())\n",
    "f.close()"
   ]
  },
  {
   "cell_type": "code",
   "execution_count": 4,
   "metadata": {},
   "outputs": [
    {
     "name": "stdout",
     "output_type": "stream",
     "text": [
      "abcdefg\n",
      "\n",
      "hijklmn\n",
      "\n",
      "opqrstu\n",
      "\n",
      "가나다라\n",
      "\n",
      "마바사아\n",
      "\n",
      "자차카타\n",
      "<class 'str'>\n"
     ]
    }
   ],
   "source": [
    "f =open(\"..\\\\filetest.txt\",\"r\") \n",
    "\n",
    "while True :\n",
    "    line = f.readline()\n",
    "    \n",
    "    if not line :\n",
    "        break\n",
    "\n",
    "    print(line)    \n",
    "f.close()\n",
    "\n",
    "\n",
    "print(type(line))"
   ]
  },
  {
   "cell_type": "code",
   "execution_count": 5,
   "metadata": {},
   "outputs": [
    {
     "name": "stdout",
     "output_type": "stream",
     "text": [
      "abcdefg\n",
      "\n",
      "hijklmn\n",
      "\n",
      "opqrstu\n",
      "\n",
      "가나다라\n",
      "\n",
      "마바사아\n",
      "\n",
      "자차카타\n"
     ]
    }
   ],
   "source": [
    "#readlines\n",
    "\n",
    "f =open(\"..\\\\filetest.txt\",\"r\")\n",
    "\n",
    "lines=f.readlines()\n",
    "\n",
    "f.close()\n",
    "\n",
    "for v in lines :\n",
    "    print(v)\n"
   ]
  },
  {
   "cell_type": "code",
   "execution_count": 6,
   "metadata": {},
   "outputs": [
    {
     "name": "stdout",
     "output_type": "stream",
     "text": [
      "['abcdefg\\n', 'hijklmn\\n', 'opqrstu\\n', '가나다라\\n', '마바사아\\n', '자차카타']\n"
     ]
    }
   ],
   "source": [
    "f =open(\"..\\\\filetest.txt\",\"r\")\n",
    "\n",
    "lines=f.readlines()\n",
    "print(lines)\n",
    "f.close()"
   ]
  },
  {
   "cell_type": "code",
   "execution_count": 11,
   "metadata": {},
   "outputs": [
    {
     "name": "stdout",
     "output_type": "stream",
     "text": [
      "abcdefg\n",
      "hijklmn\n",
      "opqrstu\n",
      "가나다라\n",
      "마바사아\n",
      "자차카타\n",
      "=======\n",
      "abcdefg\n",
      "hijklmn\n",
      "=======\n",
      "0  :  abcdefg\n",
      "1  :  hijklmn\n",
      "2  :  opqrstu\n",
      "3  :  가나다라\n",
      "4  :  마바사아\n",
      "5  :  자차카타\n",
      "=======\n",
      "0  :  abcdefg\n",
      "1  :  hijklmn\n",
      "2  :  opqrstu\n",
      "3  :  가나다라\n",
      "4  :  마바사아\n",
      "5  :  자차카타\n"
     ]
    }
   ],
   "source": [
    "#read\n",
    "\n",
    "f =open(\"..\\\\filetest.txt\",\"r\")\n",
    "\n",
    "data=f.read()\n",
    "print(data)\n",
    "\n",
    "print(\"=======\")\n",
    "sdata= data.split('\\n')\n",
    "print(sdata[0])\n",
    "print(sdata[1])\n",
    "\n",
    "f.close()\n",
    "\n",
    "print(\"=======\")\n",
    "\n",
    "count = 0\n",
    "for l in sdata : \n",
    "    print(count, \" : \", l)\n",
    "    count += 1\n",
    "\n",
    "print(\"=======\")\n",
    "\n",
    "for count, l in enumerate(sdata) :\n",
    "    print(count, \" : \", l)"
   ]
  },
  {
   "cell_type": "code",
   "execution_count": 15,
   "metadata": {},
   "outputs": [
    {
     "name": "stdout",
     "output_type": "stream",
     "text": [
      "<_io.TextIOWrapper name='..\\\\filetest2.txt' mode='w' encoding='cp949'>\n"
     ]
    }
   ],
   "source": [
    "f =open(\"..\\\\filetest2.txt+\",\"w\")\n",
    "\n",
    "print(f)\n",
    "\n",
    "f.write(\"이름 : 홍길동, \")\n",
    "f.write(\"전화 : 010-3333 ,\")\n",
    "f.write(\"주소 : 서울시 강남구\\n\")\n",
    "\n",
    "f.write(\"이름 : 임꺽정, \")\n",
    "f.write(\"전화 : 010-3322 ,\")\n",
    "f.write(\"주소 : 서울시 노원구\\n\")\n",
    "\n",
    "f.close()"
   ]
  },
  {
   "cell_type": "code",
   "execution_count": 16,
   "metadata": {},
   "outputs": [],
   "source": [
    "f =open(\"..\\\\filetest2.txt\",\"a\")\n",
    "\n",
    "f.write(\"이름 : 유비, \")\n",
    "f.write(\"전화 : 010-3333 ,\")\n",
    "f.write(\"주소 : 서울시 강남구\\n\")\n",
    "\n",
    "f.close()"
   ]
  },
  {
   "cell_type": "code",
   "execution_count": 31,
   "metadata": {},
   "outputs": [
    {
     "name": "stdout",
     "output_type": "stream",
     "text": [
      "<_io.TextIOWrapper name='.\\\\data\\\\filetest3.txt' mode='w' encoding='cp949'>\n"
     ]
    }
   ],
   "source": [
    "#csv 형식으로 저장) ,를 기준으로 save하는 파일 형식\n",
    "\n",
    "nums = [10, 20, 30, 40, 50, 60, 70, 80, 90]\n",
    "count = len(nums)\n",
    "\n",
    "#f = open(\"C:\\\\Users\\\\user\\\\noeul\\\\pythonwork\\\\basic\\\\data\\\\filetest3.txt\",\"w\")  #절대 경로\n",
    "#f = open(\"data\\\\filetest3.txt\",\"w\") #상대경로\n",
    "\n",
    "f = open(\".\\\\data\\\\filetest3.txt\",\"w\")\n",
    "print(f)\n",
    "\n",
    "# f.write(nums) #오류. num안의 자료를 꺼내서 저장해야\n",
    "\n",
    "for v in range(count) :\n",
    "    if v != count-1 :         # v=0~8 , count = 1~9 따라서 마지막 , 떼기 위해 위치 맞추려면 count-1=v (8)\n",
    "        f.write(str(nums[v]) + \",\") #num[v] -> 숫자 . 따라서 문자열인 ,와 합치려면 문자로. str함수 사용.\n",
    "    \n",
    "    else : \n",
    "        f.write(str(nums[v]))\n",
    "\n",
    "f.close()"
   ]
  },
  {
   "cell_type": "code",
   "execution_count": 33,
   "metadata": {},
   "outputs": [],
   "source": [
    "nums = [10, 20, 30, 40, 50, 60, 70, 80, 90]\n",
    "count = len(nums)\n",
    "\n",
    "\n",
    "with open(\".\\\\data\\\\filetest3.txt\",\"w\") as f : #별도의 블록을 잡는다\n",
    "    for v in range(count) :\n",
    "        if v != count-1 :        \n",
    "            f.write(str(nums[v]) + \",\") \n",
    "    \n",
    "        else : \n",
    "            f.write(str(nums[v]))    \n",
    "        \n",
    "        \n",
    "        #close를 하지 않아도 with가 끝나면 자동 종료 됨."
   ]
  },
  {
   "cell_type": "code",
   "execution_count": 52,
   "metadata": {},
   "outputs": [
    {
     "name": "stdout",
     "output_type": "stream",
     "text": [
      "파일 포인터 :  0\n",
      "abcdefg\n",
      "hijklmn\n",
      "opqrstu\n",
      "가나다라\n",
      "마바사아\n",
      "자차카타\n",
      "----------------------\n",
      "파일 포인터 :  55\n",
      "ijklmn\n",
      "\n"
     ]
    }
   ],
   "source": [
    "# 파일 임의 접근 : seek(): 내가 원하는 위치에 포인터를 옮길 수 있다, tell() : 현재 파일 포인터의 위치를 알려줌\n",
    "# seek(a,b)첫번째 인자 a: 옮기고자 하는 위치, 두번째 인자 b: 기준 위치\n",
    "# 기준b -> 0(default, 파일의 시작위치), 1(파일의 현재 위치), 2(파일의 끝위치)\n",
    "with open(\"..\\\\filetest.txt\",\"r\") as f : \n",
    "    \n",
    "    print(\"파일 포인터 : \", f.tell())\n",
    "    for line in f :\n",
    "        print(line, end=\"\")\n",
    "    \n",
    "    print(\"\\n----------------------\")\n",
    "    \n",
    "    \n",
    "    print(\"파일 포인터 : \", f.tell())\n",
    "    f.seek(10,0)                     # 엔터키도 포인터로 포함.!!!!!!!!!!!!!!!   \n",
    "    print(f.readline())"
   ]
  },
  {
   "cell_type": "code",
   "execution_count": 56,
   "metadata": {},
   "outputs": [
    {
     "name": "stdout",
     "output_type": "stream",
     "text": [
      "['1-변수와 자료형.ipynb', '2 - 제어문.ipynb', '3-함수.ipynb', 'data', 'Untitled.ipynb', '연습문제-1.ipynb', '연습문제를 함수로 풀기.ipynb']\n",
      "['1-변수와 자료형.ipynb', '2 - 제어문.ipynb', '3-함수.ipynb', 'Untitled.ipynb', '연습문제-1.ipynb', '연습문제를 함수로 풀기.ipynb']\n",
      "['1-변수와 자료형.ipynb', '2 - 제어문.ipynb', '3-함수.ipynb', 'Untitled.ipynb', '연습문제-1.ipynb', '연습문제를 함수로 풀기.ipynb']\n"
     ]
    }
   ],
   "source": [
    "#동시에 여러 개의 파일을 불러오는 방법\n",
    "\n",
    "import glob\n",
    "\n",
    "files = glob.glob(\"*\") #* 와일드 카드 file,folder 다 불러옴\n",
    "files1 = glob.glob(\"*.ipynb\")# 확장자가 ip~만 가져옴\n",
    "files2 = glob.glob(\"*.*\") # 확장자가 있는(=파일)만 가져옴\n",
    "print(files)\n",
    "print(files1)\n",
    "print(files2)"
   ]
  },
  {
   "cell_type": "code",
   "execution_count": null,
   "metadata": {},
   "outputs": [],
   "source": []
  },
  {
   "cell_type": "markdown",
   "metadata": {},
   "source": [
    "### 재귀 함수(recursive function)"
   ]
  },
  {
   "cell_type": "code",
   "execution_count": 61,
   "metadata": {},
   "outputs": [
    {
     "name": "stdout",
     "output_type": "stream",
     "text": [
      "5\n",
      "4\n",
      "3\n",
      "2\n",
      "1\n",
      "완료\n"
     ]
    }
   ],
   "source": [
    "def countdown(n) :\n",
    "    if n == 0 :\n",
    "        print(\"완료\")\n",
    "    else :\n",
    "        print(n)\n",
    "        countdown(n-1)      #스스로 반복을 돈다. 내가 나를 호출해서 반복의 효과를 줌. \n",
    "        #but 반복하면서 작업 위치(메모리)가 계속 복제되어 생김. 오래 반복 - > stack 메모리가 소진. stack overflow\n",
    "        \n",
    "        \n",
    "        \n",
    "########################################\n",
    "\n",
    "\n",
    "\n",
    "#for i in range(5,-1,-1) : \n",
    "        \n",
    "#    countdown(i)\n",
    "\n",
    "\n",
    "countdown(5)\n"
   ]
  },
  {
   "cell_type": "code",
   "execution_count": null,
   "metadata": {},
   "outputs": [],
   "source": []
  }
 ],
 "metadata": {
  "kernelspec": {
   "display_name": "Python 3",
   "language": "python",
   "name": "python3"
  },
  "language_info": {
   "codemirror_mode": {
    "name": "ipython",
    "version": 3
   },
   "file_extension": ".py",
   "mimetype": "text/x-python",
   "name": "python",
   "nbconvert_exporter": "python",
   "pygments_lexer": "ipython3",
   "version": "3.7.6"
  }
 },
 "nbformat": 4,
 "nbformat_minor": 4
}
