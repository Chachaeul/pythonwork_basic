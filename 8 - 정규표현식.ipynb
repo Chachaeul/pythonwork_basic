{
 "cells": [
  {
   "cell_type": "markdown",
   "metadata": {},
   "source": [
    "## Regular Expression\n",
    "\n",
    "\n",
    "         - https://docs.python.org/3/library/re.html\n",
    "         \n",
    "         - 반복 \n",
    "             * : 0회 이상 반복할 때\n",
    "                 ab* : a, ab, abb, abbb, abbbb, ....\n",
    "                 lo*l : ll, lol, lool, looool,....\n",
    "                 \n",
    "             + : 1회 이상\n",
    "                 ab+ : ab, abb, abbb,...\n",
    "                 \n",
    "             ? : 0번 또는 한번만 반복 (해당문자가 있거나 없거나)   \n",
    "                 ab? : a, ab \n",
    "                 \n",
    "             {m} : m회 반복\n",
    "                 a{3}bc : aaabc\n",
    "                 \n",
    "             {m,n} : m회부터 n회까지 반복\n",
    "                 a{2,3}bc : aabc, aaabc\n",
    "                 \n",
    "                 \n",
    "                 \n",
    "          - 매칭 메타문자\n",
    "              . : 줄바꿈 문자를 제외한 모든 문자와 매치\n",
    "                  a.b : abb, acb, anb, a+b, ....\n",
    "                  \n",
    "                  (.개수 = 문자 개수)\n",
    "                  \n",
    "              ^ : 문자열의 시작과 매치\n",
    "                  ^a : abm, ad, ahhhe, ...\n",
    "                  \n",
    "              $ :  문자열의 마지막과 매치\n",
    "                  a$ : fkljfkla, esja, jjja\n",
    "                  \n",
    "              []: 문자 집합 중 '한' 문자를 매치 \n",
    "              [abc]xyz : axyz, bxyz, cxyz\n",
    "              [a-z]bc : abc, bbc, cbc,... zbc\n",
    "              [a-zA-Z0-9]hello : ahello, Ahello,.., 0hello,..\n",
    "              [a | b]hello : ahello, bhello \n",
    "              a[.]b : a.b \n",
    "              [a^bc]hello : ahello, chello            ^는 앞에 $는 뒤에!!!!!!!!!!!\n",
    "              \n",
    "              \n",
    "         - 특수문자 (\\문자)   \n",
    "             \\d : 숫자와 대치\n",
    "                 ab\\d\\dc : ab00c, ab76c\n",
    "                 = ab[0-9][0-9]c \n",
    "                 \n",
    "                 \n",
    "             \\D : 숫자가 아닌 문자와 매치\n",
    "             \n",
    "             \\s : 공백과 매치\n",
    "             \n",
    "             \\S : 공백이 아닌 모든 문자\n",
    "             \n",
    "             \\w : 숫자 또는 문자와 매치 (특수문자를 제외한 일반적인 숫자, 문자) 앞서 대괄호와 일치\n",
    "             \n",
    "             \\W : 숫자 또는 문자가 아닌 모든 문자 (특수문자)\n",
    "             \n",
    "             \n",
    "         - 파이썬에서 제공하는 객체 또는 메서드   \n",
    "             compile() : 정규 표현식 객체 생성\n",
    "             match() : 문자열의 처음부터 정규식과 매치되는지 조사\n",
    "             search() : 문자열 전체를 검색하여 정규식과 매치되는지 조사\n",
    "             split() : 문자열 분리\n",
    "             findall() : 정규식과 매치되는 모든 문자열을 리스트로 리턴\n",
    "             finditer() : 정규식과 매치되는 모슨 문자열을 반복 가능한 객체로 리턴\n",
    "             sub() : 변경, 교체\n",
    "             ...\n",
    "                 \n",
    "                 \n",
    "         "
   ]
  },
  {
   "cell_type": "code",
   "execution_count": 32,
   "metadata": {},
   "outputs": [
    {
     "name": "stdout",
     "output_type": "stream",
     "text": [
      "<re.Match object; span=(0, 15), match='3 abc d|adjlaj:'>\n",
      "None\n",
      "True\n",
      "---------------------\n",
      "True\n",
      "False\n",
      "True\n",
      "---------------------\n",
      "True\n",
      "True\n",
      "True\n"
     ]
    }
   ],
   "source": [
    "import re\n",
    "\n",
    "#객체 생성    p=re.compile     p.match\n",
    "p = re.compile(\"[0-9] [a-z]+ .+\")\n",
    "\n",
    "print(p.match(\"3 abc d|adjlaj:\"))  #공백 자리도 똑같이\n",
    "print(p.match(\"abc 10 d|adjlaj:\"))\n",
    "print(bool(p.match(\"3 abc  \")))\n",
    "\n",
    "\n",
    "print('---------------------')\n",
    "#메서드 사용  re.match\n",
    "\n",
    "print(bool(re.match(\"[0-9]*th\", \"35th\")))\n",
    "print(bool(re.match(\"[0-9]*th\", \"  35th\")))   #처음부터 매치되는지 조사\n",
    "\n",
    "\n",
    "print(bool(re.search(\"[0-9]*th\", \" sgsA 35th  dssfaf\")))  #전체적으로 봤을 때 맞는 문자있으면 찾음\n",
    "\n",
    "\n",
    "print('---------------------')\n",
    "\n",
    "\n",
    "\n",
    "#\"010-2222-3333\"\n",
    "\n",
    "\n",
    "print(bool(re.match(\"\\d\\d\\d-[0-9]{3,4}-\\d\\d\\d\\d\",\"010-9436-9547\")))\n",
    "print(bool(re.match(\"[0-9]{3}-[0-9]{3,4}-[0-9]{4}\",\"010-9436-9547\")))\n",
    "print(bool(re.match(\"[0-9]*[0-9]*[0-9]*\",\"010-9436-9547\")))"
   ]
  },
  {
   "cell_type": "code",
   "execution_count": 34,
   "metadata": {},
   "outputs": [
    {
     "name": "stdout",
     "output_type": "stream",
     "text": [
      "['life', 'is', 'too', 'short']\n",
      "<callable_iterator object at 0x0000019A381615C8>\n",
      "<re.Match object; span=(0, 4), match='life'>\n",
      "<re.Match object; span=(10, 12), match='is'>\n",
      "<re.Match object; span=(17, 20), match='too'>\n",
      "<re.Match object; span=(24, 29), match='short'>\n"
     ]
    }
   ],
   "source": [
    "p= re.compile(\"[a-z]+\")\n",
    "\n",
    "m = p.findall(\"life 3333 is 222 too 10 short\")\n",
    "print(m)\n",
    "\n",
    "\n",
    "\n",
    "# 전체 d 중 내가 찾으려는 것이 어디 있는지도 알 수 있다.\n",
    "\n",
    "m1= p.finditer(\"life 3333 is 222 too 10 short\")\n",
    "print(m1)\n",
    "\n",
    "\n",
    "for i in m1:\n",
    "    print(i)"
   ]
  },
  {
   "cell_type": "code",
   "execution_count": 47,
   "metadata": {},
   "outputs": [
    {
     "name": "stdout",
     "output_type": "stream",
     "text": [
      "['1', '2', '3', '4', '5', '5', '5', '6']\n",
      "['1234', '555', '6']\n",
      "['12', '34', '55']\n",
      "['123', '555']\n",
      "['123', '4', '555', '6']\n"
     ]
    }
   ],
   "source": [
    "data = \"1234 abc가나다ABC_555_6\"    #객체 생성x 따라서 패턴 지정해야함\n",
    "\n",
    "print(re.findall(\"[0-9]\",data))\n",
    "print(re.findall(\"[0-9]+\",data))\n",
    "print(re.findall(\"[0-9]{2}\",data))\n",
    "print(re.findall(\"[0-9]{2,3}\",data))\n",
    "print(re.findall(\"[0-9]{1,3}\",data))"
   ]
  },
  {
   "cell_type": "code",
   "execution_count": 45,
   "metadata": {},
   "outputs": [
    {
     "name": "stdout",
     "output_type": "stream",
     "text": [
      "True\n"
     ]
    }
   ],
   "source": [
    "print(bool(re.match(\"\\d{2,3}-\\d{3,4}-\\d{4}\",\"010-956-8976\")))"
   ]
  },
  {
   "cell_type": "code",
   "execution_count": 127,
   "metadata": {},
   "outputs": [
    {
     "name": "stdout",
     "output_type": "stream",
     "text": [
      "['abc', 'mbc']\n",
      "['1234']\n",
      "['234 abc가나다ABC_555_6 mbc air air dasfair ', '4326']\n",
      "['abc', 'air', 'air', 'asf', 'air']\n",
      "[]\n",
      "['air', 'air', 'dasfair']\n"
     ]
    }
   ],
   "source": [
    "data = \"1234 abc가나다ABC_555_6 mbc air air dasfair 14326\"\n",
    "print(re.findall(\".bc\", data))\n",
    "print(re.findall(\"^1[0-9]*\", data))\n",
    "print(re.findall(\"[^1]+\", data))\n",
    "print(re.findall(\"a..\", data))\n",
    "print(re.findall(\"[a-z]*air$\", data))\n",
    "print(re.findall(\"[a-z]*air\", data))"
   ]
  },
  {
   "cell_type": "code",
   "execution_count": 61,
   "metadata": {},
   "outputs": [
    {
     "name": "stdout",
     "output_type": "stream",
     "text": [
      "['8', '0', '1', '0', '0', '5', '0']\n",
      "['8', '0', '1', '0', '0', '5', '0']\n",
      "['80', '10', '50']\n",
      "['80', '10', '50']\n"
     ]
    }
   ],
   "source": [
    "data = \"tom 80, james 100, oscar 50\"\n",
    "\n",
    "print(re.findall(\"\\d\",data))\n",
    "print(re.findall(\"[0-9]\",data))\n",
    "print(re.findall(\"\\d\\d\",data))\n",
    "print(re.findall(\"\\d{2}\",data))"
   ]
  },
  {
   "cell_type": "code",
   "execution_count": 144,
   "metadata": {},
   "outputs": [
    {
     "name": "stdout",
     "output_type": "stream",
     "text": [
      "['ir', 'ir', 'pr']\n"
     ]
    }
   ],
   "source": [
    "data = \"1234 abc가나다ABC_555_6 mbc air hdair dasfopr\"\n",
    "print(re.findall(\".r\", data))"
   ]
  },
  {
   "cell_type": "code",
   "execution_count": 84,
   "metadata": {},
   "outputs": [
    {
     "name": "stdout",
     "output_type": "stream",
     "text": [
      "['mbc,kbs', 'sbs:ytn']\n",
      "['mbc', 'kbs sbs:ytn']\n",
      "['mbc', 'kbs', 'sbs', 'ytn']\n",
      "['mbc', 'kbs', 'sbs', 'ytn']\n"
     ]
    }
   ],
   "source": [
    "#split()\n",
    "\n",
    "print(\"mbc,kbs sbs:ytn\".split(\" \"))\n",
    "print(\"mbc,kbs sbs:ytn\".split(\",\"))\n",
    "\n",
    "print(re.split(\"\\W+\",\"mbc,kbs sbs:ytn\"))   #\\W  숫자 문자 제외 다 분할 기준\n",
    "print(re.split(\"\\,|:| \",\"mbc,kbs sbs:ytn\")) # | 또는 활용"
   ]
  },
  {
   "cell_type": "code",
   "execution_count": 97,
   "metadata": {},
   "outputs": [
    {
     "name": "stdout",
     "output_type": "stream",
     "text": [
      "888 abc가나다ABC_888\n"
     ]
    }
   ],
   "source": [
    "#sub\n",
    "\n",
    "m=re.sub(\"[0-9]+\",\"888\",\"1234 abc가나다ABC_569\")\n",
    "print(m)\n"
   ]
  },
  {
   "cell_type": "code",
   "execution_count": 111,
   "metadata": {},
   "outputs": [
    {
     "data": {
      "text/plain": [
       "'mbc,kbs,sbs,ytn'"
      ]
     },
     "execution_count": 111,
     "metadata": {},
     "output_type": "execute_result"
    }
   ],
   "source": [
    "#mbc,kbs sbs:ytn의 구분기호를 ,로 통일하세요\n",
    "\n",
    "re.sub(\"\\W+\",\",\",\"mbc,kbs sbs:ytn\")"
   ]
  },
  {
   "cell_type": "code",
   "execution_count": 124,
   "metadata": {},
   "outputs": [
    {
     "name": "stdout",
     "output_type": "stream",
     "text": [
      "<re.Match object; span=(0, 6), match='python'>\n",
      "python\n",
      "0\n",
      "6\n",
      "(0, 6)\n",
      "========================================\n",
      "<re.Match object; span=(0, 6), match='python'>\n",
      "python\n",
      "0\n",
      "6\n",
      "(0, 6)\n"
     ]
    }
   ],
   "source": [
    "#match 객체의 메서드\n",
    "\n",
    "\n",
    "p=re.compile(\"[a-z]+\")\n",
    "\n",
    "m = p.match(\"python 123 !? phthon\")   #중복데이터는 처음만\n",
    "print(m)\n",
    "print(m.group())\n",
    "print(m.start())\n",
    "print(m.end())\n",
    "print(m.span())\n",
    "\n",
    "print(\"========================================\")\n",
    "\n",
    "m1 = p.search(\"python 123 !? phthon\")\n",
    "print(m1)\n",
    "print(m1.group())\n",
    "print(m1.start())\n",
    "print(m1.end())\n",
    "print(m1.span())"
   ]
  },
  {
   "cell_type": "code",
   "execution_count": 131,
   "metadata": {},
   "outputs": [
    {
     "name": "stdout",
     "output_type": "stream",
     "text": [
      "<re.Match object; span=(0, 3), match='a+b'>\n",
      "<re.Match object; span=(0, 3), match='a\\nb'>\n"
     ]
    }
   ],
   "source": [
    "#컴파일 옵션 : S(or DOTALL), I(or IGNORECASE 대소문자구분x), M(or MULTILINE 여러줄)\n",
    "\n",
    "p=re.compile(\"a.b\", re.S)   # . 줄바꿈을 제외한 모든 문자 찾음\n",
    "\n",
    "m1 = p.match(\"a+b\")\n",
    "print(m1)\n",
    "\n",
    "\n",
    "m2 = p.match(\"a\\nb\")\n",
    "print(m2)"
   ]
  },
  {
   "cell_type": "code",
   "execution_count": 140,
   "metadata": {},
   "outputs": [
    {
     "name": "stdout",
     "output_type": "stream",
     "text": [
      "<re.Match object; span=(0, 1), match='p'>\n",
      "<re.Match object; span=(0, 1), match='P'>\n"
     ]
    }
   ],
   "source": [
    "#p = re.compile(\"[a-zA-Z]\")\n",
    "p = re.compile(\"[a-z]\",re.I)\n",
    "print(p.match(\"python\"))\n",
    "print(p.match(\"Python\"))"
   ]
  },
  {
   "cell_type": "code",
   "execution_count": 161,
   "metadata": {},
   "outputs": [
    {
     "name": "stdout",
     "output_type": "stream",
     "text": [
      "['python one', 'python two', 'python three']\n"
     ]
    }
   ],
   "source": [
    "data = \"\"\"python one\n",
    "life is too short\n",
    "python two\n",
    "you need python\n",
    "python three\"\"\"\n",
    "\n",
    "\n",
    "p = re.compile(\"^[p|P]ython\\s\\w+\",re.M)\n",
    "print(p.findall(data))\n"
   ]
  },
  {
   "cell_type": "code",
   "execution_count": 175,
   "metadata": {},
   "outputs": [
    {
     "name": "stdout",
     "output_type": "stream",
     "text": [
      "['abc1.html', 'abc2.html', 'abc3.html']\n"
     ]
    }
   ],
   "source": [
    "data=\"\"\"\n",
    "<a href=\"abc1.html\">abc1</a>\n",
    "<a href=\"abc2.html\">abc2</a>\n",
    "<a href=\"abc3.html\">abc3</a>\n",
    "\"\"\"\n",
    "#[\"abc1.html\", \"abc2.html\", \"abc3.html\"]\n",
    "\n",
    "p = re.findall('href=\"(.+)\"', data)\n",
    "\n",
    "print(p)\n"
   ]
  },
  {
   "cell_type": "code",
   "execution_count": null,
   "metadata": {},
   "outputs": [],
   "source": []
  }
 ],
 "metadata": {
  "kernelspec": {
   "display_name": "Python 3",
   "language": "python",
   "name": "python3"
  },
  "language_info": {
   "codemirror_mode": {
    "name": "ipython",
    "version": 3
   },
   "file_extension": ".py",
   "mimetype": "text/x-python",
   "name": "python",
   "nbconvert_exporter": "python",
   "pygments_lexer": "ipython3",
   "version": "3.7.6"
  }
 },
 "nbformat": 4,
 "nbformat_minor": 4
}
