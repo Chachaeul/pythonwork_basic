{
 "cells": [
  {
   "cell_type": "markdown",
   "metadata": {},
   "source": [
    "# 모듈\n",
    "\n",
    "\n",
    "### 정의\n",
    "    \n",
    "     - 함수나 변수. 클래스들을 모아 놓은 파일 : .py\n",
    "     - 비슷하거나 관련된 일을 하는 함수, 클래스, 상수값들을 모아서 하나의 파일에 저장하고 추후에 재사용하기 위한 목적\n",
    "       \n",
    "### 종류\n",
    "    \n",
    "     - 표준 모듈    \n",
    "     - 사용자 정의 모듈\n",
    "     - 서드 파티 모듈\n",
    "    \n",
    "    \n",
    "### 모듈 사용 방법\n",
    "    - import 모듈명\n",
    "    - import 모듈명 as 별칭    \n",
    "       모듈 이름 간략화\n",
    "    - from 모듈명 import 변수,함수,클래스\n",
    "       뒤로 모듈이름 안써도 됨\n",
    "    - from 모듈명 import *\n",
    "    - from 모듈명 import 변수/함수/클래스 as 별칭\n",
    "    \n",
    "    \n",
    "###  위치를 참조하는 방법 \n",
    "\n",
    "    - 같은 경로\n",
    "    - 기존 모듈 설치 경로\n",
    "    - path 경로\n",
    "        -sys.path.append(\"경로 추가\")\n",
    "        -제어판>환경변수 : pythonpath \n",
    "        \n",
    "# 패키지\n",
    "    \n",
    "    - 여러 모듈을 모아놓은 폴더"
   ]
  },
  {
   "cell_type": "code",
   "execution_count": 1,
   "metadata": {},
   "outputs": [],
   "source": [
    "import moduleTest1   # 경로를 옮기면 에러남. basic폴더에 모듈두면 실행될 것"
   ]
  },
  {
   "cell_type": "code",
   "execution_count": 2,
   "metadata": {},
   "outputs": [
    {
     "name": "stdout",
     "output_type": "stream",
     "text": [
      "func1함수 호출 :  10 20\n",
      "홍길동 30\n",
      "파이썬 주식회사\n"
     ]
    }
   ],
   "source": [
    "moduleTest1.func1(10,20)\n",
    "\n",
    "\n",
    "ob1=moduleTest1.Ctest1(\"홍길동\",30)\n",
    "ob1.show()\n",
    "\n",
    "print(moduleTest1.companyName)\n"
   ]
  },
  {
   "cell_type": "code",
   "execution_count": null,
   "metadata": {},
   "outputs": [],
   "source": [
    "import moduleTest1 as mt\n",
    "\n",
    "mt.func1(10,20) \n",
    "\n",
    "\n",
    "ob1=mt.Ctest1(\"홍길동\",30)\n",
    "ob1.show()\n",
    "\n",
    "print(mt.companyName)\n"
   ]
  },
  {
   "cell_type": "code",
   "execution_count": null,
   "metadata": {},
   "outputs": [],
   "source": [
    "from moduleTest1 import companyName,func1,Ctest1\n",
    "#더이상 모듈이름 안써도 됨\n",
    "\n",
    "# from 모듈명 import *\n",
    "\n",
    "func1(10,20) \n",
    "\n",
    "\n",
    "ob1=Ctest1(\"홍길동\",30)\n",
    "ob1.show()\n",
    "\n",
    "print(companyName)"
   ]
  },
  {
   "cell_type": "code",
   "execution_count": null,
   "metadata": {},
   "outputs": [],
   "source": [
    "from moduleTest1 import companyName as cname\n",
    "\n",
    "print(cname)"
   ]
  },
  {
   "cell_type": "code",
   "execution_count": null,
   "metadata": {},
   "outputs": [],
   "source": [
    "import sys\n",
    "\n",
    "print(sys.path)\n",
    "sys.path.append(\"C:\\\\Users\\\\user\\\\noeul\\\\pythonwork\\\\mylib\") #\\\\ 두개로 바꿔줘야!!!!!!!!\n",
    "print(\"----------------\")\n",
    "print(sys.path)"
   ]
  },
  {
   "cell_type": "code",
   "execution_count": null,
   "metadata": {},
   "outputs": [],
   "source": [
    "import sys\n",
    "sys.path.append(\"C:\\\\Users\\\\user\\\\noeul\\\\pythonwork\\\\mylib\")   \n",
    "# 컴퓨터를 실행할 때 마다 넣어줘야함. 일시적인 코드\n",
    "\n",
    "import moduleTest1\n",
    "\n",
    "moduleTest1.func1(10,20)\n",
    "\n",
    "\n",
    "ob1=moduleTest1.Ctest1(\"홍길동\",30)\n",
    "ob1.show()\n",
    "\n",
    "print(moduleTest1.companyName)\n"
   ]
  },
  {
   "cell_type": "code",
   "execution_count": null,
   "metadata": {},
   "outputs": [],
   "source": [
    "#파이참에서\n",
    "\n",
    "\n",
    "###################################\n",
    "\"\"\"\n",
    "현재 폴더 내에\n",
    "    game 폴더 생성\n",
    "    game 폴더 내에\n",
    "        sound 폴더 생성\n",
    "        graphic 폴더 생성\n",
    "        \n",
    "ModuleTesst\n",
    "    main.py\n",
    "        game\n",
    "            sound\n",
    "                echo.py\n",
    "            graphic\n",
    "                render.py      \n",
    "        \n",
    "        \n",
    "\"\"\"\n",
    "\"\"\"\n",
    "import game.graphic.render\n",
    "\n",
    "game.graphic.render.render_test()   #s 넘길다 #game 다른폴더에 있으면 path 설정해줘야\n",
    "\"\"\"\n"
   ]
  },
  {
   "cell_type": "code",
   "execution_count": null,
   "metadata": {},
   "outputs": [],
   "source": [
    "print(__name__)"
   ]
  },
  {
   "cell_type": "code",
   "execution_count": null,
   "metadata": {},
   "outputs": [],
   "source": [
    "\"\"\"\n",
    "import game.graphic.render as render\n",
    "def main():\n",
    "    print(__name__)\n",
    "    print(render.__name__)\n",
    "    \n",
    "    if __name__ == \"__main__\" : \n",
    "        print(\"메인 프로그램으로써 필요한 기능 실행\")\n",
    "        \n",
    "    else :\n",
    "        print(\"모듈로써 필요한 기능 실행\")\n",
    "\n",
    "\n",
    "main()\n",
    "\"\"\""
   ]
  },
  {
   "cell_type": "code",
   "execution_count": null,
   "metadata": {},
   "outputs": [],
   "source": []
  }
 ],
 "metadata": {
  "kernelspec": {
   "display_name": "Python 3",
   "language": "python",
   "name": "python3"
  },
  "language_info": {
   "codemirror_mode": {
    "name": "ipython",
    "version": 3
   },
   "file_extension": ".py",
   "mimetype": "text/x-python",
   "name": "python",
   "nbconvert_exporter": "python",
   "pygments_lexer": "ipython3",
   "version": "3.7.6"
  }
 },
 "nbformat": 4,
 "nbformat_minor": 4
}
